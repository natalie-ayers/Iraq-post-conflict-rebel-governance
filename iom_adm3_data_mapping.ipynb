{
 "cells": [
  {
   "cell_type": "code",
   "execution_count": 2,
   "metadata": {},
   "outputs": [],
   "source": [
    "import pandas as pd\n",
    "import geopandas as gpd\n",
    "import numpy as np"
   ]
  },
  {
   "cell_type": "code",
   "execution_count": 3,
   "metadata": {},
   "outputs": [],
   "source": [
    "source_dir = '/mnt/c/Users/natra/Documents/Research/Iraq-post-conflict-rebel-governance'"
   ]
  },
  {
   "cell_type": "code",
   "execution_count": 3,
   "metadata": {},
   "outputs": [],
   "source": [
    "iom_2022_file = source_dir + '/data/iom/2022_collapsed.csv'\n",
    "iom_2022 = pd.read_csv(iom_2022_file)"
   ]
  },
  {
   "cell_type": "code",
   "execution_count": 4,
   "metadata": {},
   "outputs": [
    {
     "data": {
      "text/html": [
       "<div>\n",
       "<style scoped>\n",
       "    .dataframe tbody tr th:only-of-type {\n",
       "        vertical-align: middle;\n",
       "    }\n",
       "\n",
       "    .dataframe tbody tr th {\n",
       "        vertical-align: top;\n",
       "    }\n",
       "\n",
       "    .dataframe thead th {\n",
       "        text-align: right;\n",
       "    }\n",
       "</style>\n",
       "<table border=\"1\" class=\"dataframe\">\n",
       "  <thead>\n",
       "    <tr style=\"text-align: right;\">\n",
       "      <th></th>\n",
       "      <th>LocationID</th>\n",
       "      <th>Governorate</th>\n",
       "      <th>District</th>\n",
       "      <th>Subdistrict</th>\n",
       "      <th>LocationType</th>\n",
       "      <th>PlaceType</th>\n",
       "      <th>LocationEn</th>\n",
       "      <th>isgov</th>\n",
       "    </tr>\n",
       "  </thead>\n",
       "  <tbody>\n",
       "    <tr>\n",
       "      <th>0</th>\n",
       "      <td>2101002</td>\n",
       "      <td>Anbar</td>\n",
       "      <td>Al-Ka'im</td>\n",
       "      <td>Al-Obiadi</td>\n",
       "      <td>Peri-urban</td>\n",
       "      <td>Neighborhood</td>\n",
       "      <td>Al Aubaidi Al Qadima</td>\n",
       "      <td>1</td>\n",
       "    </tr>\n",
       "    <tr>\n",
       "      <th>1</th>\n",
       "      <td>2101033</td>\n",
       "      <td>Anbar</td>\n",
       "      <td>Al-Ka'im</td>\n",
       "      <td>Al-Obiadi</td>\n",
       "      <td>Peri-urban</td>\n",
       "      <td>Neighborhood</td>\n",
       "      <td>Tiwaan</td>\n",
       "      <td>1</td>\n",
       "    </tr>\n",
       "    <tr>\n",
       "      <th>2</th>\n",
       "      <td>2101032</td>\n",
       "      <td>Anbar</td>\n",
       "      <td>Al-Ka'im</td>\n",
       "      <td>Al-Obiadi</td>\n",
       "      <td>Rural</td>\n",
       "      <td>Village</td>\n",
       "      <td>Al Masharea</td>\n",
       "      <td>1</td>\n",
       "    </tr>\n",
       "    <tr>\n",
       "      <th>3</th>\n",
       "      <td>2101010</td>\n",
       "      <td>Anbar</td>\n",
       "      <td>Al-Ka'im</td>\n",
       "      <td>Al-Obiadi</td>\n",
       "      <td>Rural</td>\n",
       "      <td>Village</td>\n",
       "      <td>Al Zalla</td>\n",
       "      <td>1</td>\n",
       "    </tr>\n",
       "    <tr>\n",
       "      <th>4</th>\n",
       "      <td>2101034</td>\n",
       "      <td>Anbar</td>\n",
       "      <td>Al-Ka'im</td>\n",
       "      <td>Al-Obiadi</td>\n",
       "      <td>Rural</td>\n",
       "      <td>Village</td>\n",
       "      <td>Dghima village</td>\n",
       "      <td>1</td>\n",
       "    </tr>\n",
       "  </tbody>\n",
       "</table>\n",
       "</div>"
      ],
      "text/plain": [
       "   LocationID Governorate  District Subdistrict LocationType     PlaceType  \\\n",
       "0     2101002       Anbar  Al-Ka'im   Al-Obiadi   Peri-urban  Neighborhood   \n",
       "1     2101033       Anbar  Al-Ka'im   Al-Obiadi   Peri-urban  Neighborhood   \n",
       "2     2101032       Anbar  Al-Ka'im   Al-Obiadi        Rural       Village   \n",
       "3     2101010       Anbar  Al-Ka'im   Al-Obiadi        Rural       Village   \n",
       "4     2101034       Anbar  Al-Ka'im   Al-Obiadi        Rural       Village   \n",
       "\n",
       "             LocationEn  isgov  \n",
       "0  Al Aubaidi Al Qadima      1  \n",
       "1                Tiwaan      1  \n",
       "2           Al Masharea      1  \n",
       "3              Al Zalla      1  \n",
       "4        Dghima village      1  "
      ]
     },
     "execution_count": 4,
     "metadata": {},
     "output_type": "execute_result"
    }
   ],
   "source": [
    "iom_2022.head()"
   ]
  },
  {
   "cell_type": "code",
   "execution_count": 5,
   "metadata": {},
   "outputs": [
    {
     "name": "stdout",
     "output_type": "stream",
     "text": [
      "264\n",
      "94\n",
      "18\n"
     ]
    }
   ],
   "source": [
    "print(len(iom_2022.Subdistrict.unique()))\n",
    "print(len(iom_2022.District.unique()))\n",
    "print(len(iom_2022.Governorate.unique()))"
   ]
  },
  {
   "cell_type": "code",
   "execution_count": 4,
   "metadata": {},
   "outputs": [],
   "source": [
    "iraq_shp_adm3_loc = source_dir + '/data/geo_boundaries/irq-administrative-divisions-shapefiles/irq_admbnda_adm3_cso_20190603.shp'\n",
    "iraq_shp_adm3 = gpd.read_file(iraq_shp_adm3_loc)"
   ]
  },
  {
   "cell_type": "code",
   "execution_count": 5,
   "metadata": {},
   "outputs": [],
   "source": [
    "adm3_ar_places = iraq_shp_adm3.loc[:,('ADM3_AR')]"
   ]
  },
  {
   "cell_type": "code",
   "execution_count": 7,
   "metadata": {},
   "outputs": [
    {
     "name": "stdout",
     "output_type": "stream",
     "text": [
      "294\n",
      "101\n",
      "18\n"
     ]
    }
   ],
   "source": [
    "print(len(iraq_shp_adm3.ADM3_EN.unique()))\n",
    "print(len(iraq_shp_adm3.ADM2_EN.unique()))\n",
    "print(len(iraq_shp_adm3.ADM1_EN.unique()))"
   ]
  },
  {
   "cell_type": "markdown",
   "metadata": {},
   "source": [
    "Governorates correspond to Adm 1 locations - 18 total\n",
    "\n",
    "Districts - there are 105 in the overall IOM DTM data, but only 101 in Admin 2.\n",
    "\n",
    "Subdistricts - correspond to Adm 3 locations.  \n",
    "\n",
    "Location - according to IOM's definition, corresponds to the 4th official administrative division (https://iraqdtm.iom.int/MasterList#Methodology). However, the shapefiles for these adm 4 locations do not seem to be available (as described in the Metadata page for the Iraq Populated Places database OCHA created: https://data.humdata.org/dataset/iraq-populated-places-2021, where they say \"If, in the future, administrative level 4 boundaries are obtained, these P-codes may need to be regenerated.\")"
   ]
  },
  {
   "cell_type": "markdown",
   "metadata": {},
   "source": [
    "## Spatial Joins"
   ]
  },
  {
   "cell_type": "markdown",
   "metadata": {},
   "source": [
    "### Joining IOM Location IDs to Adm 3 Areas"
   ]
  },
  {
   "cell_type": "code",
   "execution_count": 5,
   "metadata": {},
   "outputs": [
    {
     "name": "stdout",
     "output_type": "stream",
     "text": [
      "(3717, 7)\n"
     ]
    },
    {
     "data": {
      "text/html": [
       "<div>\n",
       "<style scoped>\n",
       "    .dataframe tbody tr th:only-of-type {\n",
       "        vertical-align: middle;\n",
       "    }\n",
       "\n",
       "    .dataframe tbody tr th {\n",
       "        vertical-align: top;\n",
       "    }\n",
       "\n",
       "    .dataframe thead th {\n",
       "        text-align: right;\n",
       "    }\n",
       "</style>\n",
       "<table border=\"1\" class=\"dataframe\">\n",
       "  <thead>\n",
       "    <tr style=\"text-align: right;\">\n",
       "      <th></th>\n",
       "      <th>LocationID</th>\n",
       "      <th>PlaceID</th>\n",
       "      <th>Sub-district</th>\n",
       "      <th>LocationType</th>\n",
       "      <th>PlaceType</th>\n",
       "      <th>Latitude</th>\n",
       "      <th>Longitude</th>\n",
       "    </tr>\n",
       "  </thead>\n",
       "  <tbody>\n",
       "    <tr>\n",
       "      <th>0</th>\n",
       "      <td>2101002</td>\n",
       "      <td>23647</td>\n",
       "      <td>Al-Obiadi</td>\n",
       "      <td>Peri-urban</td>\n",
       "      <td>Neighborhood</td>\n",
       "      <td>34.420203</td>\n",
       "      <td>41.201494</td>\n",
       "    </tr>\n",
       "    <tr>\n",
       "      <th>1</th>\n",
       "      <td>2101037</td>\n",
       "      <td>33778</td>\n",
       "      <td>Al-Obiadi</td>\n",
       "      <td>Urban</td>\n",
       "      <td>Neighborhood</td>\n",
       "      <td>34.433043</td>\n",
       "      <td>41.234143</td>\n",
       "    </tr>\n",
       "  </tbody>\n",
       "</table>\n",
       "</div>"
      ],
      "text/plain": [
       "   LocationID  PlaceID Sub-district LocationType     PlaceType   Latitude  \\\n",
       "0     2101002    23647    Al-Obiadi   Peri-urban  Neighborhood  34.420203   \n",
       "1     2101037    33778    Al-Obiadi        Urban  Neighborhood  34.433043   \n",
       "\n",
       "   Longitude  \n",
       "0  41.201494  \n",
       "1  41.234143  "
      ]
     },
     "execution_count": 5,
     "metadata": {},
     "output_type": "execute_result"
    }
   ],
   "source": [
    "iom_int_locs_file = source_dir + '/data/iom/iom_raw.xlsx'\n",
    "\n",
    "iom_int_locs = pd.read_excel(iom_int_locs_file, sheet_name=\"Full Dataset\",header=1)\n",
    "iom_all_locs = iom_int_locs.loc[:,('LocationID','PlaceID','Sub-district','LocationType','PlaceType','Latitude','Longitude')]\n",
    "# confirmed that these were unique\n",
    "print(iom_all_locs.shape)\n",
    "iom_all_locs.head(2)"
   ]
  },
  {
   "cell_type": "code",
   "execution_count": 6,
   "metadata": {},
   "outputs": [
    {
     "data": {
      "text/html": [
       "<div>\n",
       "<style scoped>\n",
       "    .dataframe tbody tr th:only-of-type {\n",
       "        vertical-align: middle;\n",
       "    }\n",
       "\n",
       "    .dataframe tbody tr th {\n",
       "        vertical-align: top;\n",
       "    }\n",
       "\n",
       "    .dataframe thead th {\n",
       "        text-align: right;\n",
       "    }\n",
       "</style>\n",
       "<table border=\"1\" class=\"dataframe\">\n",
       "  <thead>\n",
       "    <tr style=\"text-align: right;\">\n",
       "      <th></th>\n",
       "      <th>LocationID</th>\n",
       "      <th>PlaceID</th>\n",
       "      <th>Sub-district</th>\n",
       "      <th>LocationType</th>\n",
       "      <th>PlaceType</th>\n",
       "      <th>geometry</th>\n",
       "    </tr>\n",
       "  </thead>\n",
       "  <tbody>\n",
       "    <tr>\n",
       "      <th>0</th>\n",
       "      <td>2101002</td>\n",
       "      <td>23647</td>\n",
       "      <td>Al-Obiadi</td>\n",
       "      <td>Peri-urban</td>\n",
       "      <td>Neighborhood</td>\n",
       "      <td>POINT (41.20149 34.42020)</td>\n",
       "    </tr>\n",
       "    <tr>\n",
       "      <th>1</th>\n",
       "      <td>2101037</td>\n",
       "      <td>33778</td>\n",
       "      <td>Al-Obiadi</td>\n",
       "      <td>Urban</td>\n",
       "      <td>Neighborhood</td>\n",
       "      <td>POINT (41.23414 34.43304)</td>\n",
       "    </tr>\n",
       "    <tr>\n",
       "      <th>2</th>\n",
       "      <td>2101006</td>\n",
       "      <td>90</td>\n",
       "      <td>Al-Obiadi</td>\n",
       "      <td>Urban</td>\n",
       "      <td>Neighborhood</td>\n",
       "      <td>POINT (41.22633 34.42921)</td>\n",
       "    </tr>\n",
       "    <tr>\n",
       "      <th>3</th>\n",
       "      <td>2101007</td>\n",
       "      <td>23797</td>\n",
       "      <td>Al-Obiadi</td>\n",
       "      <td>Urban</td>\n",
       "      <td>Neighborhood</td>\n",
       "      <td>POINT (41.22601 34.43465)</td>\n",
       "    </tr>\n",
       "    <tr>\n",
       "      <th>4</th>\n",
       "      <td>2101008</td>\n",
       "      <td>164</td>\n",
       "      <td>Al-Obiadi</td>\n",
       "      <td>Urban</td>\n",
       "      <td>Neighborhood</td>\n",
       "      <td>POINT (41.23290 34.43660)</td>\n",
       "    </tr>\n",
       "  </tbody>\n",
       "</table>\n",
       "</div>"
      ],
      "text/plain": [
       "   LocationID  PlaceID Sub-district LocationType     PlaceType  \\\n",
       "0     2101002    23647    Al-Obiadi   Peri-urban  Neighborhood   \n",
       "1     2101037    33778    Al-Obiadi        Urban  Neighborhood   \n",
       "2     2101006       90    Al-Obiadi        Urban  Neighborhood   \n",
       "3     2101007    23797    Al-Obiadi        Urban  Neighborhood   \n",
       "4     2101008      164    Al-Obiadi        Urban  Neighborhood   \n",
       "\n",
       "                    geometry  \n",
       "0  POINT (41.20149 34.42020)  \n",
       "1  POINT (41.23414 34.43304)  \n",
       "2  POINT (41.22633 34.42921)  \n",
       "3  POINT (41.22601 34.43465)  \n",
       "4  POINT (41.23290 34.43660)  "
      ]
     },
     "execution_count": 6,
     "metadata": {},
     "output_type": "execute_result"
    }
   ],
   "source": [
    "# convert IOM lat/lon to point geometry\n",
    "iom_all_locs['geometry'] = gpd.points_from_xy(iom_all_locs['Longitude'],iom_all_locs['Latitude'])\n",
    "iom_all_locs = iom_all_locs.drop(columns=['Latitude','Longitude'])\n",
    "iom_all_locs = gpd.GeoDataFrame(iom_all_locs, geometry='geometry',crs='EPSG:4326')\n",
    "iom_all_locs.head()"
   ]
  },
  {
   "cell_type": "code",
   "execution_count": 8,
   "metadata": {},
   "outputs": [
    {
     "name": "stdout",
     "output_type": "stream",
     "text": [
      "(294, 3)\n",
      "(3717, 6)\n",
      "(3793, 9)\n"
     ]
    },
    {
     "data": {
      "text/html": [
       "<div>\n",
       "<style scoped>\n",
       "    .dataframe tbody tr th:only-of-type {\n",
       "        vertical-align: middle;\n",
       "    }\n",
       "\n",
       "    .dataframe tbody tr th {\n",
       "        vertical-align: top;\n",
       "    }\n",
       "\n",
       "    .dataframe thead th {\n",
       "        text-align: right;\n",
       "    }\n",
       "</style>\n",
       "<table border=\"1\" class=\"dataframe\">\n",
       "  <thead>\n",
       "    <tr style=\"text-align: right;\">\n",
       "      <th></th>\n",
       "      <th>ADM3_PCODE</th>\n",
       "      <th>ADM3_EN</th>\n",
       "      <th>geometry</th>\n",
       "      <th>index_right</th>\n",
       "      <th>LocationID</th>\n",
       "      <th>PlaceID</th>\n",
       "      <th>Sub-district</th>\n",
       "      <th>LocationType</th>\n",
       "      <th>PlaceType</th>\n",
       "    </tr>\n",
       "  </thead>\n",
       "  <tbody>\n",
       "    <tr>\n",
       "      <th>0</th>\n",
       "      <td>IQG01Q05N01</td>\n",
       "      <td>Abi Gharaq</td>\n",
       "      <td>POLYGON ((44.36654 32.56190, 44.36466 32.55802...</td>\n",
       "      <td>392.0</td>\n",
       "      <td>2204143.0</td>\n",
       "      <td>23950.0</td>\n",
       "      <td>Markaz Al-Hilla</td>\n",
       "      <td>Urban</td>\n",
       "      <td>Neighborhood</td>\n",
       "    </tr>\n",
       "    <tr>\n",
       "      <th>0</th>\n",
       "      <td>IQG01Q05N01</td>\n",
       "      <td>Abi Gharaq</td>\n",
       "      <td>POLYGON ((44.36654 32.56190, 44.36466 32.55802...</td>\n",
       "      <td>390.0</td>\n",
       "      <td>2204158.0</td>\n",
       "      <td>34275.0</td>\n",
       "      <td>Abu Gharaq</td>\n",
       "      <td>Rural</td>\n",
       "      <td>Village</td>\n",
       "    </tr>\n",
       "    <tr>\n",
       "      <th>1</th>\n",
       "      <td>IQG16Q01N02</td>\n",
       "      <td>Abu Dalf</td>\n",
       "      <td>POLYGON ((44.19124 34.77808, 44.21397 34.75600...</td>\n",
       "      <td>2935.0</td>\n",
       "      <td>2801015.0</td>\n",
       "      <td>26116.0</td>\n",
       "      <td>Markaz Al-Daur</td>\n",
       "      <td>Urban</td>\n",
       "      <td>Neighborhood</td>\n",
       "    </tr>\n",
       "    <tr>\n",
       "      <th>1</th>\n",
       "      <td>IQG16Q01N02</td>\n",
       "      <td>Abu Dalf</td>\n",
       "      <td>POLYGON ((44.19124 34.77808, 44.21397 34.75600...</td>\n",
       "      <td>2941.0</td>\n",
       "      <td>2801021.0</td>\n",
       "      <td>26077.0</td>\n",
       "      <td>Markaz Al-Daur</td>\n",
       "      <td>Urban</td>\n",
       "      <td>Neighborhood</td>\n",
       "    </tr>\n",
       "    <tr>\n",
       "      <th>1</th>\n",
       "      <td>IQG16Q01N02</td>\n",
       "      <td>Abu Dalf</td>\n",
       "      <td>POLYGON ((44.19124 34.77808, 44.21397 34.75600...</td>\n",
       "      <td>2938.0</td>\n",
       "      <td>2801018.0</td>\n",
       "      <td>26078.0</td>\n",
       "      <td>Markaz Al-Daur</td>\n",
       "      <td>Urban</td>\n",
       "      <td>Neighborhood</td>\n",
       "    </tr>\n",
       "  </tbody>\n",
       "</table>\n",
       "</div>"
      ],
      "text/plain": [
       "    ADM3_PCODE     ADM3_EN                                           geometry  \\\n",
       "0  IQG01Q05N01  Abi Gharaq  POLYGON ((44.36654 32.56190, 44.36466 32.55802...   \n",
       "0  IQG01Q05N01  Abi Gharaq  POLYGON ((44.36654 32.56190, 44.36466 32.55802...   \n",
       "1  IQG16Q01N02    Abu Dalf  POLYGON ((44.19124 34.77808, 44.21397 34.75600...   \n",
       "1  IQG16Q01N02    Abu Dalf  POLYGON ((44.19124 34.77808, 44.21397 34.75600...   \n",
       "1  IQG16Q01N02    Abu Dalf  POLYGON ((44.19124 34.77808, 44.21397 34.75600...   \n",
       "\n",
       "   index_right  LocationID  PlaceID     Sub-district LocationType  \\\n",
       "0        392.0   2204143.0  23950.0  Markaz Al-Hilla        Urban   \n",
       "0        390.0   2204158.0  34275.0       Abu Gharaq        Rural   \n",
       "1       2935.0   2801015.0  26116.0   Markaz Al-Daur        Urban   \n",
       "1       2941.0   2801021.0  26077.0   Markaz Al-Daur        Urban   \n",
       "1       2938.0   2801018.0  26078.0   Markaz Al-Daur        Urban   \n",
       "\n",
       "      PlaceType  \n",
       "0  Neighborhood  \n",
       "0       Village  \n",
       "1  Neighborhood  \n",
       "1  Neighborhood  \n",
       "1  Neighborhood  "
      ]
     },
     "execution_count": 8,
     "metadata": {},
     "output_type": "execute_result"
    }
   ],
   "source": [
    "# spatial join with adm3 areas\n",
    "adm3_locs_join = iraq_shp_adm3.loc[:,('ADM3_PCODE','ADM3_EN','geometry')]\n",
    "\n",
    "iom_adm3_df = adm3_locs_join.sjoin(iom_all_locs,how='left',predicate='intersects')\n",
    "print(adm3_locs_join.shape)\n",
    "print(iom_all_locs.shape)\n",
    "print(iom_adm3_df.shape)\n",
    "iom_adm3_df.head()"
   ]
  },
  {
   "cell_type": "code",
   "execution_count": 9,
   "metadata": {},
   "outputs": [
    {
     "name": "stdout",
     "output_type": "stream",
     "text": [
      "(79, 9)\n",
      "(3714, 9)\n"
     ]
    }
   ],
   "source": [
    "print(iom_adm3_df[iom_adm3_df['LocationID'].isna()].shape)\n",
    "print(iom_adm3_df[~iom_adm3_df['LocationID'].isna()].shape)"
   ]
  },
  {
   "cell_type": "code",
   "execution_count": 10,
   "metadata": {},
   "outputs": [
    {
     "data": {
      "text/html": [
       "<div>\n",
       "<style scoped>\n",
       "    .dataframe tbody tr th:only-of-type {\n",
       "        vertical-align: middle;\n",
       "    }\n",
       "\n",
       "    .dataframe tbody tr th {\n",
       "        vertical-align: top;\n",
       "    }\n",
       "\n",
       "    .dataframe thead th {\n",
       "        text-align: right;\n",
       "    }\n",
       "</style>\n",
       "<table border=\"1\" class=\"dataframe\">\n",
       "  <thead>\n",
       "    <tr style=\"text-align: right;\">\n",
       "      <th></th>\n",
       "      <th>LocationID</th>\n",
       "      <th>PlaceID</th>\n",
       "      <th>Sub-district</th>\n",
       "      <th>LocationType</th>\n",
       "      <th>PlaceType</th>\n",
       "      <th>geometry</th>\n",
       "    </tr>\n",
       "  </thead>\n",
       "  <tbody>\n",
       "    <tr>\n",
       "      <th>10</th>\n",
       "      <td>2101036</td>\n",
       "      <td>33466</td>\n",
       "      <td>Al-Rummaneh</td>\n",
       "      <td>Rural</td>\n",
       "      <td>Village</td>\n",
       "      <td>POINT (41.00614 34.42984)</td>\n",
       "    </tr>\n",
       "    <tr>\n",
       "      <th>891</th>\n",
       "      <td>1104016</td>\n",
       "      <td>23620</td>\n",
       "      <td>Rizgari</td>\n",
       "      <td>Rural</td>\n",
       "      <td>Village</td>\n",
       "      <td>POINT (42.37722 37.06755)</td>\n",
       "    </tr>\n",
       "    <tr>\n",
       "      <th>2718</th>\n",
       "      <td>2708032</td>\n",
       "      <td>25688</td>\n",
       "      <td>Rubiya</td>\n",
       "      <td>Peri-urban</td>\n",
       "      <td>Neighborhood</td>\n",
       "      <td>POINT (42.08371 36.80816)</td>\n",
       "    </tr>\n",
       "  </tbody>\n",
       "</table>\n",
       "</div>"
      ],
      "text/plain": [
       "      LocationID  PlaceID Sub-district LocationType     PlaceType  \\\n",
       "10       2101036    33466  Al-Rummaneh        Rural       Village   \n",
       "891      1104016    23620      Rizgari        Rural       Village   \n",
       "2718     2708032    25688       Rubiya   Peri-urban  Neighborhood   \n",
       "\n",
       "                       geometry  \n",
       "10    POINT (41.00614 34.42984)  \n",
       "891   POINT (42.37722 37.06755)  \n",
       "2718  POINT (42.08371 36.80816)  "
      ]
     },
     "execution_count": 10,
     "metadata": {},
     "output_type": "execute_result"
    }
   ],
   "source": [
    "# check for IOM locations that were missed\n",
    "missed_iom_locs = iom_all_locs.LocationID.unique()[~np.isin(iom_all_locs.LocationID.unique(),iom_adm3_df['LocationID'].unique())]\n",
    "iom_all_locs[iom_all_locs['LocationID'].isin(missed_iom_locs)]"
   ]
  },
  {
   "cell_type": "markdown",
   "metadata": {},
   "source": [
    "These locations fall just outside of the bounds of the Adm 3 layers, from manual examination. Will use nearest neighbor matching to join them with Adm3 areas."
   ]
  },
  {
   "cell_type": "code",
   "execution_count": 11,
   "metadata": {},
   "outputs": [
    {
     "name": "stdout",
     "output_type": "stream",
     "text": [
      "(294, 3)\n",
      "(3, 6)\n",
      "(3, 9)\n"
     ]
    },
    {
     "data": {
      "text/html": [
       "<div>\n",
       "<style scoped>\n",
       "    .dataframe tbody tr th:only-of-type {\n",
       "        vertical-align: middle;\n",
       "    }\n",
       "\n",
       "    .dataframe tbody tr th {\n",
       "        vertical-align: top;\n",
       "    }\n",
       "\n",
       "    .dataframe thead th {\n",
       "        text-align: right;\n",
       "    }\n",
       "</style>\n",
       "<table border=\"1\" class=\"dataframe\">\n",
       "  <thead>\n",
       "    <tr style=\"text-align: right;\">\n",
       "      <th></th>\n",
       "      <th>index_left</th>\n",
       "      <th>ADM3_PCODE</th>\n",
       "      <th>ADM3_EN</th>\n",
       "      <th>LocationID</th>\n",
       "      <th>PlaceID</th>\n",
       "      <th>Sub-district</th>\n",
       "      <th>LocationType</th>\n",
       "      <th>PlaceType</th>\n",
       "      <th>geometry</th>\n",
       "    </tr>\n",
       "  </thead>\n",
       "  <tbody>\n",
       "    <tr>\n",
       "      <th>10</th>\n",
       "      <td>81</td>\n",
       "      <td>IQG01Q02N03</td>\n",
       "      <td>Al-Rummaneh</td>\n",
       "      <td>2101036</td>\n",
       "      <td>33466</td>\n",
       "      <td>Al-Rummaneh</td>\n",
       "      <td>Rural</td>\n",
       "      <td>Village</td>\n",
       "      <td>POINT (41.00614 34.42984)</td>\n",
       "    </tr>\n",
       "    <tr>\n",
       "      <th>891</th>\n",
       "      <td>243</td>\n",
       "      <td>IQG09Q04N01</td>\n",
       "      <td>Markaz Zakho</td>\n",
       "      <td>1104016</td>\n",
       "      <td>23620</td>\n",
       "      <td>Rizgari</td>\n",
       "      <td>Rural</td>\n",
       "      <td>Village</td>\n",
       "      <td>POINT (42.37722 37.06755)</td>\n",
       "    </tr>\n",
       "    <tr>\n",
       "      <th>2718</th>\n",
       "      <td>263</td>\n",
       "      <td>IQG15Q08N04</td>\n",
       "      <td>Rabia</td>\n",
       "      <td>2708032</td>\n",
       "      <td>25688</td>\n",
       "      <td>Rubiya</td>\n",
       "      <td>Peri-urban</td>\n",
       "      <td>Neighborhood</td>\n",
       "      <td>POINT (42.08371 36.80816)</td>\n",
       "    </tr>\n",
       "  </tbody>\n",
       "</table>\n",
       "</div>"
      ],
      "text/plain": [
       "      index_left   ADM3_PCODE       ADM3_EN  LocationID  PlaceID Sub-district  \\\n",
       "10            81  IQG01Q02N03   Al-Rummaneh     2101036    33466  Al-Rummaneh   \n",
       "891          243  IQG09Q04N01  Markaz Zakho     1104016    23620      Rizgari   \n",
       "2718         263  IQG15Q08N04         Rabia     2708032    25688       Rubiya   \n",
       "\n",
       "     LocationType     PlaceType                   geometry  \n",
       "10          Rural       Village  POINT (41.00614 34.42984)  \n",
       "891         Rural       Village  POINT (42.37722 37.06755)  \n",
       "2718   Peri-urban  Neighborhood  POINT (42.08371 36.80816)  "
      ]
     },
     "execution_count": 11,
     "metadata": {},
     "output_type": "execute_result"
    }
   ],
   "source": [
    "iom_nearest_neighbor = iom_all_locs[iom_all_locs['LocationID'].isin(missed_iom_locs)]\n",
    "# reproject for accurate distance measuring\n",
    "iom_nearest_neighbor = iom_nearest_neighbor.to_crs('EPSG:3893')\n",
    "adm3_locs_join_newcrs = adm3_locs_join.to_crs('EPSG:3893')\n",
    "\n",
    "iom_adm3_nn = adm3_locs_join_newcrs.sjoin_nearest(iom_nearest_neighbor,how='right')\n",
    "iom_adm3_nn = iom_adm3_nn.to_crs('EPSG:4326')\n",
    "print(adm3_locs_join.shape)\n",
    "print(iom_nearest_neighbor.shape)\n",
    "print(iom_adm3_nn.shape)\n",
    "iom_adm3_nn.head()"
   ]
  },
  {
   "cell_type": "code",
   "execution_count": 12,
   "metadata": {},
   "outputs": [
    {
     "name": "stdout",
     "output_type": "stream",
     "text": [
      "(3796, 10)\n",
      "(0,)\n",
      "(3717, 10)\n"
     ]
    },
    {
     "data": {
      "text/html": [
       "<div>\n",
       "<style scoped>\n",
       "    .dataframe tbody tr th:only-of-type {\n",
       "        vertical-align: middle;\n",
       "    }\n",
       "\n",
       "    .dataframe tbody tr th {\n",
       "        vertical-align: top;\n",
       "    }\n",
       "\n",
       "    .dataframe thead th {\n",
       "        text-align: right;\n",
       "    }\n",
       "</style>\n",
       "<table border=\"1\" class=\"dataframe\">\n",
       "  <thead>\n",
       "    <tr style=\"text-align: right;\">\n",
       "      <th></th>\n",
       "      <th>ADM3_PCODE</th>\n",
       "      <th>ADM3_EN</th>\n",
       "      <th>geometry</th>\n",
       "      <th>index_right</th>\n",
       "      <th>LocationID</th>\n",
       "      <th>PlaceID</th>\n",
       "      <th>Sub-district</th>\n",
       "      <th>LocationType</th>\n",
       "      <th>PlaceType</th>\n",
       "      <th>index_left</th>\n",
       "    </tr>\n",
       "  </thead>\n",
       "  <tbody>\n",
       "    <tr>\n",
       "      <th>0</th>\n",
       "      <td>IQG01Q05N01</td>\n",
       "      <td>Abi Gharaq</td>\n",
       "      <td>POLYGON ((44.36654 32.56190, 44.36466 32.55802...</td>\n",
       "      <td>392.0</td>\n",
       "      <td>2204143.0</td>\n",
       "      <td>23950.0</td>\n",
       "      <td>Markaz Al-Hilla</td>\n",
       "      <td>Urban</td>\n",
       "      <td>Neighborhood</td>\n",
       "      <td>NaN</td>\n",
       "    </tr>\n",
       "    <tr>\n",
       "      <th>0</th>\n",
       "      <td>IQG01Q05N01</td>\n",
       "      <td>Abi Gharaq</td>\n",
       "      <td>POLYGON ((44.36654 32.56190, 44.36466 32.55802...</td>\n",
       "      <td>390.0</td>\n",
       "      <td>2204158.0</td>\n",
       "      <td>34275.0</td>\n",
       "      <td>Abu Gharaq</td>\n",
       "      <td>Rural</td>\n",
       "      <td>Village</td>\n",
       "      <td>NaN</td>\n",
       "    </tr>\n",
       "  </tbody>\n",
       "</table>\n",
       "</div>"
      ],
      "text/plain": [
       "    ADM3_PCODE     ADM3_EN                                           geometry  \\\n",
       "0  IQG01Q05N01  Abi Gharaq  POLYGON ((44.36654 32.56190, 44.36466 32.55802...   \n",
       "0  IQG01Q05N01  Abi Gharaq  POLYGON ((44.36654 32.56190, 44.36466 32.55802...   \n",
       "\n",
       "   index_right  LocationID  PlaceID     Sub-district LocationType  \\\n",
       "0        392.0   2204143.0  23950.0  Markaz Al-Hilla        Urban   \n",
       "0        390.0   2204158.0  34275.0       Abu Gharaq        Rural   \n",
       "\n",
       "      PlaceType  index_left  \n",
       "0  Neighborhood         NaN  \n",
       "0       Village         NaN  "
      ]
     },
     "execution_count": 12,
     "metadata": {},
     "output_type": "execute_result"
    }
   ],
   "source": [
    "iom_adm3_df = pd.concat([iom_adm3_df,iom_adm3_nn])\n",
    "print(iom_adm3_df.shape)\n",
    "# confirm no more IOM locs missing\n",
    "print(iom_all_locs.LocationID.unique()[~np.isin(iom_all_locs.LocationID.unique(),iom_adm3_df['LocationID'].unique())].shape)\n",
    "# confirm 3717 adm3 locs\n",
    "print(iom_adm3_df[~iom_adm3_df['LocationID'].isna()].shape)\n",
    "iom_adm3_df.head(2)"
   ]
  },
  {
   "cell_type": "code",
   "execution_count": 14,
   "metadata": {},
   "outputs": [
    {
     "data": {
      "text/html": [
       "<div>\n",
       "<style scoped>\n",
       "    .dataframe tbody tr th:only-of-type {\n",
       "        vertical-align: middle;\n",
       "    }\n",
       "\n",
       "    .dataframe tbody tr th {\n",
       "        vertical-align: top;\n",
       "    }\n",
       "\n",
       "    .dataframe thead th {\n",
       "        text-align: right;\n",
       "    }\n",
       "</style>\n",
       "<table border=\"1\" class=\"dataframe\">\n",
       "  <thead>\n",
       "    <tr style=\"text-align: right;\">\n",
       "      <th></th>\n",
       "      <th>LocationID</th>\n",
       "      <th>ADM3_EN</th>\n",
       "    </tr>\n",
       "  </thead>\n",
       "  <tbody>\n",
       "  </tbody>\n",
       "</table>\n",
       "</div>"
      ],
      "text/plain": [
       "Empty DataFrame\n",
       "Columns: [LocationID, ADM3_EN]\n",
       "Index: []"
      ]
     },
     "execution_count": 14,
     "metadata": {},
     "output_type": "execute_result"
    }
   ],
   "source": [
    "# see if any IOM locations assigned to multiple Adm 3 areas\n",
    "mult_iom_locs = iom_adm3_df.loc[:,('ADM3_EN','LocationID')].groupby('LocationID').nunique().reset_index()\n",
    "mult_iom_locs[mult_iom_locs['ADM3_EN']>1]"
   ]
  },
  {
   "cell_type": "code",
   "execution_count": 15,
   "metadata": {},
   "outputs": [
    {
     "data": {
      "text/html": [
       "<div>\n",
       "<style scoped>\n",
       "    .dataframe tbody tr th:only-of-type {\n",
       "        vertical-align: middle;\n",
       "    }\n",
       "\n",
       "    .dataframe tbody tr th {\n",
       "        vertical-align: top;\n",
       "    }\n",
       "\n",
       "    .dataframe thead th {\n",
       "        text-align: right;\n",
       "    }\n",
       "</style>\n",
       "<table border=\"1\" class=\"dataframe\">\n",
       "  <thead>\n",
       "    <tr style=\"text-align: right;\">\n",
       "      <th></th>\n",
       "      <th>LocationID</th>\n",
       "      <th>PlaceID</th>\n",
       "    </tr>\n",
       "  </thead>\n",
       "  <tbody>\n",
       "  </tbody>\n",
       "</table>\n",
       "</div>"
      ],
      "text/plain": [
       "Empty DataFrame\n",
       "Columns: [LocationID, PlaceID]\n",
       "Index: []"
      ]
     },
     "execution_count": 15,
     "metadata": {},
     "output_type": "execute_result"
    }
   ],
   "source": [
    "# see whether there are multiple places per locations - there aren't\n",
    "test_loc_places = iom_adm3_df.loc[:,('LocationID','PlaceID')].groupby('LocationID').nunique().reset_index()\n",
    "test_loc_places[test_loc_places['PlaceID']>1]"
   ]
  },
  {
   "cell_type": "code",
   "execution_count": 16,
   "metadata": {},
   "outputs": [
    {
     "data": {
      "text/html": [
       "<div>\n",
       "<style scoped>\n",
       "    .dataframe tbody tr th:only-of-type {\n",
       "        vertical-align: middle;\n",
       "    }\n",
       "\n",
       "    .dataframe tbody tr th {\n",
       "        vertical-align: top;\n",
       "    }\n",
       "\n",
       "    .dataframe thead th {\n",
       "        text-align: right;\n",
       "    }\n",
       "</style>\n",
       "<table border=\"1\" class=\"dataframe\">\n",
       "  <thead>\n",
       "    <tr style=\"text-align: right;\">\n",
       "      <th></th>\n",
       "      <th>PlaceID</th>\n",
       "      <th>LocationID</th>\n",
       "    </tr>\n",
       "  </thead>\n",
       "  <tbody>\n",
       "  </tbody>\n",
       "</table>\n",
       "</div>"
      ],
      "text/plain": [
       "Empty DataFrame\n",
       "Columns: [PlaceID, LocationID]\n",
       "Index: []"
      ]
     },
     "execution_count": 16,
     "metadata": {},
     "output_type": "execute_result"
    }
   ],
   "source": [
    "# see whether there are multiple locations per placeid - there aren't\n",
    "test_loc_places = iom_adm3_df.loc[:,('LocationID','PlaceID')].groupby('PlaceID').nunique().reset_index()\n",
    "test_loc_places[test_loc_places['LocationID']>1]"
   ]
  },
  {
   "cell_type": "code",
   "execution_count": 17,
   "metadata": {},
   "outputs": [],
   "source": [
    "# create final mapping document from LocationIDs to Adm 3 areas\n",
    "iom_adm3_mapping = source_dir + '/data/iom/iom_adm3_mapping.csv'\n",
    "iom_adm3_df.loc[:,('LocationID','PlaceID','ADM3_PCODE','ADM3_EN')].to_csv(iom_adm3_mapping,index=False)"
   ]
  },
  {
   "cell_type": "markdown",
   "metadata": {},
   "source": [
    "### Join to Adm 2 Areas"
   ]
  },
  {
   "cell_type": "code",
   "execution_count": 7,
   "metadata": {},
   "outputs": [
    {
     "data": {
      "text/plain": [
       "(101, 3)"
      ]
     },
     "execution_count": 7,
     "metadata": {},
     "output_type": "execute_result"
    }
   ],
   "source": [
    "iraq_adm2_filt = iraq_shp_adm3.loc[:,('ADM2_EN','ADM2_PCODE','geometry')]\n",
    "iraq_adm2_filt = iraq_adm2_filt.dissolve(by=['ADM2_EN','ADM2_PCODE'])\n",
    "iraq_adm2_filt = iraq_adm2_filt.reset_index()\n",
    "iraq_adm2_filt.shape"
   ]
  },
  {
   "cell_type": "code",
   "execution_count": 8,
   "metadata": {},
   "outputs": [
    {
     "name": "stdout",
     "output_type": "stream",
     "text": [
      "(101, 3)\n",
      "(3717, 6)\n",
      "(3726, 9)\n"
     ]
    },
    {
     "data": {
      "text/html": [
       "<div>\n",
       "<style scoped>\n",
       "    .dataframe tbody tr th:only-of-type {\n",
       "        vertical-align: middle;\n",
       "    }\n",
       "\n",
       "    .dataframe tbody tr th {\n",
       "        vertical-align: top;\n",
       "    }\n",
       "\n",
       "    .dataframe thead th {\n",
       "        text-align: right;\n",
       "    }\n",
       "</style>\n",
       "<table border=\"1\" class=\"dataframe\">\n",
       "  <thead>\n",
       "    <tr style=\"text-align: right;\">\n",
       "      <th></th>\n",
       "      <th>ADM2_EN</th>\n",
       "      <th>ADM2_PCODE</th>\n",
       "      <th>geometry</th>\n",
       "      <th>index_right</th>\n",
       "      <th>LocationID</th>\n",
       "      <th>PlaceID</th>\n",
       "      <th>Sub-district</th>\n",
       "      <th>LocationType</th>\n",
       "      <th>PlaceType</th>\n",
       "    </tr>\n",
       "  </thead>\n",
       "  <tbody>\n",
       "    <tr>\n",
       "      <th>0</th>\n",
       "      <td>Abu Al-Khaseeb</td>\n",
       "      <td>IQG02Q01</td>\n",
       "      <td>POLYGON ((48.15221 30.43647, 48.16310 30.42845...</td>\n",
       "      <td>691.0</td>\n",
       "      <td>3101023.0</td>\n",
       "      <td>505.0</td>\n",
       "      <td>Markaz Abu al Khaseeb</td>\n",
       "      <td>Urban</td>\n",
       "      <td>Neighborhood</td>\n",
       "    </tr>\n",
       "    <tr>\n",
       "      <th>0</th>\n",
       "      <td>Abu Al-Khaseeb</td>\n",
       "      <td>IQG02Q01</td>\n",
       "      <td>POLYGON ((48.15221 30.43647, 48.16310 30.42845...</td>\n",
       "      <td>683.0</td>\n",
       "      <td>3101003.0</td>\n",
       "      <td>25540.0</td>\n",
       "      <td>Markaz Abu al Khaseeb</td>\n",
       "      <td>Urban</td>\n",
       "      <td>Neighborhood</td>\n",
       "    </tr>\n",
       "    <tr>\n",
       "      <th>0</th>\n",
       "      <td>Abu Al-Khaseeb</td>\n",
       "      <td>IQG02Q01</td>\n",
       "      <td>POLYGON ((48.15221 30.43647, 48.16310 30.42845...</td>\n",
       "      <td>687.0</td>\n",
       "      <td>3101015.0</td>\n",
       "      <td>809.0</td>\n",
       "      <td>Markaz Abu al Khaseeb</td>\n",
       "      <td>Peri-Urban</td>\n",
       "      <td>Neighborhood</td>\n",
       "    </tr>\n",
       "    <tr>\n",
       "      <th>0</th>\n",
       "      <td>Abu Al-Khaseeb</td>\n",
       "      <td>IQG02Q01</td>\n",
       "      <td>POLYGON ((48.15221 30.43647, 48.16310 30.42845...</td>\n",
       "      <td>692.0</td>\n",
       "      <td>3101024.0</td>\n",
       "      <td>24158.0</td>\n",
       "      <td>Markaz Abu al Khaseeb</td>\n",
       "      <td>Urban</td>\n",
       "      <td>Neighborhood</td>\n",
       "    </tr>\n",
       "    <tr>\n",
       "      <th>0</th>\n",
       "      <td>Abu Al-Khaseeb</td>\n",
       "      <td>IQG02Q01</td>\n",
       "      <td>POLYGON ((48.15221 30.43647, 48.16310 30.42845...</td>\n",
       "      <td>689.0</td>\n",
       "      <td>3101017.0</td>\n",
       "      <td>811.0</td>\n",
       "      <td>Markaz Abu al Khaseeb</td>\n",
       "      <td>Peri-Urban</td>\n",
       "      <td>Neighborhood</td>\n",
       "    </tr>\n",
       "  </tbody>\n",
       "</table>\n",
       "</div>"
      ],
      "text/plain": [
       "          ADM2_EN ADM2_PCODE  \\\n",
       "0  Abu Al-Khaseeb   IQG02Q01   \n",
       "0  Abu Al-Khaseeb   IQG02Q01   \n",
       "0  Abu Al-Khaseeb   IQG02Q01   \n",
       "0  Abu Al-Khaseeb   IQG02Q01   \n",
       "0  Abu Al-Khaseeb   IQG02Q01   \n",
       "\n",
       "                                            geometry  index_right  LocationID  \\\n",
       "0  POLYGON ((48.15221 30.43647, 48.16310 30.42845...        691.0   3101023.0   \n",
       "0  POLYGON ((48.15221 30.43647, 48.16310 30.42845...        683.0   3101003.0   \n",
       "0  POLYGON ((48.15221 30.43647, 48.16310 30.42845...        687.0   3101015.0   \n",
       "0  POLYGON ((48.15221 30.43647, 48.16310 30.42845...        692.0   3101024.0   \n",
       "0  POLYGON ((48.15221 30.43647, 48.16310 30.42845...        689.0   3101017.0   \n",
       "\n",
       "   PlaceID           Sub-district LocationType     PlaceType  \n",
       "0    505.0  Markaz Abu al Khaseeb        Urban  Neighborhood  \n",
       "0  25540.0  Markaz Abu al Khaseeb        Urban  Neighborhood  \n",
       "0    809.0  Markaz Abu al Khaseeb   Peri-Urban  Neighborhood  \n",
       "0  24158.0  Markaz Abu al Khaseeb        Urban  Neighborhood  \n",
       "0    811.0  Markaz Abu al Khaseeb   Peri-Urban  Neighborhood  "
      ]
     },
     "execution_count": 8,
     "metadata": {},
     "output_type": "execute_result"
    }
   ],
   "source": [
    "iom_adm2_df = iraq_adm2_filt.sjoin(iom_all_locs,how='left',predicate='intersects')\n",
    "print(iraq_adm2_filt.shape)\n",
    "print(iom_all_locs.shape)\n",
    "print(iom_adm2_df.shape)\n",
    "iom_adm2_df.head()"
   ]
  },
  {
   "cell_type": "code",
   "execution_count": 9,
   "metadata": {},
   "outputs": [
    {
     "name": "stdout",
     "output_type": "stream",
     "text": [
      "(12, 9)\n",
      "(3714, 9)\n"
     ]
    }
   ],
   "source": [
    "print(iom_adm2_df[iom_adm2_df['LocationID'].isna()].shape)\n",
    "print(iom_adm2_df[~iom_adm2_df['LocationID'].isna()].shape)"
   ]
  },
  {
   "cell_type": "code",
   "execution_count": 15,
   "metadata": {},
   "outputs": [
    {
     "name": "stdout",
     "output_type": "stream",
     "text": [
      "(1935, 5)\n"
     ]
    },
    {
     "data": {
      "text/html": [
       "<div>\n",
       "<style scoped>\n",
       "    .dataframe tbody tr th:only-of-type {\n",
       "        vertical-align: middle;\n",
       "    }\n",
       "\n",
       "    .dataframe tbody tr th {\n",
       "        vertical-align: top;\n",
       "    }\n",
       "\n",
       "    .dataframe thead th {\n",
       "        text-align: right;\n",
       "    }\n",
       "</style>\n",
       "<table border=\"1\" class=\"dataframe\">\n",
       "  <thead>\n",
       "    <tr style=\"text-align: right;\">\n",
       "      <th></th>\n",
       "      <th>LocationID</th>\n",
       "      <th>PlaceID</th>\n",
       "      <th>District</th>\n",
       "      <th>PercArabSunni</th>\n",
       "      <th>PercArabShia</th>\n",
       "    </tr>\n",
       "  </thead>\n",
       "  <tbody>\n",
       "    <tr>\n",
       "      <th>0</th>\n",
       "      <td>2101008</td>\n",
       "      <td>164</td>\n",
       "      <td>Al-Ka'im</td>\n",
       "      <td>100.0</td>\n",
       "      <td>0.0</td>\n",
       "    </tr>\n",
       "    <tr>\n",
       "      <th>1</th>\n",
       "      <td>2101006</td>\n",
       "      <td>90</td>\n",
       "      <td>Al-Ka'im</td>\n",
       "      <td>100.0</td>\n",
       "      <td>0.0</td>\n",
       "    </tr>\n",
       "  </tbody>\n",
       "</table>\n",
       "</div>"
      ],
      "text/plain": [
       "   LocationID  PlaceID  District  PercArabSunni  PercArabShia\n",
       "0     2101008      164  Al-Ka'im          100.0           0.0\n",
       "1     2101006       90  Al-Ka'im          100.0           0.0"
      ]
     },
     "execution_count": 15,
     "metadata": {},
     "output_type": "execute_result"
    }
   ],
   "source": [
    "iom_relig = pd.read_excel(iom_int_locs_file, sheet_name=\"Q3.6.3 IDP EthnoReligious Group\",header=1)\n",
    "iom_relig = iom_relig.loc[:,('LocationID','PlaceID','District',\"% of Arab Sunni Muslim\",\"% of Arab Shia Muslim\")]\n",
    "iom_relig = iom_relig.rename(columns={\"% of Arab Sunni Muslim\": 'PercArabSunni',\"% of Arab Shia Muslim\":'PercArabShia'})\n",
    "iom_relig = iom_relig.fillna(value=0)\n",
    "print(iom_relig.shape)\n",
    "iom_relig.head(2)"
   ]
  },
  {
   "cell_type": "code",
   "execution_count": 21,
   "metadata": {},
   "outputs": [
    {
     "name": "stdout",
     "output_type": "stream",
     "text": [
      "(1933, 9)\n"
     ]
    }
   ],
   "source": [
    "iom_adm2_relig = iom_adm2_df.merge(iom_relig,on=['LocationID','PlaceID'])\n",
    "iom_adm2_relig = iom_adm2_relig.drop(columns=['geometry','index_right','Sub-district'])\n",
    "print(iom_adm2_relig.shape)"
   ]
  },
  {
   "cell_type": "code",
   "execution_count": 19,
   "metadata": {},
   "outputs": [
    {
     "data": {
      "text/html": [
       "<div>\n",
       "<style scoped>\n",
       "    .dataframe tbody tr th:only-of-type {\n",
       "        vertical-align: middle;\n",
       "    }\n",
       "\n",
       "    .dataframe tbody tr th {\n",
       "        vertical-align: top;\n",
       "    }\n",
       "\n",
       "    .dataframe thead th {\n",
       "        text-align: right;\n",
       "    }\n",
       "</style>\n",
       "<table border=\"1\" class=\"dataframe\">\n",
       "  <thead>\n",
       "    <tr style=\"text-align: right;\">\n",
       "      <th></th>\n",
       "      <th>ADM2_EN</th>\n",
       "      <th>ADM2_PCODE</th>\n",
       "      <th>LocationID</th>\n",
       "      <th>PlaceID</th>\n",
       "      <th>LocationType</th>\n",
       "      <th>PlaceType</th>\n",
       "      <th>District</th>\n",
       "      <th>PercArabSunni</th>\n",
       "      <th>PercArabShia</th>\n",
       "    </tr>\n",
       "  </thead>\n",
       "  <tbody>\n",
       "    <tr>\n",
       "      <th>0</th>\n",
       "      <td>Abu Al-Khaseeb</td>\n",
       "      <td>IQG02Q01</td>\n",
       "      <td>3101023.0</td>\n",
       "      <td>505.0</td>\n",
       "      <td>Urban</td>\n",
       "      <td>Neighborhood</td>\n",
       "      <td>Abu Al-Khaseeb</td>\n",
       "      <td>30.0</td>\n",
       "      <td>70.0</td>\n",
       "    </tr>\n",
       "    <tr>\n",
       "      <th>1</th>\n",
       "      <td>Abu Al-Khaseeb</td>\n",
       "      <td>IQG02Q01</td>\n",
       "      <td>3101003.0</td>\n",
       "      <td>25540.0</td>\n",
       "      <td>Urban</td>\n",
       "      <td>Neighborhood</td>\n",
       "      <td>Abu Al-Khaseeb</td>\n",
       "      <td>100.0</td>\n",
       "      <td>0.0</td>\n",
       "    </tr>\n",
       "  </tbody>\n",
       "</table>\n",
       "</div>"
      ],
      "text/plain": [
       "          ADM2_EN ADM2_PCODE  LocationID  PlaceID LocationType     PlaceType  \\\n",
       "0  Abu Al-Khaseeb   IQG02Q01   3101023.0    505.0        Urban  Neighborhood   \n",
       "1  Abu Al-Khaseeb   IQG02Q01   3101003.0  25540.0        Urban  Neighborhood   \n",
       "\n",
       "         District  PercArabSunni  PercArabShia  \n",
       "0  Abu Al-Khaseeb           30.0          70.0  \n",
       "1  Abu Al-Khaseeb          100.0           0.0  "
      ]
     },
     "execution_count": 19,
     "metadata": {},
     "output_type": "execute_result"
    }
   ],
   "source": [
    "iom_adm2_relig.head(2)"
   ]
  },
  {
   "cell_type": "code",
   "execution_count": 22,
   "metadata": {},
   "outputs": [],
   "source": [
    "iom_adm2_relig_file = source_dir + '/data/iom/iom_adm2_relig.csv'\n",
    "\n",
    "iom_adm2_relig.to_csv(iom_adm2_relig_file,index=False)"
   ]
  },
  {
   "cell_type": "markdown",
   "metadata": {},
   "source": [
    "### Joining IOM Subdistricts to Adm 3 Areas - INCOMPLETE, not exact overlap"
   ]
  },
  {
   "cell_type": "code",
   "execution_count": 45,
   "metadata": {},
   "outputs": [
    {
     "name": "stdout",
     "output_type": "stream",
     "text": [
      "(490, 3)\n"
     ]
    },
    {
     "data": {
      "text/html": [
       "<div>\n",
       "<style scoped>\n",
       "    .dataframe tbody tr th:only-of-type {\n",
       "        vertical-align: middle;\n",
       "    }\n",
       "\n",
       "    .dataframe tbody tr th {\n",
       "        vertical-align: top;\n",
       "    }\n",
       "\n",
       "    .dataframe thead th {\n",
       "        text-align: right;\n",
       "    }\n",
       "</style>\n",
       "<table border=\"1\" class=\"dataframe\">\n",
       "  <thead>\n",
       "    <tr style=\"text-align: right;\">\n",
       "      <th></th>\n",
       "      <th>Sub-district</th>\n",
       "      <th>Latitude</th>\n",
       "      <th>Longitude</th>\n",
       "    </tr>\n",
       "  </thead>\n",
       "  <tbody>\n",
       "    <tr>\n",
       "      <th>0</th>\n",
       "      <td>Al-Obiadi</td>\n",
       "      <td>34.420203</td>\n",
       "      <td>41.201494</td>\n",
       "    </tr>\n",
       "    <tr>\n",
       "      <th>1</th>\n",
       "      <td>Al-Obiadi</td>\n",
       "      <td>34.433043</td>\n",
       "      <td>41.234143</td>\n",
       "    </tr>\n",
       "  </tbody>\n",
       "</table>\n",
       "</div>"
      ],
      "text/plain": [
       "  Sub-district   Latitude  Longitude\n",
       "0    Al-Obiadi  34.420203  41.201494\n",
       "1    Al-Obiadi  34.433043  41.234143"
      ]
     },
     "execution_count": 45,
     "metadata": {},
     "output_type": "execute_result"
    }
   ],
   "source": [
    "# another IOM file with Arabic names\n",
    "#iom_int_locs_file = source_dir + '/data/iom/2021816711501_iom_DTM_Integrated_Location_Assessment_VI.xlsx'\n",
    "iom_int_locs_file = source_dir + '/data/iom/iom_raw.xlsx'\n",
    "\n",
    "iom_int_locs = pd.read_excel(iom_int_locs_file, sheet_name=\"Full Dataset\",header=1)\n",
    "# take only 2 lat/lons from each sub-district for the join\n",
    "iom_locs_geo = iom_int_locs.loc[:,('Sub-district','Latitude','Longitude')].groupby('Sub-district').head(2)\n",
    "print(iom_locs_geo.shape)\n",
    "iom_locs_geo.head(2)"
   ]
  },
  {
   "cell_type": "code",
   "execution_count": 28,
   "metadata": {},
   "outputs": [
    {
     "data": {
      "text/html": [
       "<div>\n",
       "<style scoped>\n",
       "    .dataframe tbody tr th:only-of-type {\n",
       "        vertical-align: middle;\n",
       "    }\n",
       "\n",
       "    .dataframe tbody tr th {\n",
       "        vertical-align: top;\n",
       "    }\n",
       "\n",
       "    .dataframe thead th {\n",
       "        text-align: right;\n",
       "    }\n",
       "</style>\n",
       "<table border=\"1\" class=\"dataframe\">\n",
       "  <thead>\n",
       "    <tr style=\"text-align: right;\">\n",
       "      <th></th>\n",
       "      <th>LocationID</th>\n",
       "      <th>Governorate</th>\n",
       "      <th>District</th>\n",
       "      <th>Subdistrict</th>\n",
       "      <th>LocationType</th>\n",
       "      <th>PlaceType</th>\n",
       "      <th>LocationEn</th>\n",
       "      <th>isgov</th>\n",
       "      <th>iom_subd</th>\n",
       "      <th>locids</th>\n",
       "    </tr>\n",
       "  </thead>\n",
       "  <tbody>\n",
       "  </tbody>\n",
       "</table>\n",
       "</div>"
      ],
      "text/plain": [
       "Empty DataFrame\n",
       "Columns: [LocationID, Governorate, District, Subdistrict, LocationType, PlaceType, LocationEn, isgov, iom_subd, locids]\n",
       "Index: []"
      ]
     },
     "execution_count": 28,
     "metadata": {},
     "output_type": "execute_result"
    }
   ],
   "source": [
    "# confirm all subdistricts from the condensed data are in the iom_raw data\n",
    "test_locids = iom_2022.merge(pd.DataFrame({'iom_subd':iom_locs_ar['Sub-district'].unique(),'locids':'Test'}), \n",
    "                    left_on='Subdistrict',right_on='iom_subd',how='left')\n",
    "test_locids[test_locids['locids'].isna()]"
   ]
  },
  {
   "cell_type": "code",
   "execution_count": 46,
   "metadata": {},
   "outputs": [
    {
     "data": {
      "text/html": [
       "<div>\n",
       "<style scoped>\n",
       "    .dataframe tbody tr th:only-of-type {\n",
       "        vertical-align: middle;\n",
       "    }\n",
       "\n",
       "    .dataframe tbody tr th {\n",
       "        vertical-align: top;\n",
       "    }\n",
       "\n",
       "    .dataframe thead th {\n",
       "        text-align: right;\n",
       "    }\n",
       "</style>\n",
       "<table border=\"1\" class=\"dataframe\">\n",
       "  <thead>\n",
       "    <tr style=\"text-align: right;\">\n",
       "      <th></th>\n",
       "      <th>Sub-district</th>\n",
       "      <th>geometry</th>\n",
       "    </tr>\n",
       "  </thead>\n",
       "  <tbody>\n",
       "    <tr>\n",
       "      <th>0</th>\n",
       "      <td>Al-Obiadi</td>\n",
       "      <td>POINT (41.20149 34.42020)</td>\n",
       "    </tr>\n",
       "    <tr>\n",
       "      <th>1</th>\n",
       "      <td>Al-Obiadi</td>\n",
       "      <td>POINT (41.23414 34.43304)</td>\n",
       "    </tr>\n",
       "    <tr>\n",
       "      <th>9</th>\n",
       "      <td>Al-Rummaneh</td>\n",
       "      <td>POINT (41.28825 34.44625)</td>\n",
       "    </tr>\n",
       "    <tr>\n",
       "      <th>10</th>\n",
       "      <td>Al-Rummaneh</td>\n",
       "      <td>POINT (41.00614 34.42984)</td>\n",
       "    </tr>\n",
       "    <tr>\n",
       "      <th>16</th>\n",
       "      <td>Markaz Al-Ka'im</td>\n",
       "      <td>POINT (40.97593 34.38771)</td>\n",
       "    </tr>\n",
       "  </tbody>\n",
       "</table>\n",
       "</div>"
      ],
      "text/plain": [
       "       Sub-district                   geometry\n",
       "0         Al-Obiadi  POINT (41.20149 34.42020)\n",
       "1         Al-Obiadi  POINT (41.23414 34.43304)\n",
       "9       Al-Rummaneh  POINT (41.28825 34.44625)\n",
       "10      Al-Rummaneh  POINT (41.00614 34.42984)\n",
       "16  Markaz Al-Ka'im  POINT (40.97593 34.38771)"
      ]
     },
     "execution_count": 46,
     "metadata": {},
     "output_type": "execute_result"
    }
   ],
   "source": [
    "# convert IOM lat/lon to point geometry\n",
    "iom_locs_geo['geometry'] = gpd.points_from_xy(iom_locs_geo['Longitude'],iom_locs_geo['Latitude'])\n",
    "iom_locs_geo = iom_locs_geo.drop(columns=['Latitude','Longitude'])\n",
    "iom_locs_geo = gpd.GeoDataFrame(iom_locs_geo, geometry='geometry',crs='EPSG:4326')\n",
    "iom_locs_geo.head()"
   ]
  },
  {
   "cell_type": "code",
   "execution_count": 74,
   "metadata": {},
   "outputs": [
    {
     "name": "stdout",
     "output_type": "stream",
     "text": [
      "(294, 2)\n",
      "(490, 2)\n",
      "(577, 4)\n"
     ]
    },
    {
     "data": {
      "text/html": [
       "<div>\n",
       "<style scoped>\n",
       "    .dataframe tbody tr th:only-of-type {\n",
       "        vertical-align: middle;\n",
       "    }\n",
       "\n",
       "    .dataframe tbody tr th {\n",
       "        vertical-align: top;\n",
       "    }\n",
       "\n",
       "    .dataframe thead th {\n",
       "        text-align: right;\n",
       "    }\n",
       "</style>\n",
       "<table border=\"1\" class=\"dataframe\">\n",
       "  <thead>\n",
       "    <tr style=\"text-align: right;\">\n",
       "      <th></th>\n",
       "      <th>ADM3_PCODE</th>\n",
       "      <th>geometry</th>\n",
       "      <th>index_right</th>\n",
       "      <th>Sub-district</th>\n",
       "    </tr>\n",
       "  </thead>\n",
       "  <tbody>\n",
       "    <tr>\n",
       "      <th>0</th>\n",
       "      <td>IQG07Q02N02</td>\n",
       "      <td>POLYGON ((44.36654 32.56190, 44.36466 32.55802...</td>\n",
       "      <td>392.0</td>\n",
       "      <td>Markaz Al-Hilla</td>\n",
       "    </tr>\n",
       "    <tr>\n",
       "      <th>0</th>\n",
       "      <td>IQG07Q02N02</td>\n",
       "      <td>POLYGON ((44.36654 32.56190, 44.36466 32.55802...</td>\n",
       "      <td>390.0</td>\n",
       "      <td>Abu Gharaq</td>\n",
       "    </tr>\n",
       "    <tr>\n",
       "      <th>1</th>\n",
       "      <td>IQG16Q01N02</td>\n",
       "      <td>POLYGON ((44.19124 34.77808, 44.21397 34.75600...</td>\n",
       "      <td>2933.0</td>\n",
       "      <td>Markaz Al-Daur</td>\n",
       "    </tr>\n",
       "    <tr>\n",
       "      <th>1</th>\n",
       "      <td>IQG16Q01N02</td>\n",
       "      <td>POLYGON ((44.19124 34.77808, 44.21397 34.75600...</td>\n",
       "      <td>2932.0</td>\n",
       "      <td>Markaz Al-Daur</td>\n",
       "    </tr>\n",
       "    <tr>\n",
       "      <th>2</th>\n",
       "      <td>IQG08Q02N02</td>\n",
       "      <td>POLYGON ((44.05011 33.42133, 44.05663 33.42086...</td>\n",
       "      <td>441.0</td>\n",
       "      <td>Markaz Abu Ghraib</td>\n",
       "    </tr>\n",
       "  </tbody>\n",
       "</table>\n",
       "</div>"
      ],
      "text/plain": [
       "    ADM3_PCODE                                           geometry  \\\n",
       "0  IQG07Q02N02  POLYGON ((44.36654 32.56190, 44.36466 32.55802...   \n",
       "0  IQG07Q02N02  POLYGON ((44.36654 32.56190, 44.36466 32.55802...   \n",
       "1  IQG16Q01N02  POLYGON ((44.19124 34.77808, 44.21397 34.75600...   \n",
       "1  IQG16Q01N02  POLYGON ((44.19124 34.77808, 44.21397 34.75600...   \n",
       "2  IQG08Q02N02  POLYGON ((44.05011 33.42133, 44.05663 33.42086...   \n",
       "\n",
       "   index_right       Sub-district  \n",
       "0        392.0    Markaz Al-Hilla  \n",
       "0        390.0         Abu Gharaq  \n",
       "1       2933.0     Markaz Al-Daur  \n",
       "1       2932.0     Markaz Al-Daur  \n",
       "2        441.0  Markaz Abu Ghraib  "
      ]
     },
     "execution_count": 74,
     "metadata": {},
     "output_type": "execute_result"
    }
   ],
   "source": [
    "# spatial join with adm3 areas\n",
    "adm3_locs_join = iraq_shp_adm3.loc[:,('ADM3_PCODE','geometry')]\n",
    "\n",
    "subd_adm3_df = adm3_locs_join.sjoin(iom_locs_geo,how='left',predicate='intersects')\n",
    "print(adm3_locs_join.shape)\n",
    "print(iom_locs_geo.shape)\n",
    "print(subd_adm3_df.shape)\n",
    "subd_adm3_df.head()"
   ]
  },
  {
   "cell_type": "code",
   "execution_count": 79,
   "metadata": {},
   "outputs": [
    {
     "name": "stdout",
     "output_type": "stream",
     "text": [
      "(391, 2)\n"
     ]
    },
    {
     "data": {
      "text/html": [
       "<div>\n",
       "<style scoped>\n",
       "    .dataframe tbody tr th:only-of-type {\n",
       "        vertical-align: middle;\n",
       "    }\n",
       "\n",
       "    .dataframe tbody tr th {\n",
       "        vertical-align: top;\n",
       "    }\n",
       "\n",
       "    .dataframe thead th {\n",
       "        text-align: right;\n",
       "    }\n",
       "</style>\n",
       "<table border=\"1\" class=\"dataframe\">\n",
       "  <thead>\n",
       "    <tr style=\"text-align: right;\">\n",
       "      <th></th>\n",
       "      <th>ADM3_PCODE</th>\n",
       "      <th>Sub-district</th>\n",
       "    </tr>\n",
       "  </thead>\n",
       "  <tbody>\n",
       "    <tr>\n",
       "      <th>0</th>\n",
       "      <td>IQG07Q02N02</td>\n",
       "      <td>Markaz Al-Hilla</td>\n",
       "    </tr>\n",
       "    <tr>\n",
       "      <th>0</th>\n",
       "      <td>IQG07Q02N02</td>\n",
       "      <td>Abu Gharaq</td>\n",
       "    </tr>\n",
       "    <tr>\n",
       "      <th>1</th>\n",
       "      <td>IQG16Q01N02</td>\n",
       "      <td>Markaz Al-Daur</td>\n",
       "    </tr>\n",
       "    <tr>\n",
       "      <th>2</th>\n",
       "      <td>IQG08Q02N02</td>\n",
       "      <td>Markaz Abu Ghraib</td>\n",
       "    </tr>\n",
       "    <tr>\n",
       "      <th>2</th>\n",
       "      <td>IQG08Q02N02</td>\n",
       "      <td>Akar koof</td>\n",
       "    </tr>\n",
       "  </tbody>\n",
       "</table>\n",
       "</div>"
      ],
      "text/plain": [
       "    ADM3_PCODE       Sub-district\n",
       "0  IQG07Q02N02    Markaz Al-Hilla\n",
       "0  IQG07Q02N02         Abu Gharaq\n",
       "1  IQG16Q01N02     Markaz Al-Daur\n",
       "2  IQG08Q02N02  Markaz Abu Ghraib\n",
       "2  IQG08Q02N02          Akar koof"
      ]
     },
     "execution_count": 79,
     "metadata": {},
     "output_type": "execute_result"
    }
   ],
   "source": [
    "adm3_subd_map = subd_adm3_df.loc[:,('ADM3_PCODE','Sub-district')].drop_duplicates()\n",
    "adm3_subd_map = adm3_subd_map[adm3_subd_map.notna()]\n",
    "print(adm3_subd_map.shape)\n",
    "adm3_subd_map.head()"
   ]
  },
  {
   "cell_type": "code",
   "execution_count": 76,
   "metadata": {},
   "outputs": [
    {
     "name": "stdout",
     "output_type": "stream",
     "text": [
      "(90, 4)\n"
     ]
    },
    {
     "data": {
      "text/html": [
       "<div>\n",
       "<style scoped>\n",
       "    .dataframe tbody tr th:only-of-type {\n",
       "        vertical-align: middle;\n",
       "    }\n",
       "\n",
       "    .dataframe tbody tr th {\n",
       "        vertical-align: top;\n",
       "    }\n",
       "\n",
       "    .dataframe thead th {\n",
       "        text-align: right;\n",
       "    }\n",
       "</style>\n",
       "<table border=\"1\" class=\"dataframe\">\n",
       "  <thead>\n",
       "    <tr style=\"text-align: right;\">\n",
       "      <th></th>\n",
       "      <th>ADM3_PCODE</th>\n",
       "      <th>geometry</th>\n",
       "      <th>index_right</th>\n",
       "      <th>Sub-district</th>\n",
       "    </tr>\n",
       "  </thead>\n",
       "  <tbody>\n",
       "    <tr>\n",
       "      <th>12</th>\n",
       "      <td>IQG14Q05N01</td>\n",
       "      <td>POLYGON ((47.72724 31.46606, 47.71829 31.44591...</td>\n",
       "      <td>NaN</td>\n",
       "      <td>NaN</td>\n",
       "    </tr>\n",
       "    <tr>\n",
       "      <th>15</th>\n",
       "      <td>IQG02Q03N01</td>\n",
       "      <td>POLYGON ((48.46115 29.99500, 48.41589 29.99451...</td>\n",
       "      <td>NaN</td>\n",
       "      <td>NaN</td>\n",
       "    </tr>\n",
       "    <tr>\n",
       "      <th>17</th>\n",
       "      <td>IQG17Q04N01</td>\n",
       "      <td>POLYGON ((45.93125 31.31548, 45.93482 31.31191...</td>\n",
       "      <td>NaN</td>\n",
       "      <td>NaN</td>\n",
       "    </tr>\n",
       "    <tr>\n",
       "      <th>20</th>\n",
       "      <td>IQG02Q05N01</td>\n",
       "      <td>POLYGON ((47.49807 30.97416, 47.50160 30.96785...</td>\n",
       "      <td>NaN</td>\n",
       "      <td>NaN</td>\n",
       "    </tr>\n",
       "    <tr>\n",
       "      <th>21</th>\n",
       "      <td>IQG17Q03N03</td>\n",
       "      <td>POLYGON ((46.60449 31.45911, 46.59415 31.45386...</td>\n",
       "      <td>NaN</td>\n",
       "      <td>NaN</td>\n",
       "    </tr>\n",
       "  </tbody>\n",
       "</table>\n",
       "</div>"
      ],
      "text/plain": [
       "     ADM3_PCODE                                           geometry  \\\n",
       "12  IQG14Q05N01  POLYGON ((47.72724 31.46606, 47.71829 31.44591...   \n",
       "15  IQG02Q03N01  POLYGON ((48.46115 29.99500, 48.41589 29.99451...   \n",
       "17  IQG17Q04N01  POLYGON ((45.93125 31.31548, 45.93482 31.31191...   \n",
       "20  IQG02Q05N01  POLYGON ((47.49807 30.97416, 47.50160 30.96785...   \n",
       "21  IQG17Q03N03  POLYGON ((46.60449 31.45911, 46.59415 31.45386...   \n",
       "\n",
       "    index_right Sub-district  \n",
       "12          NaN          NaN  \n",
       "15          NaN          NaN  \n",
       "17          NaN          NaN  \n",
       "20          NaN          NaN  \n",
       "21          NaN          NaN  "
      ]
     },
     "execution_count": 76,
     "metadata": {},
     "output_type": "execute_result"
    }
   ],
   "source": [
    "# find places where no IOM was matched to ADM3\n",
    "nomatch_adm3 = subd_adm3_df[subd_adm3_df['Sub-district'].isna()].drop_duplicates()\n",
    "print(nomatch_adm3.shape)\n",
    "nomatch_adm3.head()"
   ]
  },
  {
   "cell_type": "code",
   "execution_count": 77,
   "metadata": {},
   "outputs": [
    {
     "name": "stdout",
     "output_type": "stream",
     "text": [
      "(3717, 3)\n"
     ]
    },
    {
     "data": {
      "text/html": [
       "<div>\n",
       "<style scoped>\n",
       "    .dataframe tbody tr th:only-of-type {\n",
       "        vertical-align: middle;\n",
       "    }\n",
       "\n",
       "    .dataframe tbody tr th {\n",
       "        vertical-align: top;\n",
       "    }\n",
       "\n",
       "    .dataframe thead th {\n",
       "        text-align: right;\n",
       "    }\n",
       "</style>\n",
       "<table border=\"1\" class=\"dataframe\">\n",
       "  <thead>\n",
       "    <tr style=\"text-align: right;\">\n",
       "      <th></th>\n",
       "      <th>Sub-district</th>\n",
       "      <th>geometry</th>\n",
       "    </tr>\n",
       "  </thead>\n",
       "  <tbody>\n",
       "    <tr>\n",
       "      <th>0</th>\n",
       "      <td>Al-Obiadi</td>\n",
       "      <td>POINT (41.20149 34.42020)</td>\n",
       "    </tr>\n",
       "    <tr>\n",
       "      <th>1</th>\n",
       "      <td>Al-Obiadi</td>\n",
       "      <td>POINT (41.23414 34.43304)</td>\n",
       "    </tr>\n",
       "    <tr>\n",
       "      <th>2</th>\n",
       "      <td>Al-Obiadi</td>\n",
       "      <td>POINT (41.22633 34.42921)</td>\n",
       "    </tr>\n",
       "    <tr>\n",
       "      <th>3</th>\n",
       "      <td>Al-Obiadi</td>\n",
       "      <td>POINT (41.22601 34.43465)</td>\n",
       "    </tr>\n",
       "    <tr>\n",
       "      <th>4</th>\n",
       "      <td>Al-Obiadi</td>\n",
       "      <td>POINT (41.23290 34.43660)</td>\n",
       "    </tr>\n",
       "  </tbody>\n",
       "</table>\n",
       "</div>"
      ],
      "text/plain": [
       "  Sub-district                   geometry\n",
       "0    Al-Obiadi  POINT (41.20149 34.42020)\n",
       "1    Al-Obiadi  POINT (41.23414 34.43304)\n",
       "2    Al-Obiadi  POINT (41.22633 34.42921)\n",
       "3    Al-Obiadi  POINT (41.22601 34.43465)\n",
       "4    Al-Obiadi  POINT (41.23290 34.43660)"
      ]
     },
     "execution_count": 77,
     "metadata": {},
     "output_type": "execute_result"
    }
   ],
   "source": [
    "# for unmatched Admin areas, try using all the iom areas to join\n",
    "iom_locs_geo_full = iom_int_locs.loc[:,('Sub-district','Latitude','Longitude')]\n",
    "print(iom_locs_geo_full.shape)\n",
    "# convert IOM lat/lon to point geometry\n",
    "iom_locs_geo_full['geometry'] = gpd.points_from_xy(iom_locs_geo_full['Longitude'],iom_locs_geo_full['Latitude'])\n",
    "iom_locs_geo_full = iom_locs_geo_full.drop(columns=['Latitude','Longitude'])\n",
    "iom_locs_geo_full = gpd.GeoDataFrame(iom_locs_geo_full, geometry='geometry',crs='EPSG:4326')\n",
    "iom_locs_geo_full.head()"
   ]
  },
  {
   "cell_type": "code",
   "execution_count": 81,
   "metadata": {},
   "outputs": [
    {
     "name": "stdout",
     "output_type": "stream",
     "text": [
      "(90, 2)\n",
      "(3717, 2)\n",
      "(15, 2)\n"
     ]
    },
    {
     "data": {
      "text/html": [
       "<div>\n",
       "<style scoped>\n",
       "    .dataframe tbody tr th:only-of-type {\n",
       "        vertical-align: middle;\n",
       "    }\n",
       "\n",
       "    .dataframe tbody tr th {\n",
       "        vertical-align: top;\n",
       "    }\n",
       "\n",
       "    .dataframe thead th {\n",
       "        text-align: right;\n",
       "    }\n",
       "</style>\n",
       "<table border=\"1\" class=\"dataframe\">\n",
       "  <thead>\n",
       "    <tr style=\"text-align: right;\">\n",
       "      <th></th>\n",
       "      <th>ADM3_PCODE</th>\n",
       "      <th>Sub-district</th>\n",
       "    </tr>\n",
       "  </thead>\n",
       "  <tbody>\n",
       "    <tr>\n",
       "      <th>28</th>\n",
       "      <td>IQG08Q01N02</td>\n",
       "      <td>Markaz Al Adhamia</td>\n",
       "    </tr>\n",
       "    <tr>\n",
       "      <th>30</th>\n",
       "      <td>IQG05Q01N02</td>\n",
       "      <td>Markaz Al-Diwaniya</td>\n",
       "    </tr>\n",
       "    <tr>\n",
       "      <th>45</th>\n",
       "      <td>IQG04Q01N01</td>\n",
       "      <td>Markaz Al-Najaf</td>\n",
       "    </tr>\n",
       "    <tr>\n",
       "      <th>64</th>\n",
       "      <td>IQG13Q04N03</td>\n",
       "      <td>Al-Multaqa</td>\n",
       "    </tr>\n",
       "    <tr>\n",
       "      <th>64</th>\n",
       "      <td>IQG13Q04N03</td>\n",
       "      <td>Yaychi</td>\n",
       "    </tr>\n",
       "  </tbody>\n",
       "</table>\n",
       "</div>"
      ],
      "text/plain": [
       "     ADM3_PCODE        Sub-district\n",
       "28  IQG08Q01N02   Markaz Al Adhamia\n",
       "30  IQG05Q01N02  Markaz Al-Diwaniya\n",
       "45  IQG04Q01N01     Markaz Al-Najaf\n",
       "64  IQG13Q04N03          Al-Multaqa\n",
       "64  IQG13Q04N03              Yaychi"
      ]
     },
     "execution_count": 81,
     "metadata": {},
     "output_type": "execute_result"
    }
   ],
   "source": [
    "# spatial join of remaining unmatched adm3 areas\n",
    "adm3_locs_join_rd2 = nomatch_adm3.loc[:,('ADM3_PCODE','geometry')]\n",
    "\n",
    "subd_adm3_df_rd2 = adm3_locs_join_rd2.sjoin(iom_locs_geo_full,how='left',predicate='intersects')\n",
    "print(adm3_locs_join_rd2.shape)\n",
    "print(iom_locs_geo_full.shape)\n",
    "adm3_subd_map_rd2 = subd_adm3_df_rd2.loc[:,('ADM3_PCODE','Sub-district')].drop_duplicates()\n",
    "adm3_subd_map_rd2 = adm3_subd_map_rd2[adm3_subd_map_rd2['Sub-district'].notna()]\n",
    "print(adm3_subd_map_rd2.shape)\n",
    "adm3_subd_map_rd2.head()"
   ]
  },
  {
   "cell_type": "code",
   "execution_count": 82,
   "metadata": {},
   "outputs": [
    {
     "data": {
      "text/plain": [
       "(406, 2)"
      ]
     },
     "execution_count": 82,
     "metadata": {},
     "output_type": "execute_result"
    }
   ],
   "source": [
    "# final ADM3 areas that successfully intersected wih an IOM Subdistrict\n",
    "adm3_joins_iom = pd.concat([adm3_subd_map_rd2,adm3_subd_map])\n",
    "adm3_joins_iom.shape"
   ]
  },
  {
   "cell_type": "code",
   "execution_count": 84,
   "metadata": {},
   "outputs": [
    {
     "data": {
      "text/html": [
       "<div>\n",
       "<style scoped>\n",
       "    .dataframe tbody tr th:only-of-type {\n",
       "        vertical-align: middle;\n",
       "    }\n",
       "\n",
       "    .dataframe tbody tr th {\n",
       "        vertical-align: top;\n",
       "    }\n",
       "\n",
       "    .dataframe thead th {\n",
       "        text-align: right;\n",
       "    }\n",
       "</style>\n",
       "<table border=\"1\" class=\"dataframe\">\n",
       "  <thead>\n",
       "    <tr style=\"text-align: right;\">\n",
       "      <th></th>\n",
       "      <th>Sub-district</th>\n",
       "      <th>geometry</th>\n",
       "      <th>ADM3_PCODE</th>\n",
       "    </tr>\n",
       "  </thead>\n",
       "  <tbody>\n",
       "  </tbody>\n",
       "</table>\n",
       "</div>"
      ],
      "text/plain": [
       "Empty GeoDataFrame\n",
       "Columns: [Sub-district, geometry, ADM3_PCODE]\n",
       "Index: []"
      ]
     },
     "execution_count": 84,
     "metadata": {},
     "output_type": "execute_result"
    }
   ],
   "source": [
    "# confirm no IOM subdistricts are missing from adm3_joins_iom\n",
    "iom_remainder_tomatch = iom_locs_geo.merge(adm3_joins_iom, on='Sub-district',how='left')\n",
    "iom_remainder_tomatch[iom_remainder_tomatch['ADM3_PCODE'].isna()]"
   ]
  },
  {
   "cell_type": "code",
   "execution_count": 95,
   "metadata": {},
   "outputs": [
    {
     "name": "stdout",
     "output_type": "stream",
     "text": [
      "(49, 2)\n",
      "(101, 2)\n",
      "(101, 3)\n"
     ]
    },
    {
     "data": {
      "text/html": [
       "<div>\n",
       "<style scoped>\n",
       "    .dataframe tbody tr th:only-of-type {\n",
       "        vertical-align: middle;\n",
       "    }\n",
       "\n",
       "    .dataframe tbody tr th {\n",
       "        vertical-align: top;\n",
       "    }\n",
       "\n",
       "    .dataframe thead th {\n",
       "        text-align: right;\n",
       "    }\n",
       "</style>\n",
       "<table border=\"1\" class=\"dataframe\">\n",
       "  <thead>\n",
       "    <tr style=\"text-align: right;\">\n",
       "      <th></th>\n",
       "      <th>Sub-district</th>\n",
       "      <th>ADM3_PCODE</th>\n",
       "      <th>ADM3_EN</th>\n",
       "    </tr>\n",
       "  </thead>\n",
       "  <tbody>\n",
       "    <tr>\n",
       "      <th>0</th>\n",
       "      <td>9 Nissan</td>\n",
       "      <td>IQG08Q06N02</td>\n",
       "      <td>Baghdad Al-Jedeeda</td>\n",
       "    </tr>\n",
       "    <tr>\n",
       "      <th>1</th>\n",
       "      <td>9 Nissan</td>\n",
       "      <td>IQG08Q07N01</td>\n",
       "      <td>Markaz Al-Thawra</td>\n",
       "    </tr>\n",
       "    <tr>\n",
       "      <th>2</th>\n",
       "      <td>Abaiji</td>\n",
       "      <td>IQG16Q04N04</td>\n",
       "      <td>Al-Dujeel</td>\n",
       "    </tr>\n",
       "    <tr>\n",
       "      <th>3</th>\n",
       "      <td>Abaiji</td>\n",
       "      <td>IQG08Q02N04</td>\n",
       "      <td>Al-Tarmiya</td>\n",
       "    </tr>\n",
       "    <tr>\n",
       "      <th>4</th>\n",
       "      <td>Akar koof</td>\n",
       "      <td>IQG08Q02N02</td>\n",
       "      <td>Abu Ghraib</td>\n",
       "    </tr>\n",
       "    <tr>\n",
       "      <th>...</th>\n",
       "      <td>...</td>\n",
       "      <td>...</td>\n",
       "      <td>...</td>\n",
       "    </tr>\n",
       "    <tr>\n",
       "      <th>96</th>\n",
       "      <td>Warmawa</td>\n",
       "      <td>IQG06Q01N02</td>\n",
       "      <td>Qaradagh</td>\n",
       "    </tr>\n",
       "    <tr>\n",
       "      <th>97</th>\n",
       "      <td>Yaychi</td>\n",
       "      <td>IQG13Q04N03</td>\n",
       "      <td>Al-Multaka</td>\n",
       "    </tr>\n",
       "    <tr>\n",
       "      <th>98</th>\n",
       "      <td>Yaychi</td>\n",
       "      <td>IQG13Q04N04</td>\n",
       "      <td>Yaijy</td>\n",
       "    </tr>\n",
       "    <tr>\n",
       "      <th>99</th>\n",
       "      <td>Zummar</td>\n",
       "      <td>IQG15Q08N01</td>\n",
       "      <td>Markaz Telafar</td>\n",
       "    </tr>\n",
       "    <tr>\n",
       "      <th>100</th>\n",
       "      <td>Zummar</td>\n",
       "      <td>IQG15Q08N03</td>\n",
       "      <td>Zummar</td>\n",
       "    </tr>\n",
       "  </tbody>\n",
       "</table>\n",
       "<p>101 rows × 3 columns</p>\n",
       "</div>"
      ],
      "text/plain": [
       "    Sub-district   ADM3_PCODE             ADM3_EN\n",
       "0       9 Nissan  IQG08Q06N02  Baghdad Al-Jedeeda\n",
       "1       9 Nissan  IQG08Q07N01    Markaz Al-Thawra\n",
       "2         Abaiji  IQG16Q04N04           Al-Dujeel\n",
       "3         Abaiji  IQG08Q02N04          Al-Tarmiya\n",
       "4      Akar koof  IQG08Q02N02          Abu Ghraib\n",
       "..           ...          ...                 ...\n",
       "96       Warmawa  IQG06Q01N02            Qaradagh\n",
       "97        Yaychi  IQG13Q04N03          Al-Multaka\n",
       "98        Yaychi  IQG13Q04N04               Yaijy\n",
       "99        Zummar  IQG15Q08N01      Markaz Telafar\n",
       "100       Zummar  IQG15Q08N03              Zummar\n",
       "\n",
       "[101 rows x 3 columns]"
      ]
     },
     "execution_count": 95,
     "metadata": {},
     "output_type": "execute_result"
    }
   ],
   "source": [
    "# identify double-matched adm3 areas to subdistricts\n",
    "double_matched_subds = adm3_joins_iom.groupby('Sub-district').nunique().reset_index()\n",
    "double_matched_subds = double_matched_subds[double_matched_subds['ADM3_PCODE']>1]\n",
    "print(double_matched_subds.shape)\n",
    "double_matched_subds = double_matched_subds.merge(adm3_joins_iom, on='Sub-district',how='left')\n",
    "double_matched_subds = double_matched_subds.drop(columns=['ADM3_PCODE_x'])\n",
    "double_matched_subds = double_matched_subds.rename(columns={'ADM3_PCODE_y':'ADM3_PCODE'})\n",
    "print(double_matched_subds.shape)\n",
    "double_matched_subds = double_matched_subds.merge(iraq_shp_adm3.loc[:,('ADM3_PCODE','ADM3_EN')])\n",
    "print(double_matched_subds.shape)\n",
    "double_matched_subds"
   ]
  },
  {
   "cell_type": "code",
   "execution_count": 96,
   "metadata": {},
   "outputs": [
    {
     "name": "stdout",
     "output_type": "stream",
     "text": [
      "(20, 3)\n"
     ]
    },
    {
     "data": {
      "text/html": [
       "<div>\n",
       "<style scoped>\n",
       "    .dataframe tbody tr th:only-of-type {\n",
       "        vertical-align: middle;\n",
       "    }\n",
       "\n",
       "    .dataframe tbody tr th {\n",
       "        vertical-align: top;\n",
       "    }\n",
       "\n",
       "    .dataframe thead th {\n",
       "        text-align: right;\n",
       "    }\n",
       "</style>\n",
       "<table border=\"1\" class=\"dataframe\">\n",
       "  <thead>\n",
       "    <tr style=\"text-align: right;\">\n",
       "      <th></th>\n",
       "      <th>Sub-district</th>\n",
       "      <th>ADM3_PCODE</th>\n",
       "      <th>ADM3_EN</th>\n",
       "    </tr>\n",
       "  </thead>\n",
       "  <tbody>\n",
       "    <tr>\n",
       "      <th>8</th>\n",
       "      <td>Al-Amirya</td>\n",
       "      <td>IQG01Q01N01</td>\n",
       "      <td>Al-Amirya</td>\n",
       "    </tr>\n",
       "    <tr>\n",
       "      <th>12</th>\n",
       "      <td>Al-Duloeyah</td>\n",
       "      <td>IQG16Q04N03</td>\n",
       "      <td>Al-Duloeyah</td>\n",
       "    </tr>\n",
       "    <tr>\n",
       "      <th>14</th>\n",
       "      <td>Al-Garma</td>\n",
       "      <td>IQG01Q01N02</td>\n",
       "      <td>Al-Garma</td>\n",
       "    </tr>\n",
       "    <tr>\n",
       "      <th>16</th>\n",
       "      <td>Al-Habbaniya</td>\n",
       "      <td>IQG01Q03N01</td>\n",
       "      <td>Al-Habbaniya</td>\n",
       "    </tr>\n",
       "    <tr>\n",
       "      <th>18</th>\n",
       "      <td>Al-Haqlaniya</td>\n",
       "      <td>IQG01Q06N01</td>\n",
       "      <td>Al-Haqlaniya</td>\n",
       "    </tr>\n",
       "    <tr>\n",
       "      <th>25</th>\n",
       "      <td>Al-Qosh</td>\n",
       "      <td>IQG15Q09N02</td>\n",
       "      <td>Al-Qosh</td>\n",
       "    </tr>\n",
       "    <tr>\n",
       "      <th>32</th>\n",
       "      <td>Al-Yousifya</td>\n",
       "      <td>IQG08Q05N04</td>\n",
       "      <td>Al-Yousifya</td>\n",
       "    </tr>\n",
       "    <tr>\n",
       "      <th>34</th>\n",
       "      <td>Al-Zubaidiya</td>\n",
       "      <td>IQG18Q04N01</td>\n",
       "      <td>Al-Zubaidiya</td>\n",
       "    </tr>\n",
       "    <tr>\n",
       "      <th>37</th>\n",
       "      <td>Batifa</td>\n",
       "      <td>IQG09Q04N02</td>\n",
       "      <td>Batifa</td>\n",
       "    </tr>\n",
       "    <tr>\n",
       "      <th>53</th>\n",
       "      <td>Markaz Al-Diwaniya</td>\n",
       "      <td>IQG05Q02N04</td>\n",
       "      <td>Markaz Al-Diwaniya</td>\n",
       "    </tr>\n",
       "    <tr>\n",
       "      <th>55</th>\n",
       "      <td>Markaz Al-Hilla</td>\n",
       "      <td>IQG07Q02N03</td>\n",
       "      <td>Markaz Al-Hilla</td>\n",
       "    </tr>\n",
       "    <tr>\n",
       "      <th>57</th>\n",
       "      <td>Markaz Al-Hindiya</td>\n",
       "      <td>IQG12Q02N02</td>\n",
       "      <td>Markaz Al-Hindiya</td>\n",
       "    </tr>\n",
       "    <tr>\n",
       "      <th>60</th>\n",
       "      <td>Markaz Al-Kut</td>\n",
       "      <td>IQG18Q02N03</td>\n",
       "      <td>Markaz Al-Kut</td>\n",
       "    </tr>\n",
       "    <tr>\n",
       "      <th>63</th>\n",
       "      <td>Markaz Al-Najaf</td>\n",
       "      <td>IQG04Q03N03</td>\n",
       "      <td>Markaz Al-Najaf</td>\n",
       "    </tr>\n",
       "    <tr>\n",
       "      <th>65</th>\n",
       "      <td>Markaz Al-Shirqat</td>\n",
       "      <td>IQG16Q02N01</td>\n",
       "      <td>Markaz Al-Shirqat</td>\n",
       "    </tr>\n",
       "    <tr>\n",
       "      <th>68</th>\n",
       "      <td>Markaz Daquq</td>\n",
       "      <td>IQG13Q02N02</td>\n",
       "      <td>Markaz Daquq</td>\n",
       "    </tr>\n",
       "    <tr>\n",
       "      <th>71</th>\n",
       "      <td>Markaz Kifri</td>\n",
       "      <td>IQG10Q06N02</td>\n",
       "      <td>Markaz Kifri</td>\n",
       "    </tr>\n",
       "    <tr>\n",
       "      <th>78</th>\n",
       "      <td>Markaz Samarra</td>\n",
       "      <td>IQG16Q05N03</td>\n",
       "      <td>Markaz Samarra</td>\n",
       "    </tr>\n",
       "    <tr>\n",
       "      <th>84</th>\n",
       "      <td>Markaz Shat Al-Arab</td>\n",
       "      <td>IQG02Q07N02</td>\n",
       "      <td>Markaz Shat Al-Arab</td>\n",
       "    </tr>\n",
       "    <tr>\n",
       "      <th>100</th>\n",
       "      <td>Zummar</td>\n",
       "      <td>IQG15Q08N03</td>\n",
       "      <td>Zummar</td>\n",
       "    </tr>\n",
       "  </tbody>\n",
       "</table>\n",
       "</div>"
      ],
      "text/plain": [
       "            Sub-district   ADM3_PCODE              ADM3_EN\n",
       "8              Al-Amirya  IQG01Q01N01            Al-Amirya\n",
       "12           Al-Duloeyah  IQG16Q04N03          Al-Duloeyah\n",
       "14              Al-Garma  IQG01Q01N02             Al-Garma\n",
       "16          Al-Habbaniya  IQG01Q03N01         Al-Habbaniya\n",
       "18          Al-Haqlaniya  IQG01Q06N01         Al-Haqlaniya\n",
       "25               Al-Qosh  IQG15Q09N02              Al-Qosh\n",
       "32           Al-Yousifya  IQG08Q05N04          Al-Yousifya\n",
       "34          Al-Zubaidiya  IQG18Q04N01         Al-Zubaidiya\n",
       "37                Batifa  IQG09Q04N02               Batifa\n",
       "53    Markaz Al-Diwaniya  IQG05Q02N04   Markaz Al-Diwaniya\n",
       "55       Markaz Al-Hilla  IQG07Q02N03      Markaz Al-Hilla\n",
       "57     Markaz Al-Hindiya  IQG12Q02N02    Markaz Al-Hindiya\n",
       "60         Markaz Al-Kut  IQG18Q02N03        Markaz Al-Kut\n",
       "63       Markaz Al-Najaf  IQG04Q03N03      Markaz Al-Najaf\n",
       "65     Markaz Al-Shirqat  IQG16Q02N01    Markaz Al-Shirqat\n",
       "68          Markaz Daquq  IQG13Q02N02         Markaz Daquq\n",
       "71          Markaz Kifri  IQG10Q06N02         Markaz Kifri\n",
       "78        Markaz Samarra  IQG16Q05N03       Markaz Samarra\n",
       "84   Markaz Shat Al-Arab  IQG02Q07N02  Markaz Shat Al-Arab\n",
       "100               Zummar  IQG15Q08N03               Zummar"
      ]
     },
     "execution_count": 96,
     "metadata": {},
     "output_type": "execute_result"
    }
   ],
   "source": [
    "# if names match in double-matched areas, use the matched names \n",
    "double_matched_subds_namematch = double_matched_subds[double_matched_subds['Sub-district']==double_matched_subds['ADM3_EN']]\n",
    "print(double_matched_subds_namematch.shape)\n",
    "double_matched_subds_namematch"
   ]
  },
  {
   "cell_type": "code",
   "execution_count": 102,
   "metadata": {},
   "outputs": [
    {
     "name": "stdout",
     "output_type": "stream",
     "text": [
      "(59, 3)\n"
     ]
    }
   ],
   "source": [
    "# where names don't match in double-matched areas, prep for manual matching\n",
    "nomatch_doublematch = double_matched_subds[~double_matched_subds['Sub-district'].isin(double_matched_subds_namematch['Sub-district'].unique())]\n",
    "print(nomatch_doublematch.shape)\n",
    "\n",
    "fin_manual_match = source_dir + '/final_manual_match.csv'\n",
    "nomatch_doublematch.to_csv(fin_manual_match)"
   ]
  },
  {
   "cell_type": "markdown",
   "metadata": {},
   "source": [
    "#### Final Matched Dataframe"
   ]
  },
  {
   "cell_type": "code",
   "execution_count": 100,
   "metadata": {},
   "outputs": [
    {
     "name": "stdout",
     "output_type": "stream",
     "text": [
      "(215, 3)\n"
     ]
    },
    {
     "data": {
      "text/html": [
       "<div>\n",
       "<style scoped>\n",
       "    .dataframe tbody tr th:only-of-type {\n",
       "        vertical-align: middle;\n",
       "    }\n",
       "\n",
       "    .dataframe tbody tr th {\n",
       "        vertical-align: top;\n",
       "    }\n",
       "\n",
       "    .dataframe thead th {\n",
       "        text-align: right;\n",
       "    }\n",
       "</style>\n",
       "<table border=\"1\" class=\"dataframe\">\n",
       "  <thead>\n",
       "    <tr style=\"text-align: right;\">\n",
       "      <th></th>\n",
       "      <th>Sub-district</th>\n",
       "      <th>ADM3_PCODE</th>\n",
       "      <th>ADM3_EN</th>\n",
       "    </tr>\n",
       "  </thead>\n",
       "  <tbody>\n",
       "    <tr>\n",
       "      <th>0</th>\n",
       "      <td>AL-Hurr</td>\n",
       "      <td>IQG12Q03N01</td>\n",
       "      <td>Markaz Kerbela</td>\n",
       "    </tr>\n",
       "    <tr>\n",
       "      <th>1</th>\n",
       "      <td>AL-Khayrat</td>\n",
       "      <td>IQG12Q02N02</td>\n",
       "      <td>Markaz Al-Hindiya</td>\n",
       "    </tr>\n",
       "  </tbody>\n",
       "</table>\n",
       "</div>"
      ],
      "text/plain": [
       "  Sub-district   ADM3_PCODE            ADM3_EN\n",
       "0      AL-Hurr  IQG12Q03N01     Markaz Kerbela\n",
       "1   AL-Khayrat  IQG12Q02N02  Markaz Al-Hindiya"
      ]
     },
     "execution_count": 100,
     "metadata": {},
     "output_type": "execute_result"
    }
   ],
   "source": [
    "# iom-adm3 joins that didn't double-match geometries\n",
    "single_match = adm3_joins_iom.groupby('Sub-district').nunique().reset_index()\n",
    "single_match = single_match[single_match['ADM3_PCODE']==1]\n",
    "single_match = single_match.merge(adm3_joins_iom, on='Sub-district',how='left')\n",
    "single_match = single_match.drop(columns=['ADM3_PCODE_x'])\n",
    "single_match = single_match.rename(columns={'ADM3_PCODE_y':'ADM3_PCODE'})\n",
    "single_match = single_match.merge(iraq_shp_adm3.loc[:,('ADM3_PCODE','ADM3_EN')],on='ADM3_PCODE',how='left')\n",
    "\n",
    "print(single_match.shape)\n",
    "single_match.head(2)"
   ]
  },
  {
   "cell_type": "code",
   "execution_count": null,
   "metadata": {},
   "outputs": [],
   "source": [
    "fin_iom_adm3_name_map = pd.concat([single_match,double_matched_subds_namematch])"
   ]
  },
  {
   "cell_type": "code",
   "execution_count": null,
   "metadata": {},
   "outputs": [],
   "source": [
    "# testing how easy it is to join IOM with Adm 3 names\n",
    "iom_subdistricts_ar = pd.DataFrame({'iom_subd':iom_2022.Subdistrict.unique()})\n",
    "iraq_adm3_ar_names = pd.DataFrame({'adm3':iraq_shp_adm3.ADM3_AR.unique()})"
   ]
  },
  {
   "cell_type": "markdown",
   "metadata": {},
   "source": [
    "## English Name Joins - Does not work completely, not exact overlap"
   ]
  },
  {
   "cell_type": "code",
   "execution_count": null,
   "metadata": {},
   "outputs": [],
   "source": [
    "# testing how easy it is to join IOM with Adm 3 names\n",
    "iom_subdistricts = pd.DataFrame({'iom_subd':iom_2022.Subdistrict.unique()})\n",
    "iraq_adm3_names = pd.DataFrame({'adm3':iraq_shp_adm3.ADM3_EN.unique()})\n",
    "\n",
    "join_names = pd.merge(iom_subdistricts, iraq_adm3_names, left_on='iom_subd', right_on='adm3',how='outer')\n",
    "print(join_names.shape)\n",
    "# Adm 3 names that don't immediately match to IOM Subdistrict names\n",
    "print(join_names[join_names['iom_subd'].isna()].shape)\n",
    "# IOM Subdistrict names that don't immediately match to Adm 3 names\n",
    "print(join_names[join_names['adm3'].isna()].shape)"
   ]
  },
  {
   "cell_type": "code",
   "execution_count": null,
   "metadata": {},
   "outputs": [],
   "source": [
    "iom_subd_tocorrect = join_names[join_names['adm3'].isna()]['iom_subd']\n",
    "adm3_tocorrect = join_names[join_names['iom_subd'].isna()]['adm3']\n",
    "\n",
    "names_tomatch = pd.DataFrame({'iom_subdistict':list(sorted(iom_subd_tocorrect))})\n",
    "names_tomatch = names_tomatch.join(pd.DataFrame({'adm3_en':list(sorted(adm3_tocorrect))}),how='outer')\n",
    "print(names_tomatch.shape)\n",
    "names_tomatch.head()"
   ]
  },
  {
   "cell_type": "code",
   "execution_count": 36,
   "metadata": {},
   "outputs": [],
   "source": [
    "names_tomatch_file = source_dir + '/adm3_names_tomatch.csv'\n",
    "names_tomatch.to_csv(names_tomatch_file)"
   ]
  }
 ],
 "metadata": {
  "kernelspec": {
   "display_name": "iraq_postconflict",
   "language": "python",
   "name": "python3"
  },
  "language_info": {
   "codemirror_mode": {
    "name": "ipython",
    "version": 3
   },
   "file_extension": ".py",
   "mimetype": "text/x-python",
   "name": "python",
   "nbconvert_exporter": "python",
   "pygments_lexer": "ipython3",
   "version": "3.9.16"
  }
 },
 "nbformat": 4,
 "nbformat_minor": 2
}
