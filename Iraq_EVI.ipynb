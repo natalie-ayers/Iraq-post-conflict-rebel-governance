{
  "nbformat": 4,
  "nbformat_minor": 0,
  "metadata": {
    "colab": {
      "provenance": [],
      "machine_shape": "hm",
      "mount_file_id": "1FD0I9TRw5uTFBCJtZyONldrZL_eJw9_G",
      "authorship_tag": "ABX9TyM+63wOGA4tyPg7VaVNLpmW",
      "include_colab_link": true
    },
    "kernelspec": {
      "name": "python3",
      "display_name": "Python 3"
    },
    "language_info": {
      "name": "python"
    },
    "widgets": {
      "application/vnd.jupyter.widget-state+json": {
        "0880f861333c4c41881f3a7827224729": {
          "model_module": "jupyter-leaflet",
          "model_name": "LeafletMapModel",
          "model_module_version": "^0.18",
          "state": {
            "_dom_classes": [],
            "_model_module": "jupyter-leaflet",
            "_model_module_version": "^0.18",
            "_model_name": "LeafletMapModel",
            "_view_count": null,
            "_view_module": "jupyter-leaflet",
            "_view_module_version": "^0.18",
            "_view_name": "LeafletMapView",
            "bottom": 6902,
            "bounce_at_zoom_limits": true,
            "box_zoom": true,
            "center": [
              32.953368145799345,
              44.59350585937501
            ],
            "close_popup_on_click": true,
            "controls": [
              "IPY_MODEL_a85cdcd15f364850a79441a4dc0e3e47",
              "IPY_MODEL_9be0ac0572ad431295ed3bc60b7c1fe5",
              "IPY_MODEL_5a93fd29fd75469e9d756332e24a354e",
              "IPY_MODEL_77acd60c290b466c8695efba5cd862b1",
              "IPY_MODEL_a2ecdc31258248a69fc8fc4666a539ae",
              "IPY_MODEL_7bd6f63a725e4a30a7c81e1f4e26727e",
              "IPY_MODEL_db2e5cd2f51a4b99aea9939105ac854f",
              "IPY_MODEL_dafddd8d47c840e0b15276488d5bf0ca"
            ],
            "crs": {
              "name": "EPSG3857",
              "custom": false
            },
            "default_style": "IPY_MODEL_bbb302cd7a9946fa99ba465b4e97df8e",
            "double_click_zoom": true,
            "dragging": true,
            "dragging_style": "IPY_MODEL_7a90897eb9264785b1513ee84f6aff2e",
            "east": 54.22851562500001,
            "fullscreen": false,
            "inertia": true,
            "inertia_deceleration": 3000,
            "inertia_max_speed": 1500,
            "interpolation": "bilinear",
            "keyboard": true,
            "keyboard_pan_offset": 80,
            "keyboard_zoom_offset": 1,
            "layers": [
              "IPY_MODEL_9df64a84e20d45ee98b97f3d0486c673",
              "IPY_MODEL_45fec663f6b7487e9b8552fb10285213"
            ],
            "layout": "IPY_MODEL_5c422aa00cd6494491cb55cfd6f38d3d",
            "left": 9783,
            "max_zoom": 24,
            "min_zoom": null,
            "modisdate": "2024-03-04",
            "north": 38.30718056188316,
            "options": [
              "bounce_at_zoom_limits",
              "box_zoom",
              "center",
              "close_popup_on_click",
              "double_click_zoom",
              "dragging",
              "fullscreen",
              "inertia",
              "inertia_deceleration",
              "inertia_max_speed",
              "interpolation",
              "keyboard",
              "keyboard_pan_offset",
              "keyboard_zoom_offset",
              "max_zoom",
              "min_zoom",
              "prefer_canvas",
              "scroll_wheel_zoom",
              "tap",
              "tap_tolerance",
              "touch_zoom",
              "world_copy_jump",
              "zoom",
              "zoom_animation_threshold",
              "zoom_delta",
              "zoom_snap"
            ],
            "panes": {},
            "prefer_canvas": false,
            "right": 10660,
            "scroll_wheel_zoom": true,
            "south": 27.254629577800088,
            "style": "IPY_MODEL_bbb302cd7a9946fa99ba465b4e97df8e",
            "tap": true,
            "tap_tolerance": 15,
            "top": 6302,
            "touch_zoom": true,
            "west": 34.95849609375001,
            "window_url": "https://szvw39t57eg-496ff2e9c6d22116-0-colab.googleusercontent.com/outputframe.html?vrz=colab_20240229-060124_RC00_611358863",
            "world_copy_jump": false,
            "zoom": 6,
            "zoom_animation_threshold": 4,
            "zoom_delta": 1,
            "zoom_snap": 1
          }
        },
        "a85cdcd15f364850a79441a4dc0e3e47": {
          "model_module": "jupyter-leaflet",
          "model_name": "LeafletWidgetControlModel",
          "model_module_version": "^0.18",
          "state": {
            "_model_module": "jupyter-leaflet",
            "_model_module_version": "^0.18",
            "_model_name": "LeafletWidgetControlModel",
            "_view_count": null,
            "_view_module": "jupyter-leaflet",
            "_view_module_version": "^0.18",
            "_view_name": "LeafletWidgetControlView",
            "max_height": null,
            "max_width": null,
            "min_height": null,
            "min_width": null,
            "options": [
              "position",
              "transparent_bg"
            ],
            "position": "topleft",
            "transparent_bg": false,
            "widget": "IPY_MODEL_ff9889be37a243e1be3e662a963b0c47"
          }
        },
        "9be0ac0572ad431295ed3bc60b7c1fe5": {
          "model_module": "jupyter-leaflet",
          "model_name": "LeafletZoomControlModel",
          "model_module_version": "^0.18",
          "state": {
            "_model_module": "jupyter-leaflet",
            "_model_module_version": "^0.18",
            "_model_name": "LeafletZoomControlModel",
            "_view_count": null,
            "_view_module": "jupyter-leaflet",
            "_view_module_version": "^0.18",
            "_view_name": "LeafletZoomControlView",
            "options": [
              "position",
              "zoom_in_text",
              "zoom_in_title",
              "zoom_out_text",
              "zoom_out_title"
            ],
            "position": "topleft",
            "zoom_in_text": "+",
            "zoom_in_title": "Zoom in",
            "zoom_out_text": "-",
            "zoom_out_title": "Zoom out"
          }
        },
        "5a93fd29fd75469e9d756332e24a354e": {
          "model_module": "jupyter-leaflet",
          "model_name": "LeafletFullScreenControlModel",
          "model_module_version": "^0.18",
          "state": {
            "_model_module": "jupyter-leaflet",
            "_model_module_version": "^0.18",
            "_model_name": "LeafletFullScreenControlModel",
            "_view_count": null,
            "_view_module": "jupyter-leaflet",
            "_view_module_version": "^0.18",
            "_view_name": "LeafletFullScreenControlView",
            "options": [
              "position"
            ],
            "position": "topleft"
          }
        },
        "77acd60c290b466c8695efba5cd862b1": {
          "model_module": "jupyter-leaflet",
          "model_name": "LeafletDrawControlModel",
          "model_module_version": "^0.18",
          "state": {
            "_model_module": "jupyter-leaflet",
            "_model_module_version": "^0.18",
            "_model_name": "LeafletDrawControlModel",
            "_view_count": null,
            "_view_module": "jupyter-leaflet",
            "_view_module_version": "^0.18",
            "_view_name": "LeafletDrawControlView",
            "circle": {},
            "circlemarker": {},
            "data": [],
            "edit": true,
            "marker": {
              "shapeOptions": {
                "color": "#3388ff"
              }
            },
            "options": [
              "position"
            ],
            "polygon": {
              "shapeOptions": {}
            },
            "polyline": {
              "shapeOptions": {}
            },
            "position": "topleft",
            "rectangle": {
              "shapeOptions": {
                "color": "#3388ff"
              }
            },
            "remove": true
          }
        },
        "a2ecdc31258248a69fc8fc4666a539ae": {
          "model_module": "jupyter-leaflet",
          "model_name": "LeafletScaleControlModel",
          "model_module_version": "^0.18",
          "state": {
            "_model_module": "jupyter-leaflet",
            "_model_module_version": "^0.18",
            "_model_name": "LeafletScaleControlModel",
            "_view_count": null,
            "_view_module": "jupyter-leaflet",
            "_view_module_version": "^0.18",
            "_view_name": "LeafletScaleControlView",
            "imperial": true,
            "max_width": 100,
            "metric": true,
            "options": [
              "imperial",
              "max_width",
              "metric",
              "position",
              "update_when_idle"
            ],
            "position": "bottomleft",
            "update_when_idle": false
          }
        },
        "7bd6f63a725e4a30a7c81e1f4e26727e": {
          "model_module": "jupyter-leaflet",
          "model_name": "LeafletMeasureControlModel",
          "model_module_version": "^0.18",
          "state": {
            "_custom_units": {},
            "_model_module": "jupyter-leaflet",
            "_model_module_version": "^0.18",
            "_model_name": "LeafletMeasureControlModel",
            "_view_count": null,
            "_view_module": "jupyter-leaflet",
            "_view_module_version": "^0.18",
            "_view_name": "LeafletMeasureControlView",
            "active_color": "orange",
            "capture_z_index": 10000,
            "completed_color": "#C8F2BE",
            "options": [
              "active_color",
              "capture_z_index",
              "completed_color",
              "popup_options",
              "position",
              "primary_area_unit",
              "primary_length_unit",
              "secondary_area_unit",
              "secondary_length_unit"
            ],
            "popup_options": {
              "className": "leaflet-measure-resultpopup",
              "autoPanPadding": [
                10,
                10
              ]
            },
            "position": "bottomleft",
            "primary_area_unit": "acres",
            "primary_length_unit": "kilometers",
            "secondary_area_unit": null,
            "secondary_length_unit": null
          }
        },
        "db2e5cd2f51a4b99aea9939105ac854f": {
          "model_module": "jupyter-leaflet",
          "model_name": "LeafletWidgetControlModel",
          "model_module_version": "^0.18",
          "state": {
            "_model_module": "jupyter-leaflet",
            "_model_module_version": "^0.18",
            "_model_name": "LeafletWidgetControlModel",
            "_view_count": null,
            "_view_module": "jupyter-leaflet",
            "_view_module_version": "^0.18",
            "_view_name": "LeafletWidgetControlView",
            "max_height": null,
            "max_width": null,
            "min_height": null,
            "min_width": null,
            "options": [
              "position",
              "transparent_bg"
            ],
            "position": "topright",
            "transparent_bg": false,
            "widget": "IPY_MODEL_04976f8ee0e948e4830cdd78e8e8eef2"
          }
        },
        "dafddd8d47c840e0b15276488d5bf0ca": {
          "model_module": "jupyter-leaflet",
          "model_name": "LeafletAttributionControlModel",
          "model_module_version": "^0.18",
          "state": {
            "_model_module": "jupyter-leaflet",
            "_model_module_version": "^0.18",
            "_model_name": "LeafletAttributionControlModel",
            "_view_count": null,
            "_view_module": "jupyter-leaflet",
            "_view_module_version": "^0.18",
            "_view_name": "LeafletAttributionControlView",
            "options": [
              "position",
              "prefix"
            ],
            "position": "bottomright",
            "prefix": "ipyleaflet"
          }
        },
        "bbb302cd7a9946fa99ba465b4e97df8e": {
          "model_module": "jupyter-leaflet",
          "model_name": "LeafletMapStyleModel",
          "model_module_version": "^0.18",
          "state": {
            "_model_module": "jupyter-leaflet",
            "_model_module_version": "^0.18",
            "_model_name": "LeafletMapStyleModel",
            "_view_count": null,
            "_view_module": "@jupyter-widgets/base",
            "_view_module_version": "1.2.0",
            "_view_name": "StyleView",
            "cursor": "grab"
          }
        },
        "7a90897eb9264785b1513ee84f6aff2e": {
          "model_module": "jupyter-leaflet",
          "model_name": "LeafletMapStyleModel",
          "model_module_version": "^0.18",
          "state": {
            "_model_module": "jupyter-leaflet",
            "_model_module_version": "^0.18",
            "_model_name": "LeafletMapStyleModel",
            "_view_count": null,
            "_view_module": "@jupyter-widgets/base",
            "_view_module_version": "1.2.0",
            "_view_name": "StyleView",
            "cursor": "move"
          }
        },
        "9df64a84e20d45ee98b97f3d0486c673": {
          "model_module": "jupyter-leaflet",
          "model_name": "LeafletTileLayerModel",
          "model_module_version": "^0.18",
          "state": {
            "_model_module": "jupyter-leaflet",
            "_model_module_version": "^0.18",
            "_model_name": "LeafletTileLayerModel",
            "_view_count": null,
            "_view_module": "jupyter-leaflet",
            "_view_module_version": "^0.18",
            "_view_name": "LeafletTileLayerView",
            "attribution": "&copy; <a href=\"https://www.openstreetmap.org/copyright\">OpenStreetMap</a> contributors",
            "base": true,
            "bottom": true,
            "bounds": null,
            "detect_retina": false,
            "loading": false,
            "max_native_zoom": null,
            "max_zoom": 19,
            "min_native_zoom": null,
            "min_zoom": 1,
            "name": "OpenStreetMap.Mapnik",
            "no_wrap": false,
            "opacity": 1,
            "options": [
              "attribution",
              "bounds",
              "detect_retina",
              "max_native_zoom",
              "max_zoom",
              "min_native_zoom",
              "min_zoom",
              "no_wrap",
              "tile_size",
              "tms",
              "zoom_offset"
            ],
            "pane": "",
            "popup": null,
            "popup_max_height": null,
            "popup_max_width": 300,
            "popup_min_width": 50,
            "show_loading": false,
            "subitems": [],
            "tile_size": 256,
            "tms": false,
            "url": "https://tile.openstreetmap.org/{z}/{x}/{y}.png",
            "visible": true,
            "zoom_offset": 0
          }
        },
        "45fec663f6b7487e9b8552fb10285213": {
          "model_module": "jupyter-leaflet",
          "model_name": "LeafletTileLayerModel",
          "model_module_version": "^0.18",
          "state": {
            "_model_module": "jupyter-leaflet",
            "_model_module_version": "^0.18",
            "_model_name": "LeafletTileLayerModel",
            "_view_count": null,
            "_view_module": "jupyter-leaflet",
            "_view_module_version": "^0.18",
            "_view_name": "LeafletTileLayerView",
            "attribution": "Google Earth Engine",
            "base": false,
            "bottom": true,
            "bounds": null,
            "detect_retina": false,
            "loading": false,
            "max_native_zoom": null,
            "max_zoom": 24,
            "min_native_zoom": null,
            "min_zoom": 0,
            "name": "Test",
            "no_wrap": false,
            "opacity": 1,
            "options": [
              "attribution",
              "bounds",
              "detect_retina",
              "max_native_zoom",
              "max_zoom",
              "min_native_zoom",
              "min_zoom",
              "no_wrap",
              "tile_size",
              "tms",
              "zoom_offset"
            ],
            "pane": "",
            "popup": null,
            "popup_max_height": null,
            "popup_max_width": 300,
            "popup_min_width": 50,
            "show_loading": false,
            "subitems": [],
            "tile_size": 256,
            "tms": false,
            "url": "https://earthengine.googleapis.com/v1/projects/iraq-postconflict/maps/6cd63560d889119fa17daf7f6868205d-665d0c5c732da2206f819632149071a9/tiles/{z}/{x}/{y}",
            "visible": true,
            "zoom_offset": 0
          }
        },
        "5c422aa00cd6494491cb55cfd6f38d3d": {
          "model_module": "@jupyter-widgets/base",
          "model_name": "LayoutModel",
          "model_module_version": "1.2.0",
          "state": {
            "_model_module": "@jupyter-widgets/base",
            "_model_module_version": "1.2.0",
            "_model_name": "LayoutModel",
            "_view_count": null,
            "_view_module": "@jupyter-widgets/base",
            "_view_module_version": "1.2.0",
            "_view_name": "LayoutView",
            "align_content": null,
            "align_items": null,
            "align_self": null,
            "border": null,
            "bottom": null,
            "display": null,
            "flex": null,
            "flex_flow": null,
            "grid_area": null,
            "grid_auto_columns": null,
            "grid_auto_flow": null,
            "grid_auto_rows": null,
            "grid_column": null,
            "grid_gap": null,
            "grid_row": null,
            "grid_template_areas": null,
            "grid_template_columns": null,
            "grid_template_rows": null,
            "height": "600px",
            "justify_content": null,
            "justify_items": null,
            "left": null,
            "margin": null,
            "max_height": null,
            "max_width": null,
            "min_height": null,
            "min_width": null,
            "object_fit": null,
            "object_position": null,
            "order": null,
            "overflow": null,
            "overflow_x": null,
            "overflow_y": null,
            "padding": null,
            "right": null,
            "top": null,
            "visibility": null,
            "width": null
          }
        },
        "25a6aac57c4a42359552afc50f1f9c95": {
          "model_module": "jupyter-leaflet",
          "model_name": "LeafletMapStyleModel",
          "model_module_version": "^0.18",
          "state": {
            "_model_module": "jupyter-leaflet",
            "_model_module_version": "^0.18",
            "_model_name": "LeafletMapStyleModel",
            "_view_count": null,
            "_view_module": "@jupyter-widgets/base",
            "_view_module_version": "1.2.0",
            "_view_name": "StyleView",
            "cursor": "grab"
          }
        },
        "ff9889be37a243e1be3e662a963b0c47": {
          "model_module": "@jupyter-widgets/controls",
          "model_name": "HBoxModel",
          "model_module_version": "1.5.0",
          "state": {
            "_dom_classes": [
              "geemap-colab"
            ],
            "_model_module": "@jupyter-widgets/controls",
            "_model_module_version": "1.5.0",
            "_model_name": "HBoxModel",
            "_view_count": null,
            "_view_module": "@jupyter-widgets/controls",
            "_view_module_version": "1.5.0",
            "_view_name": "HBoxView",
            "box_style": "",
            "children": [
              "IPY_MODEL_8fe34d6e695c4ea1bd09898371c49e59"
            ],
            "layout": "IPY_MODEL_8ed4a7c1e6774eb882c039ddfc993fa7"
          }
        },
        "04976f8ee0e948e4830cdd78e8e8eef2": {
          "model_module": "@jupyter-widgets/controls",
          "model_name": "VBoxModel",
          "model_module_version": "1.5.0",
          "state": {
            "_dom_classes": [
              "geemap-colab"
            ],
            "_model_module": "@jupyter-widgets/controls",
            "_model_module_version": "1.5.0",
            "_model_name": "VBoxModel",
            "_view_count": null,
            "_view_module": "@jupyter-widgets/controls",
            "_view_module_version": "1.5.0",
            "_view_name": "VBoxView",
            "box_style": "",
            "children": [
              "IPY_MODEL_1e8e0d1b66d441819f488c19c5b41f70"
            ],
            "layout": "IPY_MODEL_65396237474e4ae38ca1e1688af5b1c4"
          }
        },
        "8fe34d6e695c4ea1bd09898371c49e59": {
          "model_module": "@jupyter-widgets/controls",
          "model_name": "ToggleButtonModel",
          "model_module_version": "1.5.0",
          "state": {
            "_dom_classes": [],
            "_model_module": "@jupyter-widgets/controls",
            "_model_module_version": "1.5.0",
            "_model_name": "ToggleButtonModel",
            "_view_count": null,
            "_view_module": "@jupyter-widgets/controls",
            "_view_module_version": "1.5.0",
            "_view_name": "ToggleButtonView",
            "button_style": "",
            "description": "",
            "description_tooltip": null,
            "disabled": false,
            "icon": "globe",
            "layout": "IPY_MODEL_5ea4a2eaa4ea46cebb1e0c79528038c3",
            "style": "IPY_MODEL_d50b93b7977f4c908c29bb422beb4349",
            "tooltip": "Search location/data",
            "value": false
          }
        },
        "8ed4a7c1e6774eb882c039ddfc993fa7": {
          "model_module": "@jupyter-widgets/base",
          "model_name": "LayoutModel",
          "model_module_version": "1.2.0",
          "state": {
            "_model_module": "@jupyter-widgets/base",
            "_model_module_version": "1.2.0",
            "_model_name": "LayoutModel",
            "_view_count": null,
            "_view_module": "@jupyter-widgets/base",
            "_view_module_version": "1.2.0",
            "_view_name": "LayoutView",
            "align_content": null,
            "align_items": null,
            "align_self": null,
            "border": null,
            "bottom": null,
            "display": null,
            "flex": null,
            "flex_flow": null,
            "grid_area": null,
            "grid_auto_columns": null,
            "grid_auto_flow": null,
            "grid_auto_rows": null,
            "grid_column": null,
            "grid_gap": null,
            "grid_row": null,
            "grid_template_areas": null,
            "grid_template_columns": null,
            "grid_template_rows": null,
            "height": null,
            "justify_content": null,
            "justify_items": null,
            "left": null,
            "margin": null,
            "max_height": null,
            "max_width": null,
            "min_height": null,
            "min_width": null,
            "object_fit": null,
            "object_position": null,
            "order": null,
            "overflow": null,
            "overflow_x": null,
            "overflow_y": null,
            "padding": null,
            "right": null,
            "top": null,
            "visibility": null,
            "width": null
          }
        },
        "1e8e0d1b66d441819f488c19c5b41f70": {
          "model_module": "@jupyter-widgets/controls",
          "model_name": "ToggleButtonModel",
          "model_module_version": "1.5.0",
          "state": {
            "_dom_classes": [],
            "_model_module": "@jupyter-widgets/controls",
            "_model_module_version": "1.5.0",
            "_model_name": "ToggleButtonModel",
            "_view_count": null,
            "_view_module": "@jupyter-widgets/controls",
            "_view_module_version": "1.5.0",
            "_view_name": "ToggleButtonView",
            "button_style": "",
            "description": "",
            "description_tooltip": null,
            "disabled": false,
            "icon": "wrench",
            "layout": "IPY_MODEL_f15b4b0b82ed4287bc73314e726a7674",
            "style": "IPY_MODEL_164331fb15ad464aa22ec0700af418b5",
            "tooltip": "Toolbar",
            "value": false
          }
        },
        "65396237474e4ae38ca1e1688af5b1c4": {
          "model_module": "@jupyter-widgets/base",
          "model_name": "LayoutModel",
          "model_module_version": "1.2.0",
          "state": {
            "_model_module": "@jupyter-widgets/base",
            "_model_module_version": "1.2.0",
            "_model_name": "LayoutModel",
            "_view_count": null,
            "_view_module": "@jupyter-widgets/base",
            "_view_module_version": "1.2.0",
            "_view_name": "LayoutView",
            "align_content": null,
            "align_items": null,
            "align_self": null,
            "border": null,
            "bottom": null,
            "display": null,
            "flex": null,
            "flex_flow": null,
            "grid_area": null,
            "grid_auto_columns": null,
            "grid_auto_flow": null,
            "grid_auto_rows": null,
            "grid_column": null,
            "grid_gap": null,
            "grid_row": null,
            "grid_template_areas": null,
            "grid_template_columns": null,
            "grid_template_rows": null,
            "height": null,
            "justify_content": null,
            "justify_items": null,
            "left": null,
            "margin": null,
            "max_height": null,
            "max_width": null,
            "min_height": null,
            "min_width": null,
            "object_fit": null,
            "object_position": null,
            "order": null,
            "overflow": null,
            "overflow_x": null,
            "overflow_y": null,
            "padding": null,
            "right": null,
            "top": null,
            "visibility": null,
            "width": null
          }
        },
        "5ea4a2eaa4ea46cebb1e0c79528038c3": {
          "model_module": "@jupyter-widgets/base",
          "model_name": "LayoutModel",
          "model_module_version": "1.2.0",
          "state": {
            "_model_module": "@jupyter-widgets/base",
            "_model_module_version": "1.2.0",
            "_model_name": "LayoutModel",
            "_view_count": null,
            "_view_module": "@jupyter-widgets/base",
            "_view_module_version": "1.2.0",
            "_view_name": "LayoutView",
            "align_content": null,
            "align_items": null,
            "align_self": null,
            "border": null,
            "bottom": null,
            "display": null,
            "flex": null,
            "flex_flow": null,
            "grid_area": null,
            "grid_auto_columns": null,
            "grid_auto_flow": null,
            "grid_auto_rows": null,
            "grid_column": null,
            "grid_gap": null,
            "grid_row": null,
            "grid_template_areas": null,
            "grid_template_columns": null,
            "grid_template_rows": null,
            "height": "28px",
            "justify_content": null,
            "justify_items": null,
            "left": null,
            "margin": null,
            "max_height": null,
            "max_width": null,
            "min_height": null,
            "min_width": null,
            "object_fit": null,
            "object_position": null,
            "order": null,
            "overflow": null,
            "overflow_x": null,
            "overflow_y": null,
            "padding": "0px 0px 0px 4px",
            "right": null,
            "top": null,
            "visibility": null,
            "width": "28px"
          }
        },
        "d50b93b7977f4c908c29bb422beb4349": {
          "model_module": "@jupyter-widgets/controls",
          "model_name": "DescriptionStyleModel",
          "model_module_version": "1.5.0",
          "state": {
            "_model_module": "@jupyter-widgets/controls",
            "_model_module_version": "1.5.0",
            "_model_name": "DescriptionStyleModel",
            "_view_count": null,
            "_view_module": "@jupyter-widgets/base",
            "_view_module_version": "1.2.0",
            "_view_name": "StyleView",
            "description_width": ""
          }
        },
        "f15b4b0b82ed4287bc73314e726a7674": {
          "model_module": "@jupyter-widgets/base",
          "model_name": "LayoutModel",
          "model_module_version": "1.2.0",
          "state": {
            "_model_module": "@jupyter-widgets/base",
            "_model_module_version": "1.2.0",
            "_model_name": "LayoutModel",
            "_view_count": null,
            "_view_module": "@jupyter-widgets/base",
            "_view_module_version": "1.2.0",
            "_view_name": "LayoutView",
            "align_content": null,
            "align_items": null,
            "align_self": null,
            "border": null,
            "bottom": null,
            "display": null,
            "flex": null,
            "flex_flow": null,
            "grid_area": null,
            "grid_auto_columns": null,
            "grid_auto_flow": null,
            "grid_auto_rows": null,
            "grid_column": null,
            "grid_gap": null,
            "grid_row": null,
            "grid_template_areas": null,
            "grid_template_columns": null,
            "grid_template_rows": null,
            "height": "28px",
            "justify_content": null,
            "justify_items": null,
            "left": null,
            "margin": null,
            "max_height": null,
            "max_width": null,
            "min_height": null,
            "min_width": null,
            "object_fit": null,
            "object_position": null,
            "order": null,
            "overflow": null,
            "overflow_x": null,
            "overflow_y": null,
            "padding": "0px 0px 0px 4px",
            "right": null,
            "top": null,
            "visibility": null,
            "width": "28px"
          }
        },
        "164331fb15ad464aa22ec0700af418b5": {
          "model_module": "@jupyter-widgets/controls",
          "model_name": "DescriptionStyleModel",
          "model_module_version": "1.5.0",
          "state": {
            "_model_module": "@jupyter-widgets/controls",
            "_model_module_version": "1.5.0",
            "_model_name": "DescriptionStyleModel",
            "_view_count": null,
            "_view_module": "@jupyter-widgets/base",
            "_view_module_version": "1.2.0",
            "_view_name": "StyleView",
            "description_width": ""
          }
        }
      }
    }
  },
  "cells": [
    {
      "cell_type": "markdown",
      "metadata": {
        "id": "view-in-github",
        "colab_type": "text"
      },
      "source": [
        "<a href=\"https://colab.research.google.com/github/natalie-ayers/Iraq-post-conflict-rebel-governance/blob/main/Iraq_EVI.ipynb\" target=\"_parent\"><img src=\"https://colab.research.google.com/assets/colab-badge.svg\" alt=\"Open In Colab\"/></a>"
      ]
    },
    {
      "cell_type": "code",
      "execution_count": 1,
      "metadata": {
        "id": "F4X6BWkpZAUB"
      },
      "outputs": [],
      "source": [
        "import pandas as pd\n",
        "import geopandas as gpd\n",
        "import ee\n",
        "import geemap\n",
        "import ast\n",
        "from shapely import geometry\n",
        "import time"
      ]
    },
    {
      "cell_type": "markdown",
      "source": [
        "## Iraq Shapefiles"
      ],
      "metadata": {
        "id": "Fq7v464MZeo7"
      }
    },
    {
      "cell_type": "code",
      "source": [
        "iraq_shp_adm0_loc = 'irq_admbnda_adm0_cso_itos_20190603.shp'\n",
        "iraq_shp_adm0 = gpd.read_file(iraq_shp_adm0_loc)\n",
        "iraq_shp_adm0.head(2)"
      ],
      "metadata": {
        "colab": {
          "base_uri": "https://localhost:8080/",
          "height": 170
        },
        "id": "MX9UcC7JaVh9",
        "outputId": "4f1ba5f1-9fa8-41b9-b8e9-556185cea4dd"
      },
      "execution_count": 2,
      "outputs": [
        {
          "output_type": "display_data",
          "data": {
            "text/plain": [
              "<IPython.core.display.HTML object>"
            ],
            "text/html": [
              "\n",
              "            <style>\n",
              "                .geemap-dark {\n",
              "                    --jp-widgets-color: white;\n",
              "                    --jp-widgets-label-color: white;\n",
              "                    --jp-ui-font-color1: white;\n",
              "                    --jp-layout-color2: #454545;\n",
              "                    background-color: #383838;\n",
              "                }\n",
              "\n",
              "                .geemap-dark .jupyter-button {\n",
              "                    --jp-layout-color3: #383838;\n",
              "                }\n",
              "\n",
              "                .geemap-colab {\n",
              "                    background-color: var(--colab-primary-surface-color, white);\n",
              "                }\n",
              "\n",
              "                .geemap-colab .jupyter-button {\n",
              "                    --jp-layout-color3: var(--colab-primary-surface-color, white);\n",
              "                }\n",
              "            </style>\n",
              "            "
            ]
          },
          "metadata": {}
        },
        {
          "output_type": "execute_result",
          "data": {
            "text/plain": [
              "   Shape_Leng  Shape_Area ADM0_EN ADM0_AR ADM0_PCODE ADM0_REF ADM0ALT1EN  \\\n",
              "0   35.691174   42.141484    Iraq  العراق         IQ     None       None   \n",
              "\n",
              "  ADM0ALT2EN ADM0ALT1AR ADM0ALT2AR        date     validOn validTo  \\\n",
              "0       None       None       None  2019-05-30  2019-06-03    None   \n",
              "\n",
              "                                            geometry  \n",
              "0  POLYGON ((42.84654 37.34800, 42.85154 37.34657...  "
            ],
            "text/html": [
              "\n",
              "  <div id=\"df-4afb1f32-77e0-44a9-b944-537e6fd77689\" class=\"colab-df-container\">\n",
              "    <div>\n",
              "<style scoped>\n",
              "    .dataframe tbody tr th:only-of-type {\n",
              "        vertical-align: middle;\n",
              "    }\n",
              "\n",
              "    .dataframe tbody tr th {\n",
              "        vertical-align: top;\n",
              "    }\n",
              "\n",
              "    .dataframe thead th {\n",
              "        text-align: right;\n",
              "    }\n",
              "</style>\n",
              "<table border=\"1\" class=\"dataframe\">\n",
              "  <thead>\n",
              "    <tr style=\"text-align: right;\">\n",
              "      <th></th>\n",
              "      <th>Shape_Leng</th>\n",
              "      <th>Shape_Area</th>\n",
              "      <th>ADM0_EN</th>\n",
              "      <th>ADM0_AR</th>\n",
              "      <th>ADM0_PCODE</th>\n",
              "      <th>ADM0_REF</th>\n",
              "      <th>ADM0ALT1EN</th>\n",
              "      <th>ADM0ALT2EN</th>\n",
              "      <th>ADM0ALT1AR</th>\n",
              "      <th>ADM0ALT2AR</th>\n",
              "      <th>date</th>\n",
              "      <th>validOn</th>\n",
              "      <th>validTo</th>\n",
              "      <th>geometry</th>\n",
              "    </tr>\n",
              "  </thead>\n",
              "  <tbody>\n",
              "    <tr>\n",
              "      <th>0</th>\n",
              "      <td>35.691174</td>\n",
              "      <td>42.141484</td>\n",
              "      <td>Iraq</td>\n",
              "      <td>العراق</td>\n",
              "      <td>IQ</td>\n",
              "      <td>None</td>\n",
              "      <td>None</td>\n",
              "      <td>None</td>\n",
              "      <td>None</td>\n",
              "      <td>None</td>\n",
              "      <td>2019-05-30</td>\n",
              "      <td>2019-06-03</td>\n",
              "      <td>None</td>\n",
              "      <td>POLYGON ((42.84654 37.34800, 42.85154 37.34657...</td>\n",
              "    </tr>\n",
              "  </tbody>\n",
              "</table>\n",
              "</div>\n",
              "    <div class=\"colab-df-buttons\">\n",
              "\n",
              "  <div class=\"colab-df-container\">\n",
              "    <button class=\"colab-df-convert\" onclick=\"convertToInteractive('df-4afb1f32-77e0-44a9-b944-537e6fd77689')\"\n",
              "            title=\"Convert this dataframe to an interactive table.\"\n",
              "            style=\"display:none;\">\n",
              "\n",
              "  <svg xmlns=\"http://www.w3.org/2000/svg\" height=\"24px\" viewBox=\"0 -960 960 960\">\n",
              "    <path d=\"M120-120v-720h720v720H120Zm60-500h600v-160H180v160Zm220 220h160v-160H400v160Zm0 220h160v-160H400v160ZM180-400h160v-160H180v160Zm440 0h160v-160H620v160ZM180-180h160v-160H180v160Zm440 0h160v-160H620v160Z\"/>\n",
              "  </svg>\n",
              "    </button>\n",
              "\n",
              "  <style>\n",
              "    .colab-df-container {\n",
              "      display:flex;\n",
              "      gap: 12px;\n",
              "    }\n",
              "\n",
              "    .colab-df-convert {\n",
              "      background-color: #E8F0FE;\n",
              "      border: none;\n",
              "      border-radius: 50%;\n",
              "      cursor: pointer;\n",
              "      display: none;\n",
              "      fill: #1967D2;\n",
              "      height: 32px;\n",
              "      padding: 0 0 0 0;\n",
              "      width: 32px;\n",
              "    }\n",
              "\n",
              "    .colab-df-convert:hover {\n",
              "      background-color: #E2EBFA;\n",
              "      box-shadow: 0px 1px 2px rgba(60, 64, 67, 0.3), 0px 1px 3px 1px rgba(60, 64, 67, 0.15);\n",
              "      fill: #174EA6;\n",
              "    }\n",
              "\n",
              "    .colab-df-buttons div {\n",
              "      margin-bottom: 4px;\n",
              "    }\n",
              "\n",
              "    [theme=dark] .colab-df-convert {\n",
              "      background-color: #3B4455;\n",
              "      fill: #D2E3FC;\n",
              "    }\n",
              "\n",
              "    [theme=dark] .colab-df-convert:hover {\n",
              "      background-color: #434B5C;\n",
              "      box-shadow: 0px 1px 3px 1px rgba(0, 0, 0, 0.15);\n",
              "      filter: drop-shadow(0px 1px 2px rgba(0, 0, 0, 0.3));\n",
              "      fill: #FFFFFF;\n",
              "    }\n",
              "  </style>\n",
              "\n",
              "    <script>\n",
              "      const buttonEl =\n",
              "        document.querySelector('#df-4afb1f32-77e0-44a9-b944-537e6fd77689 button.colab-df-convert');\n",
              "      buttonEl.style.display =\n",
              "        google.colab.kernel.accessAllowed ? 'block' : 'none';\n",
              "\n",
              "      async function convertToInteractive(key) {\n",
              "        const element = document.querySelector('#df-4afb1f32-77e0-44a9-b944-537e6fd77689');\n",
              "        const dataTable =\n",
              "          await google.colab.kernel.invokeFunction('convertToInteractive',\n",
              "                                                    [key], {});\n",
              "        if (!dataTable) return;\n",
              "\n",
              "        const docLinkHtml = 'Like what you see? Visit the ' +\n",
              "          '<a target=\"_blank\" href=https://colab.research.google.com/notebooks/data_table.ipynb>data table notebook</a>'\n",
              "          + ' to learn more about interactive tables.';\n",
              "        element.innerHTML = '';\n",
              "        dataTable['output_type'] = 'display_data';\n",
              "        await google.colab.output.renderOutput(dataTable, element);\n",
              "        const docLink = document.createElement('div');\n",
              "        docLink.innerHTML = docLinkHtml;\n",
              "        element.appendChild(docLink);\n",
              "      }\n",
              "    </script>\n",
              "  </div>\n",
              "\n",
              "\n",
              "    </div>\n",
              "  </div>\n"
            ],
            "application/vnd.google.colaboratory.intrinsic+json": {
              "type": "dataframe",
              "variable_name": "iraq_shp_adm0",
              "repr_error": "'str' object has no attribute 'empty'"
            }
          },
          "metadata": {},
          "execution_count": 2
        }
      ]
    },
    {
      "cell_type": "code",
      "source": [
        "iraq_shp_adm3_loc = 'irq_admbnda_adm3_cso_20190603.shp'\n",
        "iraq_shp_adm3 = gpd.read_file(iraq_shp_adm3_loc)"
      ],
      "metadata": {
        "colab": {
          "base_uri": "https://localhost:8080/",
          "height": 17
        },
        "id": "gdsFI-1sZXSN",
        "outputId": "5f088764-a3b8-41a4-d100-852310dc1c5b"
      },
      "execution_count": 2,
      "outputs": [
        {
          "output_type": "display_data",
          "data": {
            "text/plain": [
              "<IPython.core.display.HTML object>"
            ],
            "text/html": [
              "\n",
              "            <style>\n",
              "                .geemap-dark {\n",
              "                    --jp-widgets-color: white;\n",
              "                    --jp-widgets-label-color: white;\n",
              "                    --jp-ui-font-color1: white;\n",
              "                    --jp-layout-color2: #454545;\n",
              "                    background-color: #383838;\n",
              "                }\n",
              "\n",
              "                .geemap-dark .jupyter-button {\n",
              "                    --jp-layout-color3: #383838;\n",
              "                }\n",
              "\n",
              "                .geemap-colab {\n",
              "                    background-color: var(--colab-primary-surface-color, white);\n",
              "                }\n",
              "\n",
              "                .geemap-colab .jupyter-button {\n",
              "                    --jp-layout-color3: var(--colab-primary-surface-color, white);\n",
              "                }\n",
              "            </style>\n",
              "            "
            ]
          },
          "metadata": {}
        }
      ]
    },
    {
      "cell_type": "code",
      "source": [
        "iraq_adm3_filt = iraq_shp_adm3.loc[:,(\"Shape_Area\",'ADM3_EN','ADM3_PCODE',\n",
        "                                    'ADM2_EN','ADM2_PCODE','ADM1_EN','ADM1_PCODE',\n",
        "                                    'geometry')]\n",
        "\n",
        "iraq_adm3_filt.head(2)"
      ],
      "metadata": {
        "colab": {
          "base_uri": "https://localhost:8080/",
          "height": 181
        },
        "id": "l5bolubUZb4K",
        "outputId": "3c3b0aa9-33b9-4f5b-d254-c377299ae7cb"
      },
      "execution_count": 3,
      "outputs": [
        {
          "output_type": "display_data",
          "data": {
            "text/plain": [
              "<IPython.core.display.HTML object>"
            ],
            "text/html": [
              "\n",
              "            <style>\n",
              "                .geemap-dark {\n",
              "                    --jp-widgets-color: white;\n",
              "                    --jp-widgets-label-color: white;\n",
              "                    --jp-ui-font-color1: white;\n",
              "                    --jp-layout-color2: #454545;\n",
              "                    background-color: #383838;\n",
              "                }\n",
              "\n",
              "                .geemap-dark .jupyter-button {\n",
              "                    --jp-layout-color3: #383838;\n",
              "                }\n",
              "\n",
              "                .geemap-colab {\n",
              "                    background-color: var(--colab-primary-surface-color, white);\n",
              "                }\n",
              "\n",
              "                .geemap-colab .jupyter-button {\n",
              "                    --jp-layout-color3: var(--colab-primary-surface-color, white);\n",
              "                }\n",
              "            </style>\n",
              "            "
            ]
          },
          "metadata": {}
        },
        {
          "output_type": "execute_result",
          "data": {
            "text/plain": [
              "   Shape_Area     ADM3_EN   ADM3_PCODE   ADM2_EN ADM2_PCODE       ADM1_EN  \\\n",
              "0    0.015754  Abi Gharaq  IQG07Q02N02  Al-Hilla   IQG07Q02         Babil   \n",
              "1    0.145883    Abu Dalf  IQG16Q01N02   Al-Daur   IQG16Q01  Salah Al-Din   \n",
              "\n",
              "  ADM1_PCODE                                           geometry  \n",
              "0      IQG07  POLYGON ((44.36654 32.56190, 44.36466 32.55802...  \n",
              "1      IQG16  POLYGON ((44.19124 34.77808, 44.21397 34.75600...  "
            ],
            "text/html": [
              "\n",
              "  <div id=\"df-2d61253f-6bc0-453c-a263-ee7bc684a884\" class=\"colab-df-container\">\n",
              "    <div>\n",
              "<style scoped>\n",
              "    .dataframe tbody tr th:only-of-type {\n",
              "        vertical-align: middle;\n",
              "    }\n",
              "\n",
              "    .dataframe tbody tr th {\n",
              "        vertical-align: top;\n",
              "    }\n",
              "\n",
              "    .dataframe thead th {\n",
              "        text-align: right;\n",
              "    }\n",
              "</style>\n",
              "<table border=\"1\" class=\"dataframe\">\n",
              "  <thead>\n",
              "    <tr style=\"text-align: right;\">\n",
              "      <th></th>\n",
              "      <th>Shape_Area</th>\n",
              "      <th>ADM3_EN</th>\n",
              "      <th>ADM3_PCODE</th>\n",
              "      <th>ADM2_EN</th>\n",
              "      <th>ADM2_PCODE</th>\n",
              "      <th>ADM1_EN</th>\n",
              "      <th>ADM1_PCODE</th>\n",
              "      <th>geometry</th>\n",
              "    </tr>\n",
              "  </thead>\n",
              "  <tbody>\n",
              "    <tr>\n",
              "      <th>0</th>\n",
              "      <td>0.015754</td>\n",
              "      <td>Abi Gharaq</td>\n",
              "      <td>IQG07Q02N02</td>\n",
              "      <td>Al-Hilla</td>\n",
              "      <td>IQG07Q02</td>\n",
              "      <td>Babil</td>\n",
              "      <td>IQG07</td>\n",
              "      <td>POLYGON ((44.36654 32.56190, 44.36466 32.55802...</td>\n",
              "    </tr>\n",
              "    <tr>\n",
              "      <th>1</th>\n",
              "      <td>0.145883</td>\n",
              "      <td>Abu Dalf</td>\n",
              "      <td>IQG16Q01N02</td>\n",
              "      <td>Al-Daur</td>\n",
              "      <td>IQG16Q01</td>\n",
              "      <td>Salah Al-Din</td>\n",
              "      <td>IQG16</td>\n",
              "      <td>POLYGON ((44.19124 34.77808, 44.21397 34.75600...</td>\n",
              "    </tr>\n",
              "  </tbody>\n",
              "</table>\n",
              "</div>\n",
              "    <div class=\"colab-df-buttons\">\n",
              "\n",
              "  <div class=\"colab-df-container\">\n",
              "    <button class=\"colab-df-convert\" onclick=\"convertToInteractive('df-2d61253f-6bc0-453c-a263-ee7bc684a884')\"\n",
              "            title=\"Convert this dataframe to an interactive table.\"\n",
              "            style=\"display:none;\">\n",
              "\n",
              "  <svg xmlns=\"http://www.w3.org/2000/svg\" height=\"24px\" viewBox=\"0 -960 960 960\">\n",
              "    <path d=\"M120-120v-720h720v720H120Zm60-500h600v-160H180v160Zm220 220h160v-160H400v160Zm0 220h160v-160H400v160ZM180-400h160v-160H180v160Zm440 0h160v-160H620v160ZM180-180h160v-160H180v160Zm440 0h160v-160H620v160Z\"/>\n",
              "  </svg>\n",
              "    </button>\n",
              "\n",
              "  <style>\n",
              "    .colab-df-container {\n",
              "      display:flex;\n",
              "      gap: 12px;\n",
              "    }\n",
              "\n",
              "    .colab-df-convert {\n",
              "      background-color: #E8F0FE;\n",
              "      border: none;\n",
              "      border-radius: 50%;\n",
              "      cursor: pointer;\n",
              "      display: none;\n",
              "      fill: #1967D2;\n",
              "      height: 32px;\n",
              "      padding: 0 0 0 0;\n",
              "      width: 32px;\n",
              "    }\n",
              "\n",
              "    .colab-df-convert:hover {\n",
              "      background-color: #E2EBFA;\n",
              "      box-shadow: 0px 1px 2px rgba(60, 64, 67, 0.3), 0px 1px 3px 1px rgba(60, 64, 67, 0.15);\n",
              "      fill: #174EA6;\n",
              "    }\n",
              "\n",
              "    .colab-df-buttons div {\n",
              "      margin-bottom: 4px;\n",
              "    }\n",
              "\n",
              "    [theme=dark] .colab-df-convert {\n",
              "      background-color: #3B4455;\n",
              "      fill: #D2E3FC;\n",
              "    }\n",
              "\n",
              "    [theme=dark] .colab-df-convert:hover {\n",
              "      background-color: #434B5C;\n",
              "      box-shadow: 0px 1px 3px 1px rgba(0, 0, 0, 0.15);\n",
              "      filter: drop-shadow(0px 1px 2px rgba(0, 0, 0, 0.3));\n",
              "      fill: #FFFFFF;\n",
              "    }\n",
              "  </style>\n",
              "\n",
              "    <script>\n",
              "      const buttonEl =\n",
              "        document.querySelector('#df-2d61253f-6bc0-453c-a263-ee7bc684a884 button.colab-df-convert');\n",
              "      buttonEl.style.display =\n",
              "        google.colab.kernel.accessAllowed ? 'block' : 'none';\n",
              "\n",
              "      async function convertToInteractive(key) {\n",
              "        const element = document.querySelector('#df-2d61253f-6bc0-453c-a263-ee7bc684a884');\n",
              "        const dataTable =\n",
              "          await google.colab.kernel.invokeFunction('convertToInteractive',\n",
              "                                                    [key], {});\n",
              "        if (!dataTable) return;\n",
              "\n",
              "        const docLinkHtml = 'Like what you see? Visit the ' +\n",
              "          '<a target=\"_blank\" href=https://colab.research.google.com/notebooks/data_table.ipynb>data table notebook</a>'\n",
              "          + ' to learn more about interactive tables.';\n",
              "        element.innerHTML = '';\n",
              "        dataTable['output_type'] = 'display_data';\n",
              "        await google.colab.output.renderOutput(dataTable, element);\n",
              "        const docLink = document.createElement('div');\n",
              "        docLink.innerHTML = docLinkHtml;\n",
              "        element.appendChild(docLink);\n",
              "      }\n",
              "    </script>\n",
              "  </div>\n",
              "\n",
              "\n",
              "<div id=\"df-26cc820f-f189-47e5-bfaf-2f5caf224957\">\n",
              "  <button class=\"colab-df-quickchart\" onclick=\"quickchart('df-26cc820f-f189-47e5-bfaf-2f5caf224957')\"\n",
              "            title=\"Suggest charts\"\n",
              "            style=\"display:none;\">\n",
              "\n",
              "<svg xmlns=\"http://www.w3.org/2000/svg\" height=\"24px\"viewBox=\"0 0 24 24\"\n",
              "     width=\"24px\">\n",
              "    <g>\n",
              "        <path d=\"M19 3H5c-1.1 0-2 .9-2 2v14c0 1.1.9 2 2 2h14c1.1 0 2-.9 2-2V5c0-1.1-.9-2-2-2zM9 17H7v-7h2v7zm4 0h-2V7h2v10zm4 0h-2v-4h2v4z\"/>\n",
              "    </g>\n",
              "</svg>\n",
              "  </button>\n",
              "\n",
              "<style>\n",
              "  .colab-df-quickchart {\n",
              "      --bg-color: #E8F0FE;\n",
              "      --fill-color: #1967D2;\n",
              "      --hover-bg-color: #E2EBFA;\n",
              "      --hover-fill-color: #174EA6;\n",
              "      --disabled-fill-color: #AAA;\n",
              "      --disabled-bg-color: #DDD;\n",
              "  }\n",
              "\n",
              "  [theme=dark] .colab-df-quickchart {\n",
              "      --bg-color: #3B4455;\n",
              "      --fill-color: #D2E3FC;\n",
              "      --hover-bg-color: #434B5C;\n",
              "      --hover-fill-color: #FFFFFF;\n",
              "      --disabled-bg-color: #3B4455;\n",
              "      --disabled-fill-color: #666;\n",
              "  }\n",
              "\n",
              "  .colab-df-quickchart {\n",
              "    background-color: var(--bg-color);\n",
              "    border: none;\n",
              "    border-radius: 50%;\n",
              "    cursor: pointer;\n",
              "    display: none;\n",
              "    fill: var(--fill-color);\n",
              "    height: 32px;\n",
              "    padding: 0;\n",
              "    width: 32px;\n",
              "  }\n",
              "\n",
              "  .colab-df-quickchart:hover {\n",
              "    background-color: var(--hover-bg-color);\n",
              "    box-shadow: 0 1px 2px rgba(60, 64, 67, 0.3), 0 1px 3px 1px rgba(60, 64, 67, 0.15);\n",
              "    fill: var(--button-hover-fill-color);\n",
              "  }\n",
              "\n",
              "  .colab-df-quickchart-complete:disabled,\n",
              "  .colab-df-quickchart-complete:disabled:hover {\n",
              "    background-color: var(--disabled-bg-color);\n",
              "    fill: var(--disabled-fill-color);\n",
              "    box-shadow: none;\n",
              "  }\n",
              "\n",
              "  .colab-df-spinner {\n",
              "    border: 2px solid var(--fill-color);\n",
              "    border-color: transparent;\n",
              "    border-bottom-color: var(--fill-color);\n",
              "    animation:\n",
              "      spin 1s steps(1) infinite;\n",
              "  }\n",
              "\n",
              "  @keyframes spin {\n",
              "    0% {\n",
              "      border-color: transparent;\n",
              "      border-bottom-color: var(--fill-color);\n",
              "      border-left-color: var(--fill-color);\n",
              "    }\n",
              "    20% {\n",
              "      border-color: transparent;\n",
              "      border-left-color: var(--fill-color);\n",
              "      border-top-color: var(--fill-color);\n",
              "    }\n",
              "    30% {\n",
              "      border-color: transparent;\n",
              "      border-left-color: var(--fill-color);\n",
              "      border-top-color: var(--fill-color);\n",
              "      border-right-color: var(--fill-color);\n",
              "    }\n",
              "    40% {\n",
              "      border-color: transparent;\n",
              "      border-right-color: var(--fill-color);\n",
              "      border-top-color: var(--fill-color);\n",
              "    }\n",
              "    60% {\n",
              "      border-color: transparent;\n",
              "      border-right-color: var(--fill-color);\n",
              "    }\n",
              "    80% {\n",
              "      border-color: transparent;\n",
              "      border-right-color: var(--fill-color);\n",
              "      border-bottom-color: var(--fill-color);\n",
              "    }\n",
              "    90% {\n",
              "      border-color: transparent;\n",
              "      border-bottom-color: var(--fill-color);\n",
              "    }\n",
              "  }\n",
              "</style>\n",
              "\n",
              "  <script>\n",
              "    async function quickchart(key) {\n",
              "      const quickchartButtonEl =\n",
              "        document.querySelector('#' + key + ' button');\n",
              "      quickchartButtonEl.disabled = true;  // To prevent multiple clicks.\n",
              "      quickchartButtonEl.classList.add('colab-df-spinner');\n",
              "      try {\n",
              "        const charts = await google.colab.kernel.invokeFunction(\n",
              "            'suggestCharts', [key], {});\n",
              "      } catch (error) {\n",
              "        console.error('Error during call to suggestCharts:', error);\n",
              "      }\n",
              "      quickchartButtonEl.classList.remove('colab-df-spinner');\n",
              "      quickchartButtonEl.classList.add('colab-df-quickchart-complete');\n",
              "    }\n",
              "    (() => {\n",
              "      let quickchartButtonEl =\n",
              "        document.querySelector('#df-26cc820f-f189-47e5-bfaf-2f5caf224957 button');\n",
              "      quickchartButtonEl.style.display =\n",
              "        google.colab.kernel.accessAllowed ? 'block' : 'none';\n",
              "    })();\n",
              "  </script>\n",
              "</div>\n",
              "\n",
              "    </div>\n",
              "  </div>\n"
            ],
            "application/vnd.google.colaboratory.intrinsic+json": {
              "type": "dataframe",
              "variable_name": "iraq_adm3_filt",
              "summary": "{\n  \"name\": \"iraq_adm3_filt\",\n  \"rows\": 294,\n  \"fields\": [\n    {\n      \"column\": \"Shape_Area\",\n      \"properties\": {\n        \"dtype\": \"number\",\n        \"std\": 0.4333889637642368,\n        \"min\": 0.00235395252714,\n        \"max\": 4.35601926249,\n        \"num_unique_values\": 294,\n        \"samples\": [\n          0.117594471991,\n          0.252123385817,\n          0.0205184582472\n        ],\n        \"semantic_type\": \"\",\n        \"description\": \"\"\n      }\n    },\n    {\n      \"column\": \"ADM3_EN\",\n      \"properties\": {\n        \"dtype\": \"string\",\n        \"num_unique_values\": 294,\n        \"samples\": [\n          \"Al-Garma\",\n          \"Al-Amirya\",\n          \"Hero\"\n        ],\n        \"semantic_type\": \"\",\n        \"description\": \"\"\n      }\n    },\n    {\n      \"column\": \"ADM3_PCODE\",\n      \"properties\": {\n        \"dtype\": \"string\",\n        \"num_unique_values\": 294,\n        \"samples\": [\n          \"IQG01Q01N02\",\n          \"IQG01Q01N01\",\n          \"IQG06Q08N01\"\n        ],\n        \"semantic_type\": \"\",\n        \"description\": \"\"\n      }\n    },\n    {\n      \"column\": \"ADM2_EN\",\n      \"properties\": {\n        \"dtype\": \"category\",\n        \"num_unique_values\": 101,\n        \"samples\": [\n          \"Badra\",\n          \"Khanaqin\",\n          \"Al-Shikhan\"\n        ],\n        \"semantic_type\": \"\",\n        \"description\": \"\"\n      }\n    },\n    {\n      \"column\": \"ADM2_PCODE\",\n      \"properties\": {\n        \"dtype\": \"category\",\n        \"num_unique_values\": 101,\n        \"samples\": [\n          \"IQG18Q05\",\n          \"IQG10Q05\",\n          \"IQG15Q06\"\n        ],\n        \"semantic_type\": \"\",\n        \"description\": \"\"\n      }\n    },\n    {\n      \"column\": \"ADM1_EN\",\n      \"properties\": {\n        \"dtype\": \"category\",\n        \"num_unique_values\": 18,\n        \"samples\": [\n          \"Babil\",\n          \"Salah Al-Din\",\n          \"Al-Anbar\"\n        ],\n        \"semantic_type\": \"\",\n        \"description\": \"\"\n      }\n    },\n    {\n      \"column\": \"ADM1_PCODE\",\n      \"properties\": {\n        \"dtype\": \"category\",\n        \"num_unique_values\": 18,\n        \"samples\": [\n          \"IQG07\",\n          \"IQG16\",\n          \"IQG01\"\n        ],\n        \"semantic_type\": \"\",\n        \"description\": \"\"\n      }\n    },\n    {\n      \"column\": \"geometry\",\n      \"properties\": {\n        \"dtype\": \"geometry\",\n        \"num_unique_values\": 294,\n        \"samples\": [\n          \"POLYGON ((43.82639962300004 33.68949706600006, 43.85852234600003 33.688783228000034, 43.88778971600004 33.688783228000034, 43.91991243900003 33.690210904000025, 43.98058869300007 33.690210904000025, 44.01699444600007 33.68949706600006, 44.04412030100008 33.67165110900004, 44.074815347000026 33.65309131300006, 44.07895010400006 33.64108465700008, 44.078960763000055 33.64105370400006, 44.078963619000035 33.64104541200004, 44.07896365900007 33.64104529600007, 44.08393350400007 33.63383414800006, 44.09410212000006 33.618788609000035, 44.106433018000075 33.59874197500005, 44.10786940000003 33.59576411000006, 44.10792711200003 33.59564446300004, 44.11582505200005 33.57927068500004, 44.117298754000046 33.574112729000035, 44.11937457300007 33.56684736300008, 44.122220137000056 33.557194656000036, 44.12655941100007 33.54370813100007, 44.12955274300003 33.534528581000075, 44.13151686600003 33.53117801700006, 44.133874423000066 33.52715630200004, 44.141246702000046 33.521309323000025, 44.14649991600004 33.51897456100005, 44.153776470000025 33.516316122000035, 44.15987837700004 33.514757890000055, 44.17175268200003 33.51317439400003, 44.16793943500005 33.475041919000034, 44.163849576000075 33.474572591000026, 44.145983157000046 33.473256925000044, 44.14142092800006 33.47292096700005, 44.12567500200004 33.472432722000065, 44.11302867000006 33.471482888000025, 44.10819855700004 33.470211805000076, 44.103644530000054 33.46950023900007, 44.09787900600003 33.469159185000024, 44.09331989400005 33.46961509600004, 44.08989496800007 33.469957589000046, 44.08608172100003 33.471991321000075, 44.076675710000075 33.470211805000076, 44.07032029800007 33.465635908000024, 44.06651378300006 33.46060148600003, 44.06243958600004 33.455213032000074, 44.061676936000026 33.44936605200007, 44.05461573000008 33.44098358800005, 44.05205018100003 33.438132978000056, 44.05049141000006 33.436401010000054, 44.04413599800006 33.432841979000045, 44.04235648200006 33.429282948000036, 44.047186596000074 33.423944402000075, 44.045802285000036 33.42177944800005, 44.04262020300007 33.416802922000045, 44.04057696700005 33.41402995800007, 44.03676371900008 33.40996249400007, 44.03549263700006 33.40411551400007, 44.03302181300006 33.39850000700005, 44.032696255000076 33.39776010200006, 44.02786614100006 33.39165890600003, 44.02278181100007 33.386320359000024, 44.019222780000064 33.381490246000055, 44.01294697000003 33.37787690000005, 44.00872200500004 33.37595625500006, 44.003808261000074 33.37431834000006, 43.99939389300005 33.37284688400007, 43.99180727700008 33.37137850700003, 43.99151318100007 33.37132158500003, 43.97829392300008 33.37081315200004, 43.97397224300005 33.36928785300006, 43.97092164500003 33.36420352300007, 43.97060742000008 33.360747049000054, 43.97036745500003 33.35810743300004, 43.96213096200006 33.360460716000034, 43.93536906800006 33.36831087200005, 43.918955107000045 33.374733726000045, 43.90860717400005 33.379372455000066, 43.89540464000004 33.385438484000076, 43.89326368900004 33.385438484000076, 43.88469988300005 33.389006736000056, 43.87863385300005 33.39221816400004, 43.85972211500007 33.40042514500004, 43.85008783300003 33.40435022200006, 43.83938307500006 33.40649117400005, 43.826537366000025 33.408988951000026, 43.810837055000036 33.41220037800008, 43.802986900000064 33.41469815500005, 43.79228214200003 33.41790958200005, 43.78585928700005 33.42005053300005, 43.770872627000074 33.428971165000064, 43.75945421900008 33.43610767000007, 43.76016786900004 33.44966702900007, 43.76016786900004 33.46179908800008, 43.75160406300006 33.463226389000056, 43.73733105300005 33.46572416600003, 43.72733994600003 33.466794642000025, 43.70557360600003 33.468935593000026, 43.690586945000064 33.469292418000066, 43.682736789000046 33.469292418000066, 43.67631393500005 33.469292418000066, 43.67203203200006 33.46786511700003, 43.67167520600003 33.46572416600003, 43.664895527000056 33.45680353400007, 43.66097044900005 33.45644670900003, 43.65526124500008 33.45608988400005, 43.644556487000045 33.455019408000055, 43.63599268100006 33.452878457000054, 43.61601046700008 33.451094330000046, 43.59495777700005 33.45038068000002, 43.586393971000064 33.44966702900007, 43.58389619400003 33.44574195200005, 43.57783016500008 33.43967592200005, 43.57604603900006 33.43967592200005, 43.57279258900007 33.44175813000004, 43.581200385000045 33.45810662100007, 43.58864740300004 33.469028914000035, 43.596590889000026 33.48293001500008, 43.61396726500004 33.50328519800007, 43.623896622000075 33.51371102300004, 43.63630831900008 33.52761212400003, 43.653188227000044 33.544988500000045, 43.66659286000004 33.55938606800004, 43.67801162100005 33.57030836200005, 43.68992685000006 33.58321652600006, 43.705317354000044 33.59761409500004, 43.720404461000044 33.61430093200005, 43.74158709100004 33.632835733000036, 43.76100450100006 33.654900972000064, 43.787482788000034 33.68137925900004, 43.80498447400004 33.69663544900004, 43.82359530400004 33.69043183900004, 43.82639962300004 33.68949706600006))\",\n          \"POLYGON ((43.769984857000054 33.26932979600008, 43.775058639000065 33.25530228100007, 43.78192316700006 33.25530228100007, 43.79774142900004 33.25380999200007, 43.81415660700003 33.25410844900006, 43.822214967000036 33.25410844900006, 43.830273326000054 33.25410844900006, 43.83475019300005 33.25261616100005, 43.838630144000035 33.24873621000006, 43.84430084200005 33.240677850000054, 43.84665588200005 33.23910782300004, 43.847626640000044 33.222604931000035, 43.851542359000064 33.211582907000036, 43.85449048600003 33.20328447700007, 43.858292676000076 33.19531798400004, 43.85982903300004 33.19209895000006, 43.872285641000076 33.18447245500005, 43.88270851800007 33.18142185700003, 43.894148261000055 33.182184507000045, 43.89897837400008 33.18853991900005, 43.89999524000007 33.194895332000044, 43.89440247700003 33.20353869300004, 43.89326952400006 33.20988323200004, 43.89313139500007 33.21065675500006, 43.89694464200005 33.21421578600007, 43.912451849000036 33.21421578600007, 43.916885808000075 33.21217856200008, 43.921857859000056 33.209894106000036, 43.92923013800004 33.20303026000005, 43.934822901000075 33.191590517000066, 43.93761928300006 33.18015077500007, 43.940086948000044 33.17521544400006, 43.94207595100005 33.17203303900004, 43.94416258000007 33.16925086700007, 43.94499790300006 33.16847980000006, 43.95129080300006 33.16541402800004, 43.96278671700003 33.160321887000066, 43.97295537700006 33.160067671000036, 43.97626019100005 33.163372485000025, 43.97626019100005 33.16871103200003, 43.97981922200006 33.173032713000055, 43.990242099000056 33.174558012000034, 43.99807782100004 33.17183254300005, 44.01148860200004 33.166276190000076, 44.01718251300008 33.163764170000036, 44.032569153000054 33.15567754400007, 44.035746853000035 33.15396647500006, 44.04893124800003 33.14986505100006, 44.05938898800008 33.147102629000074, 44.06625283300008 33.14608576300003, 44.07337089600003 33.14379781500003, 44.07438776200007 33.141509866000035, 44.07135312500003 33.140805397000065, 44.06369876600007 33.13902849300007, 44.05422590100005 33.136559014000056, 44.04642394600006 33.134391804000074, 44.04261069900008 33.13032434000007, 44.043373348000046 33.12422314400004, 44.04826742200004 33.120756508000056, 44.05582995700007 33.11710508200002, 44.05630899200003 33.11699863000007, 44.06498175100006 33.11507135000005, 44.06676126600007 33.11176653500007, 44.06599861700005 33.10668220500003, 44.065954040000065 33.10662648400006, 44.06294801900003 33.102868958000045, 44.06312204100004 33.09921447900007, 44.06320223500006 33.09753041100004, 44.066718897000044 33.09511535400003, 44.07243255700007 33.09263115400006, 44.08502803300007 33.088760550000075, 44.09468123900007 33.08679490700007, 44.09786244900005 33.086244313000066, 44.103568229000075 33.08525677500006, 44.10874935900006 33.083929828000066, 44.10671562700003 33.07918445300004, 44.104747641000074 33.07867423400006, 44.101069530000075 33.07772065000006, 44.09756383300004 33.07681176600005, 44.08739517300006 33.070710570000074, 44.087056217000054 33.06698206100003, 44.09010681500007 33.063931463000074, 44.095530101000065 33.06155877600003, 44.10434294000004 33.06088086500006, 44.11104321100004 33.058719487000076, 44.118963492000034 33.05604537200003, 44.10582205500003 33.04640831900008, 44.09415519000004 33.038331259000074, 44.08248832600003 33.029356747000065, 44.07690353100003 33.028379983000036, 44.06812910800005 33.02696354400007, 44.05167583700006 33.02486949200005, 44.033179379000046 33.02304776900007, 44.02624750100006 33.02251454700007, 44.01238374600007 33.020914883000046, 44.00331898200005 33.01984844100008, 43.99478744000004 33.01931521900008, 43.98732234100004 33.01931521900008, 43.98305657000003 33.018781998000065, 43.975058250000075 33.01291656300003, 43.97185892200008 33.011316899000064, 43.986789120000026 33.00331857800006, 43.98979123200007 33.00190581900006, 43.99585388300005 32.999052807000055, 44.00171931800003 32.99798636500003, 44.00865119600007 32.99585347900006, 44.01504985200006 32.99265415100007, 44.03211293600003 32.98785515900005, 44.04597669200007 32.98305616600004, 44.05610789800005 32.98145650200007, 44.06303977600004 32.979856838000046, 44.06997165300004 32.97825717400008, 44.07743675200004 32.96172731200005, 44.08276896600006 32.94999644100005, 44.09290017200004 32.94039845700007, 44.092965495000044 32.94032103700005, 44.10729714900003 32.92333537300004, 44.10996325600007 32.918536381000024, 44.11742835500007 32.91107128200008, 44.12116090500007 32.90520584700005, 44.122760569000036 32.88654309900005, 44.12329379000005 32.86468102300006, 44.122760569000036 32.84761793900003, 44.122227347000035 32.826822305000064, 44.120627683000066 32.809226000000024, 44.11956124100004 32.79642868800005, 44.11455535600004 32.797536947000026, 44.099098844000025 32.801246510000055, 44.05829365300008 32.81361171900005, 44.03371019100007 32.819955839000045, 44.01996150400004 32.82350388700007, 43.97915631300003 32.83525083600006, 43.959371978000036 32.83957865900004, 43.94267894600006 32.84328822200007, 43.933405039000036 32.84328822200007, 43.92351287100007 32.84328822200007, 43.905583318000026 32.83957865900004, 43.874670294000055 32.83154127300003, 43.85488595900006 32.826595189000045, 43.83015554000008 32.81979432400004, 43.81222598700003 32.81484824000006, 43.79862425700003 32.81113867700003, 43.786877308000044 32.80742911500005, 43.77513035900006 32.80495607300003, 43.77018427500008 32.80557433300004, 43.75596428400007 32.80433781200003, 43.74298081400008 32.803719552000075, 43.734943428000065 32.799391728000046, 43.72381474000008 32.79372434100003, 43.49545978700007 32.685159671000065, 43.49391875800006 32.70397014400004, 43.484478022000076 32.81159453500004, 43.48891097300003 32.874394669000026, 43.48521684700006 32.92906772600003, 43.47856742100004 32.94606070300006, 43.47955958800003 32.94690884600004, 43.495949703000065 32.96091975000007, 43.52437457700006 32.985218434000046, 43.542106380000064 33.012554962000024, 43.53545695400004 33.05171269300007, 43.52806870300003 33.07831039600006, 43.53028517800004 33.102691625000034, 43.536934604000066 33.11820695200004, 43.53655224400006 33.12094431200006, 43.52667358200006 33.13675913700007, 43.49729554700008 33.150468886000056, 43.48279570600005 33.162422701000025, 43.501348621000034 33.18167291800006, 43.51235311000005 33.20001373300005, 43.549646102000054 33.25259073800004, 43.56428458700003 33.27753037900004, 43.59150710900008 33.275597409000056, 43.59717780700004 33.275298951000025, 43.607922286000075 33.27500049300005, 43.615383731000065 33.274702036000065, 43.636574232000044 33.27350820500004, 43.650004832000036 33.27320974700007, 43.659257023000066 33.27201591600004, 43.66433080500008 33.267837507000024, 43.66850921400004 33.26515138700006, 43.67268762300006 33.26156989400005, 43.67985060900003 33.25619765400006, 43.68940125800003 33.249034667000046, 43.69238583600003 33.250526956000044, 43.69686270200003 33.25380999200007, 43.700444196000035 33.25679456900008, 43.70432414700008 33.25948068900004, 43.70939792900003 33.26246526700004, 43.71745628900004 33.268135965000056, 43.72521619100007 33.27380666200003, 43.72969305700008 33.27738815600003, 43.73476683900003 33.28007427600005, 43.74073599500008 33.28365576900006, 43.743422115000044 33.286938804000044, 43.74640669300004 33.287834178000026, 43.75058510100007 33.28843109300004, 43.755957341000055 33.28932646700002, 43.75864346100008 33.28932646700002, 43.76132958100004 33.28932646700002, 43.763418786000045 33.28544651500005, 43.76431415900004 33.28067119100007, 43.769984857000054 33.26932979600008))\",\n          \"POLYGON ((45.340790113000025 36.00630172600006, 45.31535500100006 36.022027499000046, 45.30262397900003 36.029029560000026, 45.287346753000065 36.036668173000066, 45.272706079000045 36.046216439000034, 45.25742885300008 36.057037808000075, 45.23705921900006 36.06913227800004, 45.229420606000076 36.07486123800004, 45.20968752300007 36.08377295300005, 45.186771684000064 36.094594321000045, 45.18740823500008 36.106052240000054, 45.189954440000065 36.116237057000035, 45.19441029700005 36.13278738500003, 45.198866155000076 36.13787979400007, 45.21541648200008 36.15061081500005, 45.233239912000045 36.16397838800003, 45.27652538500007 36.17289010300004, 45.29371226400008 36.17543630700004, 45.31471845000004 36.17798251100004, 45.32299361300005 36.17798251100004, 45.33722092100004 36.17905059100008, 45.33722092100004 36.173339885000075, 45.34007627400007 36.15692160400005, 45.34150395100005 36.146927868000034, 45.34150395100005 36.14407251500006, 45.35363920200007 36.13407877900005, 45.35506687800006 36.12836807300005, 45.35934990800007 36.11908817500006, 45.37077132100006 36.11052211600003, 45.37933738000004 36.09910070300003, 45.38647576300008 36.08196858400004, 45.38362041000005 36.07554404000007, 45.37576818900004 36.06911949500005, 45.367915968000034 36.062694950000036, 45.36434677600005 36.05484272900003, 45.361491423000075 36.043421317000025, 45.358636070000045 36.032713742000055, 45.34935617200006 36.017723138000065, 45.343645466000055 36.010584755000025, 45.340790113000025 36.00630172600006))\"\n        ],\n        \"semantic_type\": \"\",\n        \"description\": \"\"\n      }\n    }\n  ]\n}"
            }
          },
          "metadata": {},
          "execution_count": 3
        }
      ]
    },
    {
      "cell_type": "markdown",
      "source": [
        "## MODIS EVI"
      ],
      "metadata": {
        "id": "g6D5rJfcZiHi"
      }
    },
    {
      "cell_type": "code",
      "source": [
        "ee.Authenticate()"
      ],
      "metadata": {
        "colab": {
          "base_uri": "https://localhost:8080/",
          "height": 17
        },
        "id": "9rbxmgabZeFB",
        "outputId": "26f368e2-b467-4e46-8f2e-d8905e13b062"
      },
      "execution_count": 4,
      "outputs": [
        {
          "output_type": "display_data",
          "data": {
            "text/plain": [
              "<IPython.core.display.HTML object>"
            ],
            "text/html": [
              "\n",
              "            <style>\n",
              "                .geemap-dark {\n",
              "                    --jp-widgets-color: white;\n",
              "                    --jp-widgets-label-color: white;\n",
              "                    --jp-ui-font-color1: white;\n",
              "                    --jp-layout-color2: #454545;\n",
              "                    background-color: #383838;\n",
              "                }\n",
              "\n",
              "                .geemap-dark .jupyter-button {\n",
              "                    --jp-layout-color3: #383838;\n",
              "                }\n",
              "\n",
              "                .geemap-colab {\n",
              "                    background-color: var(--colab-primary-surface-color, white);\n",
              "                }\n",
              "\n",
              "                .geemap-colab .jupyter-button {\n",
              "                    --jp-layout-color3: var(--colab-primary-surface-color, white);\n",
              "                }\n",
              "            </style>\n",
              "            "
            ]
          },
          "metadata": {}
        }
      ]
    },
    {
      "cell_type": "code",
      "source": [
        "ee.Initialize(project='iraq-postconflict')"
      ],
      "metadata": {
        "colab": {
          "base_uri": "https://localhost:8080/",
          "height": 17
        },
        "id": "Gad5EhFukCx0",
        "outputId": "fcf4ade1-79cf-4371-e9e5-2aea151a2784"
      },
      "execution_count": 5,
      "outputs": [
        {
          "output_type": "display_data",
          "data": {
            "text/plain": [
              "<IPython.core.display.HTML object>"
            ],
            "text/html": [
              "\n",
              "            <style>\n",
              "                .geemap-dark {\n",
              "                    --jp-widgets-color: white;\n",
              "                    --jp-widgets-label-color: white;\n",
              "                    --jp-ui-font-color1: white;\n",
              "                    --jp-layout-color2: #454545;\n",
              "                    background-color: #383838;\n",
              "                }\n",
              "\n",
              "                .geemap-dark .jupyter-button {\n",
              "                    --jp-layout-color3: #383838;\n",
              "                }\n",
              "\n",
              "                .geemap-colab {\n",
              "                    background-color: var(--colab-primary-surface-color, white);\n",
              "                }\n",
              "\n",
              "                .geemap-colab .jupyter-button {\n",
              "                    --jp-layout-color3: var(--colab-primary-surface-color, white);\n",
              "                }\n",
              "            </style>\n",
              "            "
            ]
          },
          "metadata": {}
        }
      ]
    },
    {
      "cell_type": "code",
      "source": [
        "iraq_bounds_ee = geemap.geopandas_to_ee(iraq_shp_adm0)\n",
        "#iraq_bounds_ee.getInfo()"
      ],
      "metadata": {
        "colab": {
          "base_uri": "https://localhost:8080/",
          "height": 17
        },
        "id": "wMNdSV-fbAL0",
        "outputId": "79583a31-bc18-44d4-8329-127fd8b0292f"
      },
      "execution_count": 7,
      "outputs": [
        {
          "output_type": "display_data",
          "data": {
            "text/plain": [
              "<IPython.core.display.HTML object>"
            ],
            "text/html": [
              "\n",
              "            <style>\n",
              "                .geemap-dark {\n",
              "                    --jp-widgets-color: white;\n",
              "                    --jp-widgets-label-color: white;\n",
              "                    --jp-ui-font-color1: white;\n",
              "                    --jp-layout-color2: #454545;\n",
              "                    background-color: #383838;\n",
              "                }\n",
              "\n",
              "                .geemap-dark .jupyter-button {\n",
              "                    --jp-layout-color3: #383838;\n",
              "                }\n",
              "\n",
              "                .geemap-colab {\n",
              "                    background-color: var(--colab-primary-surface-color, white);\n",
              "                }\n",
              "\n",
              "                .geemap-colab .jupyter-button {\n",
              "                    --jp-layout-color3: var(--colab-primary-surface-color, white);\n",
              "                }\n",
              "            </style>\n",
              "            "
            ]
          },
          "metadata": {}
        }
      ]
    },
    {
      "cell_type": "markdown",
      "source": [
        "Functions to calculate EVI for given areas over a desired date range:"
      ],
      "metadata": {
        "id": "WBum5waOmDju"
      }
    },
    {
      "cell_type": "code",
      "source": [
        "# this requires mounting google drive\n",
        "def process_extracted_csv(csv_file):\n",
        "  # requires mounting drive\n",
        "  full_csv_path = f\"drive/MyDrive/{csv_file}\"\n",
        "  evi_csv = pd.read_csv(full_csv_path)\n",
        "  # 294 admin 3 regions, so can have\n",
        "  # about 8 months of data (300 * 8 * 2 ~ 5000)\n",
        "  # per table exported\n",
        "  print(f\"Csv shape: {evi_csv.shape}\")\n",
        "\n",
        "  # process the raw csv to have date and friendly names\n",
        "  evi_csv['date'] = evi_csv['system:index'].str.extract(r'(.*)(?=_)')\n",
        "  evi_csv['date'] = pd.to_datetime(evi_csv['date'],format=\"%Y_%m_%d\")\n",
        "  evi_csv.rename(columns={'max':'max_evi','mean':'mean_evi'},inplace=True)\n",
        "  evi_csv.drop(columns=['system:index','.geo'],inplace=True)\n",
        "\n",
        "  # save this new version\n",
        "  new_csv_path = f\"drive/MyDrive/processed_csvs_ee/processed_{csv_file}\"\n",
        "  print(f\"saving processed csv for dates {evi_csv['date'].min()} to {evi_csv['date'].max()} as {new_csv_path}\")\n",
        "  evi_csv.to_csv(new_csv_path,index=False)\n",
        "\n",
        "  return\n"
      ],
      "metadata": {
        "colab": {
          "base_uri": "https://localhost:8080/",
          "height": 17
        },
        "id": "_QDIp0y5OQhr",
        "outputId": "ed664699-9cde-434f-f430-1238d860d7b2"
      },
      "execution_count": 6,
      "outputs": [
        {
          "output_type": "display_data",
          "data": {
            "text/plain": [
              "<IPython.core.display.HTML object>"
            ],
            "text/html": [
              "\n",
              "            <style>\n",
              "                .geemap-dark {\n",
              "                    --jp-widgets-color: white;\n",
              "                    --jp-widgets-label-color: white;\n",
              "                    --jp-ui-font-color1: white;\n",
              "                    --jp-layout-color2: #454545;\n",
              "                    background-color: #383838;\n",
              "                }\n",
              "\n",
              "                .geemap-dark .jupyter-button {\n",
              "                    --jp-layout-color3: #383838;\n",
              "                }\n",
              "\n",
              "                .geemap-colab {\n",
              "                    background-color: var(--colab-primary-surface-color, white);\n",
              "                }\n",
              "\n",
              "                .geemap-colab .jupyter-button {\n",
              "                    --jp-layout-color3: var(--colab-primary-surface-color, white);\n",
              "                }\n",
              "            </style>\n",
              "            "
            ]
          },
          "metadata": {}
        }
      ]
    },
    {
      "cell_type": "code",
      "source": [
        "# calculate a range of dates given\n",
        "def calc_date_range(date_min, date_max, months_at_time):\n",
        "  if date_max == 'today':\n",
        "    date_max = pd.to_datetime('today').date()\n",
        "  elif type(date_max) == str:\n",
        "    date_max = pd.to_datetime(date_max).date()\n",
        "  else:\n",
        "    print(\"Error: date_max must be a string in the form 'yyyy-mm-dd' or left unspecified to use today's date\")\n",
        "    return\n",
        "\n",
        "  date_min = pd.to_datetime(date_min).date()\n",
        "\n",
        "  print(f\"Calculating EVI over areas for date range {date_min.strftime(format='%Y-%m-%d')} to {date_max.strftime(format='%Y-%m-%d')}\")\n",
        "\n",
        "\n",
        "  start_range_freq = months_at_time * pd.offsets.MonthBegin()\n",
        "  date_range_start = pd.date_range(date_min,date_max, freq=start_range_freq)\n",
        "\n",
        "  # for longer ranges, add an extra week to ensure land in the desired month\n",
        "  if months_at_time > 5:\n",
        "    weeks_for_delta = months_at_time * 4 + 1\n",
        "  else:\n",
        "    weeks_for_delta = months_at_time * 4\n",
        "  date_ranges = []\n",
        "  for date in date_range_start:\n",
        "    end_date = date + pd.Timedelta(weeks=weeks_for_delta)\n",
        "    end_date = end_date + pd.offsets.MonthEnd()\n",
        "    date_ranges.append((date.strftime(format='%Y-%m-%d'), end_date.strftime(format='%Y-%m-%d')))\n",
        "\n",
        "  return date_ranges, date_min.strftime(format='%Y-%m-%d'), date_max.strftime(format='%Y-%m-%d')\n",
        "\n",
        "# function to process modis EVI values in batches by date\n",
        "def calc_modis_evi(areas_gpd, date_min, date_max='today', months_at_time=8):\n",
        "  # convert area gpd to earth engine geometries\n",
        "  areas_ee = geemap.geopandas_to_ee(areas_gpd)\n",
        "\n",
        "  # create reducer and calc vi function from areas\n",
        "  reducer = ee.Reducer.mean().combine(\n",
        "    reducer2=ee.Reducer.max(), sharedInputs=True\n",
        "  )\n",
        "\n",
        "  def calc_vi_stats(image):\n",
        "    reduced = image.reduceRegions(\n",
        "      collection=areas_ee,\n",
        "      reducer=reducer,\n",
        "      scale=30\n",
        "      )\n",
        "    return reduced\n",
        "\n",
        "  # create range of dates to use in ee.Filter.date\n",
        "  date_ranges, date_min, date_max = calc_date_range(date_min, date_max, months_at_time)\n",
        "\n",
        "  for start, end in date_ranges:\n",
        "    print(f\"Processing date range {start} to {end}\")\n",
        "    modis_evi = ee.ImageCollection('MODIS/061/MOD13Q1').\\\n",
        "                filter(ee.Filter.date(start, end)).\\\n",
        "                select('EVI')\n",
        "\n",
        "    evi_stats = modis_evi.map(calc_vi_stats).flatten()\n",
        "\n",
        "    raw_csv = f\"exportEviStats_{start}_{end}\"\n",
        "    print(f\"Exporting results csv file {raw_csv}.csv\")\n",
        "    # can't convert more than 5000 elements\n",
        "    task = ee.batch.Export.table.toDrive(\n",
        "        collection = evi_stats,\n",
        "        description=raw_csv,\n",
        "        fileFormat='CSV'\n",
        "    )\n",
        "    task.start()\n",
        "    while (task.status()['state']=='READY')|\\\n",
        "          (task.status()['state']=='UNSUBMITTED')|\\\n",
        "          (task.status()['state']=='RUNNING'):\n",
        "      print(\"Export status state:\",task.status()['state'])\n",
        "      time.sleep(30)\n",
        "\n",
        "    if task.status()['state'] != 'COMPLETED':\n",
        "      print(f\"Export failed for date range {start} to {end}\")\n",
        "      return\n",
        "\n",
        "    # sometimes finishes before fully recognized in saved location;\n",
        "    # give an extra 10 seconds just to confirm\n",
        "    print(\"Final 40 second delay to confirm csv is ready\")\n",
        "    time.sleep(40)\n",
        "\n",
        "    print(f\"Processing csv file for final cleaning and readability\")\n",
        "    raw_csv = f\"{raw_csv}.csv\"\n",
        "    process_extracted_csv(raw_csv)\n"
      ],
      "metadata": {
        "colab": {
          "base_uri": "https://localhost:8080/",
          "height": 17
        },
        "id": "sjbqsEDSQKiV",
        "outputId": "ca8a9948-1f46-4d96-a67f-422b173227b4"
      },
      "execution_count": 7,
      "outputs": [
        {
          "output_type": "display_data",
          "data": {
            "text/plain": [
              "<IPython.core.display.HTML object>"
            ],
            "text/html": [
              "\n",
              "            <style>\n",
              "                .geemap-dark {\n",
              "                    --jp-widgets-color: white;\n",
              "                    --jp-widgets-label-color: white;\n",
              "                    --jp-ui-font-color1: white;\n",
              "                    --jp-layout-color2: #454545;\n",
              "                    background-color: #383838;\n",
              "                }\n",
              "\n",
              "                .geemap-dark .jupyter-button {\n",
              "                    --jp-layout-color3: #383838;\n",
              "                }\n",
              "\n",
              "                .geemap-colab {\n",
              "                    background-color: var(--colab-primary-surface-color, white);\n",
              "                }\n",
              "\n",
              "                .geemap-colab .jupyter-button {\n",
              "                    --jp-layout-color3: var(--colab-primary-surface-color, white);\n",
              "                }\n",
              "            </style>\n",
              "            "
            ]
          },
          "metadata": {}
        }
      ]
    },
    {
      "cell_type": "code",
      "source": [
        "calc_modis_evi(iraq_adm3_filt, date_min='2024-01-01')"
      ],
      "metadata": {
        "colab": {
          "base_uri": "https://localhost:8080/",
          "height": 194
        },
        "id": "c4TrvLFnRY2l",
        "outputId": "9dddd31f-d12c-4ffb-e40d-a722affe0d40"
      },
      "execution_count": 8,
      "outputs": [
        {
          "output_type": "display_data",
          "data": {
            "text/plain": [
              "<IPython.core.display.HTML object>"
            ],
            "text/html": [
              "\n",
              "            <style>\n",
              "                .geemap-dark {\n",
              "                    --jp-widgets-color: white;\n",
              "                    --jp-widgets-label-color: white;\n",
              "                    --jp-ui-font-color1: white;\n",
              "                    --jp-layout-color2: #454545;\n",
              "                    background-color: #383838;\n",
              "                }\n",
              "\n",
              "                .geemap-dark .jupyter-button {\n",
              "                    --jp-layout-color3: #383838;\n",
              "                }\n",
              "\n",
              "                .geemap-colab {\n",
              "                    background-color: var(--colab-primary-surface-color, white);\n",
              "                }\n",
              "\n",
              "                .geemap-colab .jupyter-button {\n",
              "                    --jp-layout-color3: var(--colab-primary-surface-color, white);\n",
              "                }\n",
              "            </style>\n",
              "            "
            ]
          },
          "metadata": {}
        },
        {
          "output_type": "stream",
          "name": "stdout",
          "text": [
            "Calculating EVI over areas for date range 2024-01-01 to 2024-03-07\n",
            "Processing date range 2024-01-01 to 2024-08-31\n",
            "Exporting results csv file exportEviStats_2024-01-01_2024-08-31.csv\n",
            "Export status state: READY\n",
            "Final 40 second delay to confirm csv is ready\n",
            "Processing csv file for final cleaning and readability\n",
            "Csv shape: (882, 11)\n",
            "saving processed csv for dates 2024-01-01 00:00:00 to 2024-02-02 00:00:00 as drive/MyDrive/processed_csvs_ee/processed_exportEviStats_2024-01-01_2024-08-31.csv\n"
          ]
        }
      ]
    },
    {
      "cell_type": "markdown",
      "source": [
        "To run a single batch of dates manually and piecewise, can use the code below:"
      ],
      "metadata": {
        "id": "rxjutJq5jfnQ"
      }
    },
    {
      "cell_type": "code",
      "source": [
        "# global images, so no point using filterBounds to select only Iraq\n",
        "modis_all = ee.ImageCollection('MODIS/061/MOD13Q1').\\\n",
        "              filter(ee.Filter.date('2024-01-01', '2024-01-31'))\n",
        "modis_evi = modis_all.select('EVI')\n",
        "# properties['system:index':'2019_01_01']"
      ],
      "metadata": {
        "colab": {
          "base_uri": "https://localhost:8080/",
          "height": 17
        },
        "id": "rY_Xk7-4Zjmf",
        "outputId": "784b2783-2e3e-476d-8693-d2a00bd18f1c"
      },
      "execution_count": 80,
      "outputs": [
        {
          "output_type": "display_data",
          "data": {
            "text/plain": [
              "<IPython.core.display.HTML object>"
            ],
            "text/html": [
              "\n",
              "            <style>\n",
              "                .geemap-dark {\n",
              "                    --jp-widgets-color: white;\n",
              "                    --jp-widgets-label-color: white;\n",
              "                    --jp-ui-font-color1: white;\n",
              "                    --jp-layout-color2: #454545;\n",
              "                    background-color: #383838;\n",
              "                }\n",
              "\n",
              "                .geemap-dark .jupyter-button {\n",
              "                    --jp-layout-color3: #383838;\n",
              "                }\n",
              "\n",
              "                .geemap-colab {\n",
              "                    background-color: var(--colab-primary-surface-color, white);\n",
              "                }\n",
              "\n",
              "                .geemap-colab .jupyter-button {\n",
              "                    --jp-layout-color3: var(--colab-primary-surface-color, white);\n",
              "                }\n",
              "            </style>\n",
              "            "
            ]
          },
          "metadata": {}
        }
      ]
    },
    {
      "cell_type": "code",
      "source": [
        "iraq_adm3_ee = geemap.geopandas_to_ee(iraq_adm3_filt)\n",
        "\n",
        "reducer = ee.Reducer.mean().combine(\n",
        "    reducer2=ee.Reducer.max(), sharedInputs=True\n",
        ")\n",
        "\n",
        "def calc_vi_stats(image):\n",
        "  reduced = image.reduceRegions(\n",
        "    collection=iraq_adm3_ee,\n",
        "    reducer=reducer,\n",
        "    scale=30\n",
        "    )\n",
        "  return reduced\n",
        "\n",
        "evi_stats = modis_evi.map(calc_vi_stats).flatten()\n",
        "# test with single image to confirm calcs are the same as in csv output\n",
        "#evi_stats = calc_vi_stats(modis_evi.first())"
      ],
      "metadata": {
        "colab": {
          "base_uri": "https://localhost:8080/",
          "height": 17
        },
        "id": "yzdIKW-ObhdZ",
        "outputId": "afdd05ac-94c2-4191-c013-8bf88332bcb2"
      },
      "execution_count": 81,
      "outputs": [
        {
          "output_type": "display_data",
          "data": {
            "text/plain": [
              "<IPython.core.display.HTML object>"
            ],
            "text/html": [
              "\n",
              "            <style>\n",
              "                .geemap-dark {\n",
              "                    --jp-widgets-color: white;\n",
              "                    --jp-widgets-label-color: white;\n",
              "                    --jp-ui-font-color1: white;\n",
              "                    --jp-layout-color2: #454545;\n",
              "                    background-color: #383838;\n",
              "                }\n",
              "\n",
              "                .geemap-dark .jupyter-button {\n",
              "                    --jp-layout-color3: #383838;\n",
              "                }\n",
              "\n",
              "                .geemap-colab {\n",
              "                    background-color: var(--colab-primary-surface-color, white);\n",
              "                }\n",
              "\n",
              "                .geemap-colab .jupyter-button {\n",
              "                    --jp-layout-color3: var(--colab-primary-surface-color, white);\n",
              "                }\n",
              "            </style>\n",
              "            "
            ]
          },
          "metadata": {}
        }
      ]
    },
    {
      "cell_type": "code",
      "source": [
        "# can't convert more than 5000 elements\n",
        "task = ee.batch.Export.table.toDrive(\n",
        "    collection = evi_stats,\n",
        "    description=\"exportEviStats\",\n",
        "    fileFormat='CSV'\n",
        ")\n",
        "task.start()"
      ],
      "metadata": {
        "colab": {
          "base_uri": "https://localhost:8080/",
          "height": 17
        },
        "id": "qTfLALWrcfh1",
        "outputId": "2e4a23d0-186e-49ee-a3f5-e0527e3a43ca"
      },
      "execution_count": 82,
      "outputs": [
        {
          "output_type": "display_data",
          "data": {
            "text/plain": [
              "<IPython.core.display.HTML object>"
            ],
            "text/html": [
              "\n",
              "            <style>\n",
              "                .geemap-dark {\n",
              "                    --jp-widgets-color: white;\n",
              "                    --jp-widgets-label-color: white;\n",
              "                    --jp-ui-font-color1: white;\n",
              "                    --jp-layout-color2: #454545;\n",
              "                    background-color: #383838;\n",
              "                }\n",
              "\n",
              "                .geemap-dark .jupyter-button {\n",
              "                    --jp-layout-color3: #383838;\n",
              "                }\n",
              "\n",
              "                .geemap-colab {\n",
              "                    background-color: var(--colab-primary-surface-color, white);\n",
              "                }\n",
              "\n",
              "                .geemap-colab .jupyter-button {\n",
              "                    --jp-layout-color3: var(--colab-primary-surface-color, white);\n",
              "                }\n",
              "            </style>\n",
              "            "
            ]
          },
          "metadata": {}
        }
      ]
    },
    {
      "cell_type": "code",
      "source": [
        "# takes a very long time, and lose the index with the date\n",
        "#evi_stats_gpd = geemap.ee_to_gdf(evi_stats)"
      ],
      "metadata": {
        "id": "c9KMdPaC6iaQ"
      },
      "execution_count": null,
      "outputs": []
    },
    {
      "cell_type": "markdown",
      "source": [
        "To visualize the EVI values produced, can use the code below:"
      ],
      "metadata": {
        "id": "7Gv4nzBDlujy"
      }
    },
    {
      "cell_type": "code",
      "source": [
        "iraq_bounds_ee = geemap.geopandas_to_ee(iraq_shp_adm0)"
      ],
      "metadata": {
        "id": "lY_0VGlTlzV6"
      },
      "execution_count": null,
      "outputs": []
    },
    {
      "cell_type": "code",
      "source": [
        "Map = geemap.Map()\n",
        "\n",
        "# Load an image.\n",
        "image = modis_evi.first()\n",
        "\n",
        "# Define the visualization parameters.\n",
        "palett = [\n",
        "    'FFFFFF', 'CE7E45', 'DF923D', 'F1B555', 'FCD163', '99B718',\n",
        "    '74A901', '66A000', '529400', '3E8601', '207401', '056201',\n",
        "    '004C00', '023B01', '012E01', '011D01', '011301']\n",
        "\n",
        "vizParams = {\n",
        "  'bands': ['EVI'],\n",
        "  'min': -2000,\n",
        "  'max': 10000,\n",
        "  'palette':palett\n",
        "}\n",
        "\n",
        "\n",
        "\n",
        "# Center the map and display the image.\n",
        "Map.setCenter(44.230744, 34.967605, 8)\n",
        "Map.addLayer(image.clip(iraq_bounds_ee), vizParams, 'Test')\n",
        "\n",
        "# Display the map\n",
        "Map"
      ],
      "metadata": {
        "colab": {
          "base_uri": "https://localhost:8080/",
          "height": 621,
          "referenced_widgets": [
            "0880f861333c4c41881f3a7827224729",
            "a85cdcd15f364850a79441a4dc0e3e47",
            "9be0ac0572ad431295ed3bc60b7c1fe5",
            "5a93fd29fd75469e9d756332e24a354e",
            "77acd60c290b466c8695efba5cd862b1",
            "a2ecdc31258248a69fc8fc4666a539ae",
            "7bd6f63a725e4a30a7c81e1f4e26727e",
            "db2e5cd2f51a4b99aea9939105ac854f",
            "dafddd8d47c840e0b15276488d5bf0ca",
            "bbb302cd7a9946fa99ba465b4e97df8e",
            "7a90897eb9264785b1513ee84f6aff2e",
            "9df64a84e20d45ee98b97f3d0486c673",
            "45fec663f6b7487e9b8552fb10285213",
            "5c422aa00cd6494491cb55cfd6f38d3d",
            "25a6aac57c4a42359552afc50f1f9c95",
            "ff9889be37a243e1be3e662a963b0c47",
            "04976f8ee0e948e4830cdd78e8e8eef2",
            "8fe34d6e695c4ea1bd09898371c49e59",
            "8ed4a7c1e6774eb882c039ddfc993fa7",
            "1e8e0d1b66d441819f488c19c5b41f70",
            "65396237474e4ae38ca1e1688af5b1c4",
            "5ea4a2eaa4ea46cebb1e0c79528038c3",
            "d50b93b7977f4c908c29bb422beb4349",
            "f15b4b0b82ed4287bc73314e726a7674",
            "164331fb15ad464aa22ec0700af418b5"
          ]
        },
        "id": "NM6kprqiDQVU",
        "outputId": "caa8ade9-eb49-4025-f00a-fcebbba28ddf"
      },
      "execution_count": 20,
      "outputs": [
        {
          "output_type": "display_data",
          "data": {
            "text/plain": [
              "<IPython.core.display.HTML object>"
            ],
            "text/html": [
              "\n",
              "            <style>\n",
              "                .geemap-dark {\n",
              "                    --jp-widgets-color: white;\n",
              "                    --jp-widgets-label-color: white;\n",
              "                    --jp-ui-font-color1: white;\n",
              "                    --jp-layout-color2: #454545;\n",
              "                    background-color: #383838;\n",
              "                }\n",
              "\n",
              "                .geemap-dark .jupyter-button {\n",
              "                    --jp-layout-color3: #383838;\n",
              "                }\n",
              "\n",
              "                .geemap-colab {\n",
              "                    background-color: var(--colab-primary-surface-color, white);\n",
              "                }\n",
              "\n",
              "                .geemap-colab .jupyter-button {\n",
              "                    --jp-layout-color3: var(--colab-primary-surface-color, white);\n",
              "                }\n",
              "            </style>\n",
              "            "
            ]
          },
          "metadata": {}
        },
        {
          "output_type": "display_data",
          "data": {
            "text/plain": [
              "Map(center=[34.967605, 44.230744], controls=(WidgetControl(options=['position', 'transparent_bg'], widget=Sear…"
            ],
            "application/vnd.jupyter.widget-view+json": {
              "version_major": 2,
              "version_minor": 0,
              "model_id": "0880f861333c4c41881f3a7827224729"
            }
          },
          "metadata": {
            "application/vnd.jupyter.widget-view+json": {
              "colab": {
                "custom_widget_manager": {
                  "url": "https://ssl.gstatic.com/colaboratory-static/widgets/colab-cdn-widget-manager/2b70e893a8ba7c0f/manager.min.js"
                }
              }
            }
          }
        }
      ]
    },
    {
      "cell_type": "code",
      "source": [],
      "metadata": {
        "id": "VUIs2OQdDSZ0"
      },
      "execution_count": null,
      "outputs": []
    }
  ]
}