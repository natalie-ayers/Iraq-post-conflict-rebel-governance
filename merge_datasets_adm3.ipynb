{
 "cells": [
  {
   "cell_type": "code",
   "execution_count": 1,
   "metadata": {},
   "outputs": [],
   "source": [
    "import pandas as pd\n",
    "import geopandas as gpd\n",
    "import numpy as np\n",
    "import os\n",
    "import re"
   ]
  },
  {
   "cell_type": "markdown",
   "metadata": {},
   "source": [
    "## Read in All Data"
   ]
  },
  {
   "cell_type": "code",
   "execution_count": 2,
   "metadata": {},
   "outputs": [],
   "source": [
    "source_dir = '/mnt/c/Users/natra/Documents/Research/Iraq-post-conflict-rebel-governance'\n",
    "iom_adm3_mapping = source_dir + '/data/iom/iom_adm3_mapping.csv'\n",
    "iom_data_file = source_dir + '/data/iom/iom_raw.xlsx'\n",
    "ag_indices_file = source_dir + '/data/satellite_indices/evi/evi_mask_mean_max_min/evi_stats_Jan2001-Dec2022.csv'\n",
    "adm3_xsub_file = source_dir + '/data/conflict/adm3_xsub_monthly.csv'\n",
    "pop_dir = source_dir + '/data/population/'\n",
    "adm3_sunni_eth_file = source_dir + '/data/EPR/adm3_sunni_epr.csv'\n",
    "\n",
    "# NOTE - as-is, there is a duplicate ADM3_PCODE in this shapefile!! \n",
    "# IQG01Q05N01 is for both Abi Gharaq and Markaz Ana\n",
    "iraq_shp_adm3_loc = source_dir + '/data/geo_boundaries/irq-administrative-divisions-shapefiles/irq_admbnda_adm3_cso_20190603.shp'"
   ]
  },
  {
   "cell_type": "code",
   "execution_count": 3,
   "metadata": {},
   "outputs": [],
   "source": [
    "iom_adm3_map = pd.read_csv(iom_adm3_mapping)\n",
    "iom_data = pd.read_excel(iom_data_file, sheet_name=\"Full Dataset\",header=1)\n",
    "ag_data = pd.read_csv(ag_indices_file)\n",
    "adm3_xsub = pd.read_csv(adm3_xsub_file)\n",
    "iraq_shp_adm3 = gpd.read_file(iraq_shp_adm3_loc)\n",
    "adm3_sunni_eth = pd.read_csv(adm3_sunni_eth_file)"
   ]
  },
  {
   "cell_type": "code",
   "execution_count": 4,
   "metadata": {},
   "outputs": [],
   "source": [
    "# obtain desired info from IOM\n",
    "iom_data_filt = iom_data.loc[:,('LocationID','DateofInterview','Q1.10 IsLocationInDisputedArea',\n",
    "                                'Q1.11 WasLocationOccupied','Q1.11.1 RetakenPeriod',\n",
    "                                'Q1.12 FirstMajorEthno-religiousPrior','Q1.13 FirstMajorEthno-religiousCurrent')]"
   ]
  },
  {
   "cell_type": "code",
   "execution_count": 5,
   "metadata": {},
   "outputs": [],
   "source": [
    "# concatenate population year files\n",
    "# processing of global tif files into iraq adm3 regions done in Google Colab Pro - \n",
    "# below I'm reading in the output of the Colab files\n",
    "\n",
    "pop_dfs = []\n",
    "for file in os.listdir(pop_dir):\n",
    "    if file.endswith('.csv'):\n",
    "        file_path = pop_dir + file\n",
    "        df = pd.read_csv(file_path, index_col=None)\n",
    "        pop_dfs.append(df)\n",
    "pop_df_full = pd.concat(pop_dfs, axis=0, ignore_index=True)"
   ]
  },
  {
   "cell_type": "markdown",
   "metadata": {},
   "source": [
    "## Merge all data at monthly, adm3 level"
   ]
  },
  {
   "cell_type": "code",
   "execution_count": 7,
   "metadata": {},
   "outputs": [
    {
     "data": {
      "text/html": [
       "<div>\n",
       "<style scoped>\n",
       "    .dataframe tbody tr th:only-of-type {\n",
       "        vertical-align: middle;\n",
       "    }\n",
       "\n",
       "    .dataframe tbody tr th {\n",
       "        vertical-align: top;\n",
       "    }\n",
       "\n",
       "    .dataframe thead th {\n",
       "        text-align: right;\n",
       "    }\n",
       "</style>\n",
       "<table border=\"1\" class=\"dataframe\">\n",
       "  <thead>\n",
       "    <tr style=\"text-align: right;\">\n",
       "      <th></th>\n",
       "      <th></th>\n",
       "      <th>max_evi</th>\n",
       "      <th>max_evi_scaled</th>\n",
       "    </tr>\n",
       "    <tr>\n",
       "      <th>ADM3_EN</th>\n",
       "      <th>date</th>\n",
       "      <th></th>\n",
       "      <th></th>\n",
       "    </tr>\n",
       "  </thead>\n",
       "  <tbody>\n",
       "    <tr>\n",
       "      <th rowspan=\"5\" valign=\"top\">Abi Gharaq</th>\n",
       "      <th>2001-01-31</th>\n",
       "      <td>5416.0</td>\n",
       "      <td>0.5416</td>\n",
       "    </tr>\n",
       "    <tr>\n",
       "      <th>2001-02-28</th>\n",
       "      <td>6291.0</td>\n",
       "      <td>0.6291</td>\n",
       "    </tr>\n",
       "    <tr>\n",
       "      <th>2001-03-31</th>\n",
       "      <td>6513.0</td>\n",
       "      <td>0.6513</td>\n",
       "    </tr>\n",
       "    <tr>\n",
       "      <th>2001-04-30</th>\n",
       "      <td>5332.0</td>\n",
       "      <td>0.5332</td>\n",
       "    </tr>\n",
       "    <tr>\n",
       "      <th>2001-05-31</th>\n",
       "      <td>5147.0</td>\n",
       "      <td>0.5147</td>\n",
       "    </tr>\n",
       "  </tbody>\n",
       "</table>\n",
       "</div>"
      ],
      "text/plain": [
       "                       max_evi  max_evi_scaled\n",
       "ADM3_EN    date                               \n",
       "Abi Gharaq 2001-01-31   5416.0          0.5416\n",
       "           2001-02-28   6291.0          0.6291\n",
       "           2001-03-31   6513.0          0.6513\n",
       "           2001-04-30   5332.0          0.5332\n",
       "           2001-05-31   5147.0          0.5147"
      ]
     },
     "execution_count": 7,
     "metadata": {},
     "output_type": "execute_result"
    }
   ],
   "source": [
    "# get max evi at monthly level\n",
    "ag_data_max = ag_data.loc[:,('ADM3_EN','max_evi','max_evi_scaled','date')]\n",
    "ag_data_max['date'] = pd.to_datetime(ag_data_max['date'])\n",
    "ag_data_max = ag_data_max.set_index('date')\n",
    "ag_data_max_month = ag_data_max.groupby(['ADM3_EN'])[['max_evi','max_evi_scaled']].resample('ME').max()\n",
    "\n",
    "ag_data_max_month.head()"
   ]
  },
  {
   "cell_type": "code",
   "execution_count": 8,
   "metadata": {},
   "outputs": [
    {
     "data": {
      "text/html": [
       "<div>\n",
       "<style scoped>\n",
       "    .dataframe tbody tr th:only-of-type {\n",
       "        vertical-align: middle;\n",
       "    }\n",
       "\n",
       "    .dataframe tbody tr th {\n",
       "        vertical-align: top;\n",
       "    }\n",
       "\n",
       "    .dataframe thead th {\n",
       "        text-align: right;\n",
       "    }\n",
       "</style>\n",
       "<table border=\"1\" class=\"dataframe\">\n",
       "  <thead>\n",
       "    <tr style=\"text-align: right;\">\n",
       "      <th></th>\n",
       "      <th></th>\n",
       "      <th>mean_evi</th>\n",
       "      <th>mean_evi_scaled</th>\n",
       "    </tr>\n",
       "    <tr>\n",
       "      <th>ADM3_EN</th>\n",
       "      <th>date</th>\n",
       "      <th></th>\n",
       "      <th></th>\n",
       "    </tr>\n",
       "  </thead>\n",
       "  <tbody>\n",
       "    <tr>\n",
       "      <th rowspan=\"5\" valign=\"top\">Abi Gharaq</th>\n",
       "      <th>2001-01-31</th>\n",
       "      <td>2886.373490</td>\n",
       "      <td>0.288637</td>\n",
       "    </tr>\n",
       "    <tr>\n",
       "      <th>2001-02-28</th>\n",
       "      <td>3094.206464</td>\n",
       "      <td>0.309421</td>\n",
       "    </tr>\n",
       "    <tr>\n",
       "      <th>2001-03-31</th>\n",
       "      <td>3275.809481</td>\n",
       "      <td>0.327581</td>\n",
       "    </tr>\n",
       "    <tr>\n",
       "      <th>2001-04-30</th>\n",
       "      <td>2596.503366</td>\n",
       "      <td>0.259650</td>\n",
       "    </tr>\n",
       "    <tr>\n",
       "      <th>2001-05-31</th>\n",
       "      <td>2161.217474</td>\n",
       "      <td>0.216122</td>\n",
       "    </tr>\n",
       "  </tbody>\n",
       "</table>\n",
       "</div>"
      ],
      "text/plain": [
       "                          mean_evi  mean_evi_scaled\n",
       "ADM3_EN    date                                    \n",
       "Abi Gharaq 2001-01-31  2886.373490         0.288637\n",
       "           2001-02-28  3094.206464         0.309421\n",
       "           2001-03-31  3275.809481         0.327581\n",
       "           2001-04-30  2596.503366         0.259650\n",
       "           2001-05-31  2161.217474         0.216122"
      ]
     },
     "execution_count": 8,
     "metadata": {},
     "output_type": "execute_result"
    }
   ],
   "source": [
    "# get mean evi at monthly level\n",
    "ag_data_avg = ag_data.loc[:,('ADM3_EN','mean_evi','mean_evi_scaled','date')]\n",
    "ag_data_avg['date'] = pd.to_datetime(ag_data_avg['date'])\n",
    "ag_data_avg = ag_data_avg.set_index('date')\n",
    "ag_data_avg_month = ag_data_avg.groupby(['ADM3_EN'])[['mean_evi','mean_evi_scaled']].resample('ME').mean()\n",
    "\n",
    "ag_data_avg_month.head()"
   ]
  },
  {
   "cell_type": "code",
   "execution_count": 9,
   "metadata": {},
   "outputs": [
    {
     "name": "stdout",
     "output_type": "stream",
     "text": [
      "(77616, 2)\n",
      "(77616, 2)\n",
      "(77616, 4)\n"
     ]
    }
   ],
   "source": [
    "ag_data_monthly = ag_data_avg_month.join(ag_data_max_month)\n",
    "print(ag_data_avg_month.shape)\n",
    "print(ag_data_max_month.shape)\n",
    "print(ag_data_monthly.shape)"
   ]
  },
  {
   "cell_type": "code",
   "execution_count": 10,
   "metadata": {},
   "outputs": [
    {
     "data": {
      "text/html": [
       "<div>\n",
       "<style scoped>\n",
       "    .dataframe tbody tr th:only-of-type {\n",
       "        vertical-align: middle;\n",
       "    }\n",
       "\n",
       "    .dataframe tbody tr th {\n",
       "        vertical-align: top;\n",
       "    }\n",
       "\n",
       "    .dataframe thead th {\n",
       "        text-align: right;\n",
       "    }\n",
       "</style>\n",
       "<table border=\"1\" class=\"dataframe\">\n",
       "  <thead>\n",
       "    <tr style=\"text-align: right;\">\n",
       "      <th></th>\n",
       "      <th></th>\n",
       "      <th>ACTION_IND</th>\n",
       "      <th>ACTION_DIR</th>\n",
       "      <th>ACTION_PRT</th>\n",
       "    </tr>\n",
       "    <tr>\n",
       "      <th>ADM3_EN</th>\n",
       "      <th>date</th>\n",
       "      <th></th>\n",
       "      <th></th>\n",
       "      <th></th>\n",
       "    </tr>\n",
       "  </thead>\n",
       "  <tbody>\n",
       "    <tr>\n",
       "      <th rowspan=\"5\" valign=\"top\">Abi Gharaq</th>\n",
       "      <th>2017-12-31</th>\n",
       "      <td>1</td>\n",
       "      <td>1</td>\n",
       "      <td>0</td>\n",
       "    </tr>\n",
       "    <tr>\n",
       "      <th>2018-01-31</th>\n",
       "      <td>0</td>\n",
       "      <td>0</td>\n",
       "      <td>0</td>\n",
       "    </tr>\n",
       "    <tr>\n",
       "      <th>2018-02-28</th>\n",
       "      <td>0</td>\n",
       "      <td>0</td>\n",
       "      <td>0</td>\n",
       "    </tr>\n",
       "    <tr>\n",
       "      <th>2018-03-31</th>\n",
       "      <td>0</td>\n",
       "      <td>0</td>\n",
       "      <td>0</td>\n",
       "    </tr>\n",
       "    <tr>\n",
       "      <th>2018-04-30</th>\n",
       "      <td>0</td>\n",
       "      <td>0</td>\n",
       "      <td>0</td>\n",
       "    </tr>\n",
       "  </tbody>\n",
       "</table>\n",
       "</div>"
      ],
      "text/plain": [
       "                       ACTION_IND  ACTION_DIR  ACTION_PRT\n",
       "ADM3_EN    date                                          \n",
       "Abi Gharaq 2017-12-31           1           1           0\n",
       "           2018-01-31           0           0           0\n",
       "           2018-02-28           0           0           0\n",
       "           2018-03-31           0           0           0\n",
       "           2018-04-30           0           0           0"
      ]
     },
     "execution_count": 10,
     "metadata": {},
     "output_type": "execute_result"
    }
   ],
   "source": [
    "# xsub only goes until 2019-12-31\n",
    "adm3_xsub_mon = adm3_xsub.rename(columns={'month':'date'})\n",
    "adm3_xsub_mon = adm3_xsub_mon.drop(columns=['ADM3_PCODE'])\n",
    "adm3_xsub_mon = adm3_xsub_mon.set_index(['ADM3_EN','date'])\n",
    "adm3_xsub_mon.head()"
   ]
  },
  {
   "cell_type": "code",
   "execution_count": 11,
   "metadata": {},
   "outputs": [
    {
     "name": "stdout",
     "output_type": "stream",
     "text": [
      "(77616, 4)\n",
      "(23658, 3)\n",
      "(77616, 7)\n"
     ]
    }
   ],
   "source": [
    "# join agricultural EVI indices with xsub conflict data\n",
    "adm3_iraq_data = ag_data_monthly.join(adm3_xsub_mon)\n",
    "print(ag_data_monthly.shape)\n",
    "print(adm3_xsub_mon.shape)\n",
    "print(adm3_iraq_data.shape)\n",
    "adm3_iraq_data = adm3_iraq_data.reset_index()"
   ]
  },
  {
   "cell_type": "code",
   "execution_count": 12,
   "metadata": {},
   "outputs": [
    {
     "data": {
      "text/html": [
       "<div>\n",
       "<style scoped>\n",
       "    .dataframe tbody tr th:only-of-type {\n",
       "        vertical-align: middle;\n",
       "    }\n",
       "\n",
       "    .dataframe tbody tr th {\n",
       "        vertical-align: top;\n",
       "    }\n",
       "\n",
       "    .dataframe thead th {\n",
       "        text-align: right;\n",
       "    }\n",
       "</style>\n",
       "<table border=\"1\" class=\"dataframe\">\n",
       "  <thead>\n",
       "    <tr style=\"text-align: right;\">\n",
       "      <th></th>\n",
       "      <th>ADM3_EN</th>\n",
       "      <th>date</th>\n",
       "      <th>mean_evi</th>\n",
       "      <th>mean_evi_scaled</th>\n",
       "      <th>max_evi</th>\n",
       "      <th>max_evi_scaled</th>\n",
       "      <th>ACTION_IND</th>\n",
       "      <th>ACTION_DIR</th>\n",
       "      <th>ACTION_PRT</th>\n",
       "    </tr>\n",
       "  </thead>\n",
       "  <tbody>\n",
       "    <tr>\n",
       "      <th>0</th>\n",
       "      <td>Abi Gharaq</td>\n",
       "      <td>2001-01-31</td>\n",
       "      <td>2886.373490</td>\n",
       "      <td>0.288637</td>\n",
       "      <td>5416.0</td>\n",
       "      <td>0.5416</td>\n",
       "      <td>NaN</td>\n",
       "      <td>NaN</td>\n",
       "      <td>NaN</td>\n",
       "    </tr>\n",
       "    <tr>\n",
       "      <th>1</th>\n",
       "      <td>Abi Gharaq</td>\n",
       "      <td>2001-02-28</td>\n",
       "      <td>3094.206464</td>\n",
       "      <td>0.309421</td>\n",
       "      <td>6291.0</td>\n",
       "      <td>0.6291</td>\n",
       "      <td>NaN</td>\n",
       "      <td>NaN</td>\n",
       "      <td>NaN</td>\n",
       "    </tr>\n",
       "    <tr>\n",
       "      <th>2</th>\n",
       "      <td>Abi Gharaq</td>\n",
       "      <td>2001-03-31</td>\n",
       "      <td>3275.809481</td>\n",
       "      <td>0.327581</td>\n",
       "      <td>6513.0</td>\n",
       "      <td>0.6513</td>\n",
       "      <td>NaN</td>\n",
       "      <td>NaN</td>\n",
       "      <td>NaN</td>\n",
       "    </tr>\n",
       "    <tr>\n",
       "      <th>3</th>\n",
       "      <td>Abi Gharaq</td>\n",
       "      <td>2001-04-30</td>\n",
       "      <td>2596.503366</td>\n",
       "      <td>0.259650</td>\n",
       "      <td>5332.0</td>\n",
       "      <td>0.5332</td>\n",
       "      <td>NaN</td>\n",
       "      <td>NaN</td>\n",
       "      <td>NaN</td>\n",
       "    </tr>\n",
       "    <tr>\n",
       "      <th>4</th>\n",
       "      <td>Abi Gharaq</td>\n",
       "      <td>2001-05-31</td>\n",
       "      <td>2161.217474</td>\n",
       "      <td>0.216122</td>\n",
       "      <td>5147.0</td>\n",
       "      <td>0.5147</td>\n",
       "      <td>NaN</td>\n",
       "      <td>NaN</td>\n",
       "      <td>NaN</td>\n",
       "    </tr>\n",
       "  </tbody>\n",
       "</table>\n",
       "</div>"
      ],
      "text/plain": [
       "      ADM3_EN       date     mean_evi  mean_evi_scaled  max_evi  \\\n",
       "0  Abi Gharaq 2001-01-31  2886.373490         0.288637   5416.0   \n",
       "1  Abi Gharaq 2001-02-28  3094.206464         0.309421   6291.0   \n",
       "2  Abi Gharaq 2001-03-31  3275.809481         0.327581   6513.0   \n",
       "3  Abi Gharaq 2001-04-30  2596.503366         0.259650   5332.0   \n",
       "4  Abi Gharaq 2001-05-31  2161.217474         0.216122   5147.0   \n",
       "\n",
       "   max_evi_scaled  ACTION_IND  ACTION_DIR  ACTION_PRT  \n",
       "0          0.5416         NaN         NaN         NaN  \n",
       "1          0.6291         NaN         NaN         NaN  \n",
       "2          0.6513         NaN         NaN         NaN  \n",
       "3          0.5332         NaN         NaN         NaN  \n",
       "4          0.5147         NaN         NaN         NaN  "
      ]
     },
     "execution_count": 12,
     "metadata": {},
     "output_type": "execute_result"
    }
   ],
   "source": [
    "adm3_iraq_data.head()"
   ]
  },
  {
   "cell_type": "code",
   "execution_count": 13,
   "metadata": {},
   "outputs": [
    {
     "data": {
      "text/html": [
       "<div>\n",
       "<style scoped>\n",
       "    .dataframe tbody tr th:only-of-type {\n",
       "        vertical-align: middle;\n",
       "    }\n",
       "\n",
       "    .dataframe tbody tr th {\n",
       "        vertical-align: top;\n",
       "    }\n",
       "\n",
       "    .dataframe thead th {\n",
       "        text-align: right;\n",
       "    }\n",
       "</style>\n",
       "<table border=\"1\" class=\"dataframe\">\n",
       "  <thead>\n",
       "    <tr style=\"text-align: right;\">\n",
       "      <th></th>\n",
       "      <th>ADM3_EN</th>\n",
       "      <th>date</th>\n",
       "      <th>mean_evi</th>\n",
       "      <th>mean_evi_scaled</th>\n",
       "      <th>max_evi</th>\n",
       "      <th>max_evi_scaled</th>\n",
       "      <th>ACTION_IND</th>\n",
       "      <th>ACTION_DIR</th>\n",
       "      <th>ACTION_PRT</th>\n",
       "    </tr>\n",
       "  </thead>\n",
       "  <tbody>\n",
       "  </tbody>\n",
       "</table>\n",
       "</div>"
      ],
      "text/plain": [
       "Empty DataFrame\n",
       "Columns: [ADM3_EN, date, mean_evi, mean_evi_scaled, max_evi, max_evi_scaled, ACTION_IND, ACTION_DIR, ACTION_PRT]\n",
       "Index: []"
      ]
     },
     "execution_count": 13,
     "metadata": {},
     "output_type": "execute_result"
    }
   ],
   "source": [
    "# no duplicates at this point\n",
    "adm3_iraq_data[adm3_iraq_data.duplicated(subset=['date','ADM3_EN'],keep=False)]"
   ]
  },
  {
   "cell_type": "code",
   "execution_count": 14,
   "metadata": {},
   "outputs": [
    {
     "data": {
      "text/html": [
       "<div>\n",
       "<style scoped>\n",
       "    .dataframe tbody tr th:only-of-type {\n",
       "        vertical-align: middle;\n",
       "    }\n",
       "\n",
       "    .dataframe tbody tr th {\n",
       "        vertical-align: top;\n",
       "    }\n",
       "\n",
       "    .dataframe thead th {\n",
       "        text-align: right;\n",
       "    }\n",
       "</style>\n",
       "<table border=\"1\" class=\"dataframe\">\n",
       "  <thead>\n",
       "    <tr style=\"text-align: right;\">\n",
       "      <th></th>\n",
       "      <th>ADM3_EN</th>\n",
       "      <th>date</th>\n",
       "      <th>mean_evi</th>\n",
       "      <th>mean_evi_scaled</th>\n",
       "      <th>max_evi</th>\n",
       "      <th>max_evi_scaled</th>\n",
       "      <th>ACTION_IND</th>\n",
       "      <th>ACTION_DIR</th>\n",
       "      <th>ACTION_PRT</th>\n",
       "    </tr>\n",
       "  </thead>\n",
       "  <tbody>\n",
       "    <tr>\n",
       "      <th>0</th>\n",
       "      <td>Abi Gharaq</td>\n",
       "      <td>2001-01-31</td>\n",
       "      <td>2886.373490</td>\n",
       "      <td>0.288637</td>\n",
       "      <td>5416.0</td>\n",
       "      <td>0.5416</td>\n",
       "      <td>0.0</td>\n",
       "      <td>0.0</td>\n",
       "      <td>0.0</td>\n",
       "    </tr>\n",
       "    <tr>\n",
       "      <th>1</th>\n",
       "      <td>Abi Gharaq</td>\n",
       "      <td>2001-02-28</td>\n",
       "      <td>3094.206464</td>\n",
       "      <td>0.309421</td>\n",
       "      <td>6291.0</td>\n",
       "      <td>0.6291</td>\n",
       "      <td>0.0</td>\n",
       "      <td>0.0</td>\n",
       "      <td>0.0</td>\n",
       "    </tr>\n",
       "    <tr>\n",
       "      <th>2</th>\n",
       "      <td>Abi Gharaq</td>\n",
       "      <td>2001-03-31</td>\n",
       "      <td>3275.809481</td>\n",
       "      <td>0.327581</td>\n",
       "      <td>6513.0</td>\n",
       "      <td>0.6513</td>\n",
       "      <td>0.0</td>\n",
       "      <td>0.0</td>\n",
       "      <td>0.0</td>\n",
       "    </tr>\n",
       "    <tr>\n",
       "      <th>3</th>\n",
       "      <td>Abi Gharaq</td>\n",
       "      <td>2001-04-30</td>\n",
       "      <td>2596.503366</td>\n",
       "      <td>0.259650</td>\n",
       "      <td>5332.0</td>\n",
       "      <td>0.5332</td>\n",
       "      <td>0.0</td>\n",
       "      <td>0.0</td>\n",
       "      <td>0.0</td>\n",
       "    </tr>\n",
       "    <tr>\n",
       "      <th>4</th>\n",
       "      <td>Abi Gharaq</td>\n",
       "      <td>2001-05-31</td>\n",
       "      <td>2161.217474</td>\n",
       "      <td>0.216122</td>\n",
       "      <td>5147.0</td>\n",
       "      <td>0.5147</td>\n",
       "      <td>0.0</td>\n",
       "      <td>0.0</td>\n",
       "      <td>0.0</td>\n",
       "    </tr>\n",
       "  </tbody>\n",
       "</table>\n",
       "</div>"
      ],
      "text/plain": [
       "      ADM3_EN       date     mean_evi  mean_evi_scaled  max_evi  \\\n",
       "0  Abi Gharaq 2001-01-31  2886.373490         0.288637   5416.0   \n",
       "1  Abi Gharaq 2001-02-28  3094.206464         0.309421   6291.0   \n",
       "2  Abi Gharaq 2001-03-31  3275.809481         0.327581   6513.0   \n",
       "3  Abi Gharaq 2001-04-30  2596.503366         0.259650   5332.0   \n",
       "4  Abi Gharaq 2001-05-31  2161.217474         0.216122   5147.0   \n",
       "\n",
       "   max_evi_scaled  ACTION_IND  ACTION_DIR  ACTION_PRT  \n",
       "0          0.5416         0.0         0.0         0.0  \n",
       "1          0.6291         0.0         0.0         0.0  \n",
       "2          0.6513         0.0         0.0         0.0  \n",
       "3          0.5332         0.0         0.0         0.0  \n",
       "4          0.5147         0.0         0.0         0.0  "
      ]
     },
     "execution_count": 14,
     "metadata": {},
     "output_type": "execute_result"
    }
   ],
   "source": [
    "# make xsub conflict values 0 for un-defined time periods where we have xsub data; otherwise \n",
    "# keep NA. Have data from 2001-01-01 until 2019-12-31\n",
    "min_xsub = pd.to_datetime('2001-01-01')\n",
    "max_xsub = adm3_xsub.month.max()\n",
    "\n",
    "adm3_iraq_data['ACTION_IND'] = np.where(((adm3_iraq_data['date']>=min_xsub)&(adm3_iraq_data['date']<=max_xsub)&(adm3_iraq_data.ACTION_IND.isna())),0,adm3_iraq_data.ACTION_IND)\n",
    "adm3_iraq_data['ACTION_DIR'] = np.where(((adm3_iraq_data['date']>=min_xsub)&(adm3_iraq_data['date']<=max_xsub)&(adm3_iraq_data.ACTION_DIR.isna())),0,adm3_iraq_data.ACTION_DIR)\n",
    "adm3_iraq_data['ACTION_PRT'] = np.where(((adm3_iraq_data['date']>=min_xsub)&(adm3_iraq_data['date']<=max_xsub)&(adm3_iraq_data.ACTION_PRT.isna())),0,adm3_iraq_data.ACTION_PRT)\n",
    "adm3_iraq_data.head()"
   ]
  },
  {
   "cell_type": "code",
   "execution_count": 15,
   "metadata": {},
   "outputs": [
    {
     "data": {
      "text/html": [
       "<div>\n",
       "<style scoped>\n",
       "    .dataframe tbody tr th:only-of-type {\n",
       "        vertical-align: middle;\n",
       "    }\n",
       "\n",
       "    .dataframe tbody tr th {\n",
       "        vertical-align: top;\n",
       "    }\n",
       "\n",
       "    .dataframe thead th {\n",
       "        text-align: right;\n",
       "    }\n",
       "</style>\n",
       "<table border=\"1\" class=\"dataframe\">\n",
       "  <thead>\n",
       "    <tr style=\"text-align: right;\">\n",
       "      <th></th>\n",
       "      <th>ADM3_EN</th>\n",
       "      <th>date</th>\n",
       "      <th>mean_evi</th>\n",
       "      <th>mean_evi_scaled</th>\n",
       "      <th>max_evi</th>\n",
       "      <th>max_evi_scaled</th>\n",
       "      <th>ACTION_IND</th>\n",
       "      <th>ACTION_DIR</th>\n",
       "      <th>ACTION_PRT</th>\n",
       "    </tr>\n",
       "  </thead>\n",
       "  <tbody>\n",
       "  </tbody>\n",
       "</table>\n",
       "</div>"
      ],
      "text/plain": [
       "Empty DataFrame\n",
       "Columns: [ADM3_EN, date, mean_evi, mean_evi_scaled, max_evi, max_evi_scaled, ACTION_IND, ACTION_DIR, ACTION_PRT]\n",
       "Index: []"
      ]
     },
     "execution_count": 15,
     "metadata": {},
     "output_type": "execute_result"
    }
   ],
   "source": [
    "# no duplicates at this point\n",
    "adm3_iraq_data[adm3_iraq_data.duplicated(subset=['date','ADM3_EN'],keep=False)]"
   ]
  },
  {
   "cell_type": "code",
   "execution_count": 16,
   "metadata": {},
   "outputs": [
    {
     "data": {
      "text/html": [
       "<div>\n",
       "<style scoped>\n",
       "    .dataframe tbody tr th:only-of-type {\n",
       "        vertical-align: middle;\n",
       "    }\n",
       "\n",
       "    .dataframe tbody tr th {\n",
       "        vertical-align: top;\n",
       "    }\n",
       "\n",
       "    .dataframe thead th {\n",
       "        text-align: right;\n",
       "    }\n",
       "</style>\n",
       "<table border=\"1\" class=\"dataframe\">\n",
       "  <thead>\n",
       "    <tr style=\"text-align: right;\">\n",
       "      <th></th>\n",
       "      <th>ADM3_EN</th>\n",
       "      <th>date</th>\n",
       "      <th>mean_evi</th>\n",
       "      <th>mean_evi_scaled</th>\n",
       "      <th>max_evi</th>\n",
       "      <th>max_evi_scaled</th>\n",
       "      <th>ACTION_IND</th>\n",
       "      <th>ACTION_DIR</th>\n",
       "      <th>ACTION_PRT</th>\n",
       "      <th>year</th>\n",
       "      <th>year_5yr</th>\n",
       "    </tr>\n",
       "  </thead>\n",
       "  <tbody>\n",
       "    <tr>\n",
       "      <th>0</th>\n",
       "      <td>Abi Gharaq</td>\n",
       "      <td>2001-01-31</td>\n",
       "      <td>2886.373490</td>\n",
       "      <td>0.288637</td>\n",
       "      <td>5416.0</td>\n",
       "      <td>0.5416</td>\n",
       "      <td>0.0</td>\n",
       "      <td>0.0</td>\n",
       "      <td>0.0</td>\n",
       "      <td>2001</td>\n",
       "      <td>2000</td>\n",
       "    </tr>\n",
       "    <tr>\n",
       "      <th>1</th>\n",
       "      <td>Abi Gharaq</td>\n",
       "      <td>2001-02-28</td>\n",
       "      <td>3094.206464</td>\n",
       "      <td>0.309421</td>\n",
       "      <td>6291.0</td>\n",
       "      <td>0.6291</td>\n",
       "      <td>0.0</td>\n",
       "      <td>0.0</td>\n",
       "      <td>0.0</td>\n",
       "      <td>2001</td>\n",
       "      <td>2000</td>\n",
       "    </tr>\n",
       "    <tr>\n",
       "      <th>2</th>\n",
       "      <td>Abi Gharaq</td>\n",
       "      <td>2001-03-31</td>\n",
       "      <td>3275.809481</td>\n",
       "      <td>0.327581</td>\n",
       "      <td>6513.0</td>\n",
       "      <td>0.6513</td>\n",
       "      <td>0.0</td>\n",
       "      <td>0.0</td>\n",
       "      <td>0.0</td>\n",
       "      <td>2001</td>\n",
       "      <td>2000</td>\n",
       "    </tr>\n",
       "    <tr>\n",
       "      <th>3</th>\n",
       "      <td>Abi Gharaq</td>\n",
       "      <td>2001-04-30</td>\n",
       "      <td>2596.503366</td>\n",
       "      <td>0.259650</td>\n",
       "      <td>5332.0</td>\n",
       "      <td>0.5332</td>\n",
       "      <td>0.0</td>\n",
       "      <td>0.0</td>\n",
       "      <td>0.0</td>\n",
       "      <td>2001</td>\n",
       "      <td>2000</td>\n",
       "    </tr>\n",
       "    <tr>\n",
       "      <th>4</th>\n",
       "      <td>Abi Gharaq</td>\n",
       "      <td>2001-05-31</td>\n",
       "      <td>2161.217474</td>\n",
       "      <td>0.216122</td>\n",
       "      <td>5147.0</td>\n",
       "      <td>0.5147</td>\n",
       "      <td>0.0</td>\n",
       "      <td>0.0</td>\n",
       "      <td>0.0</td>\n",
       "      <td>2001</td>\n",
       "      <td>2000</td>\n",
       "    </tr>\n",
       "  </tbody>\n",
       "</table>\n",
       "</div>"
      ],
      "text/plain": [
       "      ADM3_EN       date     mean_evi  mean_evi_scaled  max_evi  \\\n",
       "0  Abi Gharaq 2001-01-31  2886.373490         0.288637   5416.0   \n",
       "1  Abi Gharaq 2001-02-28  3094.206464         0.309421   6291.0   \n",
       "2  Abi Gharaq 2001-03-31  3275.809481         0.327581   6513.0   \n",
       "3  Abi Gharaq 2001-04-30  2596.503366         0.259650   5332.0   \n",
       "4  Abi Gharaq 2001-05-31  2161.217474         0.216122   5147.0   \n",
       "\n",
       "   max_evi_scaled  ACTION_IND  ACTION_DIR  ACTION_PRT  year  year_5yr  \n",
       "0          0.5416         0.0         0.0         0.0  2001      2000  \n",
       "1          0.6291         0.0         0.0         0.0  2001      2000  \n",
       "2          0.6513         0.0         0.0         0.0  2001      2000  \n",
       "3          0.5332         0.0         0.0         0.0  2001      2000  \n",
       "4          0.5147         0.0         0.0         0.0  2001      2000  "
      ]
     },
     "execution_count": 16,
     "metadata": {},
     "output_type": "execute_result"
    }
   ],
   "source": [
    "# create 5-year interval fields to join with population data\n",
    "adm3_iraq_data['year'] = adm3_iraq_data['date'].dt.year\n",
    "adm3_iraq_data['year_5yr'] = np.where(\n",
    "                               adm3_iraq_data['year'] < 2005, 2000,\n",
    "                               np.where(adm3_iraq_data['year'] < 2010, 2005,\n",
    "                                np.where(adm3_iraq_data['year'] < 2015, 2010,\n",
    "                                np.where(adm3_iraq_data['year'] < 2020, 2015,\n",
    "                                np.where(adm3_iraq_data['year'] < 2025, 2020, 0)))))\n",
    "adm3_iraq_data.head()"
   ]
  },
  {
   "cell_type": "code",
   "execution_count": 17,
   "metadata": {},
   "outputs": [
    {
     "data": {
      "text/html": [
       "<div>\n",
       "<style scoped>\n",
       "    .dataframe tbody tr th:only-of-type {\n",
       "        vertical-align: middle;\n",
       "    }\n",
       "\n",
       "    .dataframe tbody tr th {\n",
       "        vertical-align: top;\n",
       "    }\n",
       "\n",
       "    .dataframe thead th {\n",
       "        text-align: right;\n",
       "    }\n",
       "</style>\n",
       "<table border=\"1\" class=\"dataframe\">\n",
       "  <thead>\n",
       "    <tr style=\"text-align: right;\">\n",
       "      <th></th>\n",
       "      <th>ADM3_EN</th>\n",
       "      <th>date</th>\n",
       "      <th>mean_evi</th>\n",
       "      <th>mean_evi_scaled</th>\n",
       "      <th>max_evi</th>\n",
       "      <th>max_evi_scaled</th>\n",
       "      <th>ACTION_IND</th>\n",
       "      <th>ACTION_DIR</th>\n",
       "      <th>ACTION_PRT</th>\n",
       "      <th>year</th>\n",
       "      <th>year_5yr</th>\n",
       "    </tr>\n",
       "  </thead>\n",
       "  <tbody>\n",
       "  </tbody>\n",
       "</table>\n",
       "</div>"
      ],
      "text/plain": [
       "Empty DataFrame\n",
       "Columns: [ADM3_EN, date, mean_evi, mean_evi_scaled, max_evi, max_evi_scaled, ACTION_IND, ACTION_DIR, ACTION_PRT, year, year_5yr]\n",
       "Index: []"
      ]
     },
     "execution_count": 17,
     "metadata": {},
     "output_type": "execute_result"
    }
   ],
   "source": [
    "# no duplicates at this point\n",
    "adm3_iraq_data[adm3_iraq_data.duplicated(subset=['date','ADM3_EN'],keep=False)]"
   ]
  },
  {
   "cell_type": "code",
   "execution_count": 18,
   "metadata": {},
   "outputs": [
    {
     "name": "stdout",
     "output_type": "stream",
     "text": [
      "(77616, 11)\n",
      "(1470, 4)\n",
      "(77616, 11)\n"
     ]
    }
   ],
   "source": [
    "# join population data by ADM3_PCODE and 5-year interval\n",
    "pop_df_join = pop_df_full.drop(columns=['Shape_Area'])\n",
    "print(adm3_iraq_data.shape)\n",
    "adm3_iraq_data = adm3_iraq_data.merge(pop_df_join, how='outer',left_on=['ADM3_EN','year_5yr'],\n",
    "                                      right_on=['ADM3_EN','year'])\n",
    "adm3_iraq_data = adm3_iraq_data.drop(columns=['year_x','year_y','year_5yr'])\n",
    "print(pop_df_join.shape)\n",
    "print(adm3_iraq_data.shape)"
   ]
  },
  {
   "cell_type": "code",
   "execution_count": 19,
   "metadata": {},
   "outputs": [
    {
     "data": {
      "text/html": [
       "<div>\n",
       "<style scoped>\n",
       "    .dataframe tbody tr th:only-of-type {\n",
       "        vertical-align: middle;\n",
       "    }\n",
       "\n",
       "    .dataframe tbody tr th {\n",
       "        vertical-align: top;\n",
       "    }\n",
       "\n",
       "    .dataframe thead th {\n",
       "        text-align: right;\n",
       "    }\n",
       "</style>\n",
       "<table border=\"1\" class=\"dataframe\">\n",
       "  <thead>\n",
       "    <tr style=\"text-align: right;\">\n",
       "      <th></th>\n",
       "      <th>ADM3_EN</th>\n",
       "      <th>date</th>\n",
       "      <th>mean_evi</th>\n",
       "      <th>mean_evi_scaled</th>\n",
       "      <th>max_evi</th>\n",
       "      <th>max_evi_scaled</th>\n",
       "      <th>ACTION_IND</th>\n",
       "      <th>ACTION_DIR</th>\n",
       "      <th>ACTION_PRT</th>\n",
       "      <th>pop_count</th>\n",
       "      <th>pop_density</th>\n",
       "    </tr>\n",
       "  </thead>\n",
       "  <tbody>\n",
       "  </tbody>\n",
       "</table>\n",
       "</div>"
      ],
      "text/plain": [
       "Empty DataFrame\n",
       "Columns: [ADM3_EN, date, mean_evi, mean_evi_scaled, max_evi, max_evi_scaled, ACTION_IND, ACTION_DIR, ACTION_PRT, pop_count, pop_density]\n",
       "Index: []"
      ]
     },
     "execution_count": 19,
     "metadata": {},
     "output_type": "execute_result"
    }
   ],
   "source": [
    "# no duplicates at this point\n",
    "adm3_iraq_data[adm3_iraq_data.duplicated(subset=['date','ADM3_EN'],keep=False)]"
   ]
  },
  {
   "cell_type": "code",
   "execution_count": 20,
   "metadata": {},
   "outputs": [
    {
     "data": {
      "text/html": [
       "<div>\n",
       "<style scoped>\n",
       "    .dataframe tbody tr th:only-of-type {\n",
       "        vertical-align: middle;\n",
       "    }\n",
       "\n",
       "    .dataframe tbody tr th {\n",
       "        vertical-align: top;\n",
       "    }\n",
       "\n",
       "    .dataframe thead th {\n",
       "        text-align: right;\n",
       "    }\n",
       "</style>\n",
       "<table border=\"1\" class=\"dataframe\">\n",
       "  <thead>\n",
       "    <tr style=\"text-align: right;\">\n",
       "      <th></th>\n",
       "      <th>ADM3_EN</th>\n",
       "      <th>date</th>\n",
       "      <th>mean_evi</th>\n",
       "      <th>mean_evi_scaled</th>\n",
       "      <th>max_evi</th>\n",
       "      <th>max_evi_scaled</th>\n",
       "      <th>ACTION_IND</th>\n",
       "      <th>ACTION_DIR</th>\n",
       "      <th>ACTION_PRT</th>\n",
       "      <th>pop_count</th>\n",
       "      <th>pop_density</th>\n",
       "    </tr>\n",
       "  </thead>\n",
       "  <tbody>\n",
       "    <tr>\n",
       "      <th>0</th>\n",
       "      <td>Abi Gharaq</td>\n",
       "      <td>2001-01-31</td>\n",
       "      <td>2886.373490</td>\n",
       "      <td>0.288637</td>\n",
       "      <td>5416.0</td>\n",
       "      <td>0.5416</td>\n",
       "      <td>0.0</td>\n",
       "      <td>0.0</td>\n",
       "      <td>0.0</td>\n",
       "      <td>137199.66</td>\n",
       "      <td>8.709119e+06</td>\n",
       "    </tr>\n",
       "    <tr>\n",
       "      <th>1</th>\n",
       "      <td>Abi Gharaq</td>\n",
       "      <td>2001-02-28</td>\n",
       "      <td>3094.206464</td>\n",
       "      <td>0.309421</td>\n",
       "      <td>6291.0</td>\n",
       "      <td>0.6291</td>\n",
       "      <td>0.0</td>\n",
       "      <td>0.0</td>\n",
       "      <td>0.0</td>\n",
       "      <td>137199.66</td>\n",
       "      <td>8.709119e+06</td>\n",
       "    </tr>\n",
       "    <tr>\n",
       "      <th>2</th>\n",
       "      <td>Abi Gharaq</td>\n",
       "      <td>2001-03-31</td>\n",
       "      <td>3275.809481</td>\n",
       "      <td>0.327581</td>\n",
       "      <td>6513.0</td>\n",
       "      <td>0.6513</td>\n",
       "      <td>0.0</td>\n",
       "      <td>0.0</td>\n",
       "      <td>0.0</td>\n",
       "      <td>137199.66</td>\n",
       "      <td>8.709119e+06</td>\n",
       "    </tr>\n",
       "    <tr>\n",
       "      <th>3</th>\n",
       "      <td>Abi Gharaq</td>\n",
       "      <td>2001-04-30</td>\n",
       "      <td>2596.503366</td>\n",
       "      <td>0.259650</td>\n",
       "      <td>5332.0</td>\n",
       "      <td>0.5332</td>\n",
       "      <td>0.0</td>\n",
       "      <td>0.0</td>\n",
       "      <td>0.0</td>\n",
       "      <td>137199.66</td>\n",
       "      <td>8.709119e+06</td>\n",
       "    </tr>\n",
       "    <tr>\n",
       "      <th>4</th>\n",
       "      <td>Abi Gharaq</td>\n",
       "      <td>2001-05-31</td>\n",
       "      <td>2161.217474</td>\n",
       "      <td>0.216122</td>\n",
       "      <td>5147.0</td>\n",
       "      <td>0.5147</td>\n",
       "      <td>0.0</td>\n",
       "      <td>0.0</td>\n",
       "      <td>0.0</td>\n",
       "      <td>137199.66</td>\n",
       "      <td>8.709119e+06</td>\n",
       "    </tr>\n",
       "  </tbody>\n",
       "</table>\n",
       "</div>"
      ],
      "text/plain": [
       "      ADM3_EN       date     mean_evi  mean_evi_scaled  max_evi  \\\n",
       "0  Abi Gharaq 2001-01-31  2886.373490         0.288637   5416.0   \n",
       "1  Abi Gharaq 2001-02-28  3094.206464         0.309421   6291.0   \n",
       "2  Abi Gharaq 2001-03-31  3275.809481         0.327581   6513.0   \n",
       "3  Abi Gharaq 2001-04-30  2596.503366         0.259650   5332.0   \n",
       "4  Abi Gharaq 2001-05-31  2161.217474         0.216122   5147.0   \n",
       "\n",
       "   max_evi_scaled  ACTION_IND  ACTION_DIR  ACTION_PRT  pop_count   pop_density  \n",
       "0          0.5416         0.0         0.0         0.0  137199.66  8.709119e+06  \n",
       "1          0.6291         0.0         0.0         0.0  137199.66  8.709119e+06  \n",
       "2          0.6513         0.0         0.0         0.0  137199.66  8.709119e+06  \n",
       "3          0.5332         0.0         0.0         0.0  137199.66  8.709119e+06  \n",
       "4          0.5147         0.0         0.0         0.0  137199.66  8.709119e+06  "
      ]
     },
     "execution_count": 20,
     "metadata": {},
     "output_type": "execute_result"
    }
   ],
   "source": [
    "adm3_iraq_data.head()"
   ]
  },
  {
   "cell_type": "markdown",
   "metadata": {},
   "source": [
    "#### IOM Data Preparation"
   ]
  },
  {
   "cell_type": "code",
   "execution_count": 21,
   "metadata": {},
   "outputs": [],
   "source": [
    "# format IOM data for joining\n",
    "iom_data_filt = iom_data_filt.rename(columns={\n",
    "                                    'Q1.10 IsLocationInDisputedArea':'disputed_area',\n",
    "                                    'Q1.11 WasLocationOccupied':'loc_occupied',\n",
    "                                    'Q1.11.1 RetakenPeriod':'retaken_period',\n",
    "                                    'Q1.12 FirstMajorEthno-religiousPrior':'maj_ethrelig_prior',\n",
    "                                    'Q1.13 FirstMajorEthno-religiousCurrent':'maj_ethrelig_curr'         \n",
    "                                    })"
   ]
  },
  {
   "cell_type": "code",
   "execution_count": 22,
   "metadata": {},
   "outputs": [],
   "source": [
    "# add flags for whether attacked, occupied, or no ISIL activity\n",
    "iom_data_filt['iom_attacked'] = np.where(iom_data_filt['loc_occupied']=='Yes, attacked', 1, 0)\n",
    "iom_data_filt['iom_occupied'] = np.where(iom_data_filt['loc_occupied']=='Yes, occupied', 1, 0)\n",
    "iom_data_filt['iom_no_isil_action'] = np.where(iom_data_filt['loc_occupied']=='No', 1, 0)\n",
    "# add flags for whether in ISIL religious-ethnic group prior to crisis and currently\n",
    "iom_data_filt['isil_ingroup_prior'] = np.where(iom_data_filt['maj_ethrelig_prior']=='Arab Sunni Muslim', 1, 0)\n",
    "iom_data_filt['isil_ingroup_curr'] = np.where(iom_data_filt['maj_ethrelig_curr']=='Arab Sunni Muslim', 1, 0)\n",
    "# convert disputed area answers to 1,0 flags\n",
    "iom_data_filt['disputed_area'] = np.where(iom_data_filt['disputed_area']=='Yes', 1, 0)"
   ]
  },
  {
   "cell_type": "code",
   "execution_count": 23,
   "metadata": {},
   "outputs": [],
   "source": [
    "# add flag for whether retaken pre- or post-2016 as indicator for long or short-term occupation\n",
    "iom_data_filt['retaken_year'] = iom_data_filt['retaken_period'].str.extract(\"(\\d\\d\\d\\d)\")\n",
    "iom_data_filt['retaken_year'] = iom_data_filt['retaken_year'].astype('float')\n",
    "iom_data_filt['retaken_post_2016'] = np.where(iom_data_filt['retaken_year'].isna(),iom_data_filt['retaken_year'],\n",
    "                                              np.where(iom_data_filt['retaken_year']>=2017,1,0))"
   ]
  },
  {
   "cell_type": "code",
   "execution_count": 24,
   "metadata": {},
   "outputs": [],
   "source": [
    "# drop unnecessary columns\n",
    "iom_data_filt = iom_data_filt.drop(columns=['loc_occupied','retaken_period','maj_ethrelig_prior',\n",
    "                                            'maj_ethrelig_curr','DateofInterview'])"
   ]
  },
  {
   "cell_type": "code",
   "execution_count": 25,
   "metadata": {},
   "outputs": [
    {
     "name": "stdout",
     "output_type": "stream",
     "text": [
      "(3717, 9)\n",
      "(3717, 10)\n"
     ]
    }
   ],
   "source": [
    "iom_adm3_data = iom_data_filt.merge(iom_adm3_map.loc[:,('LocationID','ADM3_EN')],how='left',\n",
    "                                    on='LocationID')\n",
    "print(iom_data_filt.shape)\n",
    "print(iom_adm3_data.shape)"
   ]
  },
  {
   "cell_type": "code",
   "execution_count": 26,
   "metadata": {},
   "outputs": [],
   "source": [
    "# to aggregate, want to take the max of all fields except for iom_no_isil_action, which we want to take the\n",
    "# min of - if any part of the adm3 area had isil action, we don't want to flag it as not having any action\n",
    "iom_adm3_data_for_min = iom_adm3_data.loc[:,('ADM3_EN','iom_no_isil_action')]\n",
    "iom_adm3_data_for_max = iom_adm3_data.drop(columns=['LocationID','iom_no_isil_action'])"
   ]
  },
  {
   "cell_type": "code",
   "execution_count": 27,
   "metadata": {},
   "outputs": [],
   "source": [
    "iom_adm3_data_max_gb = iom_adm3_data_for_max.groupby(['ADM3_EN']).max().reset_index()\n",
    "iom_adm3_data_min_gb = iom_adm3_data_for_min.groupby(['ADM3_EN']).min().reset_index()"
   ]
  },
  {
   "cell_type": "code",
   "execution_count": 28,
   "metadata": {},
   "outputs": [
    {
     "name": "stdout",
     "output_type": "stream",
     "text": [
      "(215, 8)\n",
      "(215, 2)\n",
      "(215, 9)\n"
     ]
    }
   ],
   "source": [
    "iom_adm3_data_fin = iom_adm3_data_max_gb.merge(iom_adm3_data_min_gb,how='outer',\n",
    "                                               on='ADM3_EN')\n",
    "print(iom_adm3_data_max_gb.shape)\n",
    "print(iom_adm3_data_min_gb.shape)\n",
    "print(iom_adm3_data_fin.shape)"
   ]
  },
  {
   "cell_type": "code",
   "execution_count": 29,
   "metadata": {},
   "outputs": [
    {
     "name": "stdout",
     "output_type": "stream",
     "text": [
      "(77616, 11)\n",
      "(77616, 19)\n"
     ]
    }
   ],
   "source": [
    "# add IOM data to full dataset\n",
    "print(adm3_iraq_data.shape)\n",
    "adm3_iraq_data = adm3_iraq_data.merge(iom_adm3_data_fin, how='outer',\n",
    "                                      on='ADM3_EN')\n",
    "print(adm3_iraq_data.shape)"
   ]
  },
  {
   "cell_type": "code",
   "execution_count": 30,
   "metadata": {},
   "outputs": [
    {
     "data": {
      "text/plain": [
       "79"
      ]
     },
     "execution_count": 30,
     "metadata": {},
     "output_type": "execute_result"
    }
   ],
   "source": [
    "# identify number of Adm3 areas with no IOM data\n",
    "len(adm3_iraq_data[adm3_iraq_data['iom_occupied'].isna()].ADM3_EN.unique())"
   ]
  },
  {
   "cell_type": "code",
   "execution_count": 32,
   "metadata": {},
   "outputs": [
    {
     "data": {
      "text/html": [
       "<div>\n",
       "<style scoped>\n",
       "    .dataframe tbody tr th:only-of-type {\n",
       "        vertical-align: middle;\n",
       "    }\n",
       "\n",
       "    .dataframe tbody tr th {\n",
       "        vertical-align: top;\n",
       "    }\n",
       "\n",
       "    .dataframe thead th {\n",
       "        text-align: right;\n",
       "    }\n",
       "</style>\n",
       "<table border=\"1\" class=\"dataframe\">\n",
       "  <thead>\n",
       "    <tr style=\"text-align: right;\">\n",
       "      <th></th>\n",
       "      <th>ADM3_EN</th>\n",
       "      <th>date</th>\n",
       "      <th>mean_evi</th>\n",
       "      <th>mean_evi_scaled</th>\n",
       "      <th>max_evi</th>\n",
       "      <th>max_evi_scaled</th>\n",
       "      <th>ACTION_IND</th>\n",
       "      <th>ACTION_DIR</th>\n",
       "      <th>ACTION_PRT</th>\n",
       "      <th>pop_count</th>\n",
       "      <th>pop_density</th>\n",
       "      <th>disputed_area</th>\n",
       "      <th>iom_attacked</th>\n",
       "      <th>iom_occupied</th>\n",
       "      <th>isil_ingroup_prior</th>\n",
       "      <th>isil_ingroup_curr</th>\n",
       "      <th>retaken_year</th>\n",
       "      <th>retaken_post_2016</th>\n",
       "      <th>iom_no_isil_action</th>\n",
       "    </tr>\n",
       "  </thead>\n",
       "  <tbody>\n",
       "  </tbody>\n",
       "</table>\n",
       "</div>"
      ],
      "text/plain": [
       "Empty DataFrame\n",
       "Columns: [ADM3_EN, date, mean_evi, mean_evi_scaled, max_evi, max_evi_scaled, ACTION_IND, ACTION_DIR, ACTION_PRT, pop_count, pop_density, disputed_area, iom_attacked, iom_occupied, isil_ingroup_prior, isil_ingroup_curr, retaken_year, retaken_post_2016, iom_no_isil_action]\n",
       "Index: []"
      ]
     },
     "execution_count": 32,
     "metadata": {},
     "output_type": "execute_result"
    }
   ],
   "source": [
    "adm3_iraq_data[adm3_iraq_data.duplicated(subset=['ADM3_EN','date'],keep=False)]"
   ]
  },
  {
   "cell_type": "code",
   "execution_count": 37,
   "metadata": {},
   "outputs": [
    {
     "name": "stdout",
     "output_type": "stream",
     "text": [
      "(77616, 22)\n"
     ]
    },
    {
     "data": {
      "text/html": [
       "<div>\n",
       "<style scoped>\n",
       "    .dataframe tbody tr th:only-of-type {\n",
       "        vertical-align: middle;\n",
       "    }\n",
       "\n",
       "    .dataframe tbody tr th {\n",
       "        vertical-align: top;\n",
       "    }\n",
       "\n",
       "    .dataframe thead th {\n",
       "        text-align: right;\n",
       "    }\n",
       "</style>\n",
       "<table border=\"1\" class=\"dataframe\">\n",
       "  <thead>\n",
       "    <tr style=\"text-align: right;\">\n",
       "      <th></th>\n",
       "      <th>ADM3_EN</th>\n",
       "      <th>date</th>\n",
       "      <th>mean_evi</th>\n",
       "      <th>mean_evi_scaled</th>\n",
       "      <th>max_evi</th>\n",
       "      <th>max_evi_scaled</th>\n",
       "      <th>ACTION_IND</th>\n",
       "      <th>ACTION_DIR</th>\n",
       "      <th>ACTION_PRT</th>\n",
       "      <th>pop_count</th>\n",
       "      <th>...</th>\n",
       "      <th>iom_attacked</th>\n",
       "      <th>iom_occupied</th>\n",
       "      <th>isil_ingroup_prior</th>\n",
       "      <th>isil_ingroup_curr</th>\n",
       "      <th>retaken_year</th>\n",
       "      <th>retaken_post_2016</th>\n",
       "      <th>iom_no_isil_action</th>\n",
       "      <th>sunni_dom</th>\n",
       "      <th>sunni_mix</th>\n",
       "      <th>no_sunni</th>\n",
       "    </tr>\n",
       "  </thead>\n",
       "  <tbody>\n",
       "  </tbody>\n",
       "</table>\n",
       "<p>0 rows × 22 columns</p>\n",
       "</div>"
      ],
      "text/plain": [
       "Empty DataFrame\n",
       "Columns: [ADM3_EN, date, mean_evi, mean_evi_scaled, max_evi, max_evi_scaled, ACTION_IND, ACTION_DIR, ACTION_PRT, pop_count, pop_density, disputed_area, iom_attacked, iom_occupied, isil_ingroup_prior, isil_ingroup_curr, retaken_year, retaken_post_2016, iom_no_isil_action, sunni_dom, sunni_mix, no_sunni]\n",
       "Index: []\n",
       "\n",
       "[0 rows x 22 columns]"
      ]
     },
     "execution_count": 37,
     "metadata": {},
     "output_type": "execute_result"
    }
   ],
   "source": [
    "# add in GeoEPR data\n",
    "adm3_sunni_eth = adm3_sunni_eth.drop(columns=['ADM3_PCODE']) \n",
    "adm3_iraq_data = adm3_iraq_data.merge(adm3_sunni_eth, on=['ADM3_EN'],how='left')\n",
    "print(adm3_iraq_data.shape)\n",
    "adm3_iraq_data[adm3_iraq_data.duplicated(subset=['ADM3_EN','date'],keep=False)]"
   ]
  },
  {
   "cell_type": "code",
   "execution_count": 38,
   "metadata": {},
   "outputs": [
    {
     "data": {
      "text/html": [
       "<div>\n",
       "<style scoped>\n",
       "    .dataframe tbody tr th:only-of-type {\n",
       "        vertical-align: middle;\n",
       "    }\n",
       "\n",
       "    .dataframe tbody tr th {\n",
       "        vertical-align: top;\n",
       "    }\n",
       "\n",
       "    .dataframe thead th {\n",
       "        text-align: right;\n",
       "    }\n",
       "</style>\n",
       "<table border=\"1\" class=\"dataframe\">\n",
       "  <thead>\n",
       "    <tr style=\"text-align: right;\">\n",
       "      <th></th>\n",
       "      <th>ADM3_EN</th>\n",
       "      <th>date</th>\n",
       "      <th>mean_evi</th>\n",
       "      <th>mean_evi_scaled</th>\n",
       "      <th>max_evi</th>\n",
       "      <th>max_evi_scaled</th>\n",
       "      <th>ACTION_IND</th>\n",
       "      <th>ACTION_DIR</th>\n",
       "      <th>ACTION_PRT</th>\n",
       "      <th>pop_count</th>\n",
       "      <th>...</th>\n",
       "      <th>iom_attacked</th>\n",
       "      <th>iom_occupied</th>\n",
       "      <th>isil_ingroup_prior</th>\n",
       "      <th>isil_ingroup_curr</th>\n",
       "      <th>retaken_year</th>\n",
       "      <th>retaken_post_2016</th>\n",
       "      <th>iom_no_isil_action</th>\n",
       "      <th>sunni_dom</th>\n",
       "      <th>sunni_mix</th>\n",
       "      <th>no_sunni</th>\n",
       "    </tr>\n",
       "  </thead>\n",
       "  <tbody>\n",
       "    <tr>\n",
       "      <th>0</th>\n",
       "      <td>Abi Gharaq</td>\n",
       "      <td>2001-01-31</td>\n",
       "      <td>2886.373490</td>\n",
       "      <td>0.288637</td>\n",
       "      <td>5416.0</td>\n",
       "      <td>0.5416</td>\n",
       "      <td>0.0</td>\n",
       "      <td>0.0</td>\n",
       "      <td>0.0</td>\n",
       "      <td>137199.66</td>\n",
       "      <td>...</td>\n",
       "      <td>0.0</td>\n",
       "      <td>0.0</td>\n",
       "      <td>0.0</td>\n",
       "      <td>0.0</td>\n",
       "      <td>NaN</td>\n",
       "      <td>NaN</td>\n",
       "      <td>1.0</td>\n",
       "      <td>0</td>\n",
       "      <td>0</td>\n",
       "      <td>1</td>\n",
       "    </tr>\n",
       "    <tr>\n",
       "      <th>1</th>\n",
       "      <td>Abi Gharaq</td>\n",
       "      <td>2001-02-28</td>\n",
       "      <td>3094.206464</td>\n",
       "      <td>0.309421</td>\n",
       "      <td>6291.0</td>\n",
       "      <td>0.6291</td>\n",
       "      <td>0.0</td>\n",
       "      <td>0.0</td>\n",
       "      <td>0.0</td>\n",
       "      <td>137199.66</td>\n",
       "      <td>...</td>\n",
       "      <td>0.0</td>\n",
       "      <td>0.0</td>\n",
       "      <td>0.0</td>\n",
       "      <td>0.0</td>\n",
       "      <td>NaN</td>\n",
       "      <td>NaN</td>\n",
       "      <td>1.0</td>\n",
       "      <td>0</td>\n",
       "      <td>0</td>\n",
       "      <td>1</td>\n",
       "    </tr>\n",
       "  </tbody>\n",
       "</table>\n",
       "<p>2 rows × 22 columns</p>\n",
       "</div>"
      ],
      "text/plain": [
       "      ADM3_EN       date     mean_evi  mean_evi_scaled  max_evi  \\\n",
       "0  Abi Gharaq 2001-01-31  2886.373490         0.288637   5416.0   \n",
       "1  Abi Gharaq 2001-02-28  3094.206464         0.309421   6291.0   \n",
       "\n",
       "   max_evi_scaled  ACTION_IND  ACTION_DIR  ACTION_PRT  pop_count  ...  \\\n",
       "0          0.5416         0.0         0.0         0.0  137199.66  ...   \n",
       "1          0.6291         0.0         0.0         0.0  137199.66  ...   \n",
       "\n",
       "   iom_attacked  iom_occupied  isil_ingroup_prior  isil_ingroup_curr  \\\n",
       "0           0.0           0.0                 0.0                0.0   \n",
       "1           0.0           0.0                 0.0                0.0   \n",
       "\n",
       "   retaken_year  retaken_post_2016  iom_no_isil_action  sunni_dom  sunni_mix  \\\n",
       "0           NaN                NaN                 1.0          0          0   \n",
       "1           NaN                NaN                 1.0          0          0   \n",
       "\n",
       "   no_sunni  \n",
       "0         1  \n",
       "1         1  \n",
       "\n",
       "[2 rows x 22 columns]"
      ]
     },
     "execution_count": 38,
     "metadata": {},
     "output_type": "execute_result"
    }
   ],
   "source": [
    "adm3_iraq_data.head(2)"
   ]
  },
  {
   "cell_type": "code",
   "execution_count": 40,
   "metadata": {},
   "outputs": [
    {
     "name": "stdout",
     "output_type": "stream",
     "text": [
      "(77616, 22)\n",
      "(77616, 32)\n"
     ]
    }
   ],
   "source": [
    "# attach Adm3 geometries and parent areas to final dataset\n",
    "iraq_shp_adm3_filt = iraq_shp_adm3.loc[:,('Shape_Area', 'ADM3_EN', 'ADM3_AR', 'ADM3_PCODE',\n",
    "       'ADM2_EN', 'ADM2_AR', 'ADM2_PCODE', 'ADM1_EN', 'ADM1_AR', 'ADM1_PCODE',\n",
    "       'geometry')]\n",
    "print(adm3_iraq_data.shape)\n",
    "adm3_iraq_data_fin = adm3_iraq_data.merge(iraq_shp_adm3_filt, how='left',\n",
    "                                          on='ADM3_EN')\n",
    "adm3_iraq_data_fin = adm3_iraq_data_fin.rename(columns={'date':'month'})\n",
    "print(adm3_iraq_data_fin.shape)"
   ]
  },
  {
   "cell_type": "code",
   "execution_count": 41,
   "metadata": {},
   "outputs": [
    {
     "data": {
      "text/html": [
       "<div>\n",
       "<style scoped>\n",
       "    .dataframe tbody tr th:only-of-type {\n",
       "        vertical-align: middle;\n",
       "    }\n",
       "\n",
       "    .dataframe tbody tr th {\n",
       "        vertical-align: top;\n",
       "    }\n",
       "\n",
       "    .dataframe thead th {\n",
       "        text-align: right;\n",
       "    }\n",
       "</style>\n",
       "<table border=\"1\" class=\"dataframe\">\n",
       "  <thead>\n",
       "    <tr style=\"text-align: right;\">\n",
       "      <th></th>\n",
       "      <th>ADM3_EN</th>\n",
       "      <th>month</th>\n",
       "      <th>mean_evi</th>\n",
       "      <th>mean_evi_scaled</th>\n",
       "      <th>max_evi</th>\n",
       "      <th>max_evi_scaled</th>\n",
       "      <th>ACTION_IND</th>\n",
       "      <th>ACTION_DIR</th>\n",
       "      <th>ACTION_PRT</th>\n",
       "      <th>pop_count</th>\n",
       "      <th>...</th>\n",
       "      <th>Shape_Area</th>\n",
       "      <th>ADM3_AR</th>\n",
       "      <th>ADM3_PCODE</th>\n",
       "      <th>ADM2_EN</th>\n",
       "      <th>ADM2_AR</th>\n",
       "      <th>ADM2_PCODE</th>\n",
       "      <th>ADM1_EN</th>\n",
       "      <th>ADM1_AR</th>\n",
       "      <th>ADM1_PCODE</th>\n",
       "      <th>geometry</th>\n",
       "    </tr>\n",
       "  </thead>\n",
       "  <tbody>\n",
       "  </tbody>\n",
       "</table>\n",
       "<p>0 rows × 32 columns</p>\n",
       "</div>"
      ],
      "text/plain": [
       "Empty DataFrame\n",
       "Columns: [ADM3_EN, month, mean_evi, mean_evi_scaled, max_evi, max_evi_scaled, ACTION_IND, ACTION_DIR, ACTION_PRT, pop_count, pop_density, disputed_area, iom_attacked, iom_occupied, isil_ingroup_prior, isil_ingroup_curr, retaken_year, retaken_post_2016, iom_no_isil_action, sunni_dom, sunni_mix, no_sunni, Shape_Area, ADM3_AR, ADM3_PCODE, ADM2_EN, ADM2_AR, ADM2_PCODE, ADM1_EN, ADM1_AR, ADM1_PCODE, geometry]\n",
       "Index: []\n",
       "\n",
       "[0 rows x 32 columns]"
      ]
     },
     "execution_count": 41,
     "metadata": {},
     "output_type": "execute_result"
    }
   ],
   "source": [
    "adm3_iraq_data_fin[adm3_iraq_data_fin.duplicated(subset=['month','ADM3_EN'],keep=False)]"
   ]
  },
  {
   "cell_type": "code",
   "execution_count": 42,
   "metadata": {},
   "outputs": [],
   "source": [
    "monthly_adm3_geo_file = source_dir + '/data/combined/monthly_adm3_data.geojson'\n",
    "adm3_iraq_data_fin_gpd = gpd.GeoDataFrame(adm3_iraq_data_fin,geometry=adm3_iraq_data_fin['geometry'])\n",
    "adm3_iraq_data_fin_gpd.to_file(monthly_adm3_geo_file,driver='GeoJSON')"
   ]
  },
  {
   "cell_type": "code",
   "execution_count": 43,
   "metadata": {},
   "outputs": [],
   "source": [
    "monthly_adm3_file = source_dir + '/data/combined/monthly_adm3_data.csv'\n",
    "adm3_iraq_data_fin.drop(columns=['geometry']).to_csv(monthly_adm3_file,index=False,\n",
    "                                                     encoding='utf-8-sig')"
   ]
  },
  {
   "cell_type": "code",
   "execution_count": null,
   "metadata": {},
   "outputs": [],
   "source": []
  }
 ],
 "metadata": {
  "kernelspec": {
   "display_name": "iraq_postconflict",
   "language": "python",
   "name": "python3"
  },
  "language_info": {
   "codemirror_mode": {
    "name": "ipython",
    "version": 3
   },
   "file_extension": ".py",
   "mimetype": "text/x-python",
   "name": "python",
   "nbconvert_exporter": "python",
   "pygments_lexer": "ipython3",
   "version": "3.9.16"
  }
 },
 "nbformat": 4,
 "nbformat_minor": 2
}
