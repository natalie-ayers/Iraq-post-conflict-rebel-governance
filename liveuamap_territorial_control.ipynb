{
 "cells": [
  {
   "cell_type": "code",
   "execution_count": 1,
   "metadata": {},
   "outputs": [],
   "source": [
    "import pandas as pd\n",
    "import geopandas as gpd\n",
    "import numpy as np\n",
    "import os\n",
    "import re\n",
    "import shapely"
   ]
  },
  {
   "cell_type": "code",
   "execution_count": 2,
   "metadata": {},
   "outputs": [],
   "source": [
    "source_dir = '/mnt/c/Users/natra/Documents/Research/Iraq-post-conflict-rebel-governance'\n",
    "iraq_shp_adm3_loc = source_dir + '/data/geo_boundaries/irq-administrative-divisions-shapefiles/irq_admbnda_adm3_cso_20190603.shp'\n",
    "iraq_shp_adm0_loc = source_dir + '/data/geo_boundaries/irq-administrative-divisions-shapefiles/irq_admbnda_adm0_cso_itos_20190603.shp'\n",
    "\n",
    "liveuamap_polygons_loc = source_dir + '/data/liveuamap/arcgis_raw_shapefiles/liveuamap_polygon_merge_2014_2023.shp'"
   ]
  },
  {
   "cell_type": "code",
   "execution_count": 3,
   "metadata": {},
   "outputs": [],
   "source": [
    "iraq_shp_adm3 = gpd.read_file(iraq_shp_adm3_loc)\n",
    "iraq_shp_adm0 = gpd.read_file(iraq_shp_adm0_loc)\n",
    "\n",
    "liveuamap_polygons = gpd.read_file(liveuamap_polygons_loc)"
   ]
  },
  {
   "cell_type": "code",
   "execution_count": 4,
   "metadata": {},
   "outputs": [
    {
     "name": "stdout",
     "output_type": "stream",
     "text": [
      "EPSG:4326\n",
      "(4864, 13)\n",
      "(986, 15)\n"
     ]
    },
    {
     "data": {
      "text/html": [
       "<div>\n",
       "<style scoped>\n",
       "    .dataframe tbody tr th:only-of-type {\n",
       "        vertical-align: middle;\n",
       "    }\n",
       "\n",
       "    .dataframe tbody tr th {\n",
       "        vertical-align: top;\n",
       "    }\n",
       "\n",
       "    .dataframe thead th {\n",
       "        text-align: right;\n",
       "    }\n",
       "</style>\n",
       "<table border=\"1\" class=\"dataframe\">\n",
       "  <thead>\n",
       "    <tr style=\"text-align: right;\">\n",
       "      <th></th>\n",
       "      <th>Name</th>\n",
       "      <th>FolderPath</th>\n",
       "      <th>SymbolID</th>\n",
       "      <th>AltMode</th>\n",
       "      <th>Base</th>\n",
       "      <th>Clamped</th>\n",
       "      <th>Extruded</th>\n",
       "      <th>Snippet</th>\n",
       "      <th>PopupInfo</th>\n",
       "      <th>MERGE_SRC</th>\n",
       "      <th>Shape_Leng</th>\n",
       "      <th>Shape_Area</th>\n",
       "      <th>geometry</th>\n",
       "      <th>index_right</th>\n",
       "      <th>ADM0_EN</th>\n",
       "    </tr>\n",
       "  </thead>\n",
       "  <tbody>\n",
       "    <tr>\n",
       "      <th>0</th>\n",
       "      <td>ISIS</td>\n",
       "      <td>Document</td>\n",
       "      <td>0</td>\n",
       "      <td>0</td>\n",
       "      <td>0.0</td>\n",
       "      <td>-1</td>\n",
       "      <td>0</td>\n",
       "      <td>None</td>\n",
       "      <td>None</td>\n",
       "      <td>Batch Import 2024-10-11 153753\\liveuamap_2014_...</td>\n",
       "      <td>38.982594</td>\n",
       "      <td>6.547192</td>\n",
       "      <td>POLYGON Z ((37.1283 35.003 100, 37.06787 34.96...</td>\n",
       "      <td>0</td>\n",
       "      <td>Iraq</td>\n",
       "    </tr>\n",
       "    <tr>\n",
       "      <th>1</th>\n",
       "      <td>ISIS</td>\n",
       "      <td>Document</td>\n",
       "      <td>0</td>\n",
       "      <td>0</td>\n",
       "      <td>0.0</td>\n",
       "      <td>-1</td>\n",
       "      <td>0</td>\n",
       "      <td>None</td>\n",
       "      <td>None</td>\n",
       "      <td>Batch Import 2024-10-11 153753\\liveuamap_2014_...</td>\n",
       "      <td>59.965425</td>\n",
       "      <td>13.981443</td>\n",
       "      <td>POLYGON Z ((43.4132 33.36331 100, 43.4132 33.3...</td>\n",
       "      <td>0</td>\n",
       "      <td>Iraq</td>\n",
       "    </tr>\n",
       "    <tr>\n",
       "      <th>2</th>\n",
       "      <td>YPG</td>\n",
       "      <td>Document</td>\n",
       "      <td>1</td>\n",
       "      <td>0</td>\n",
       "      <td>0.0</td>\n",
       "      <td>-1</td>\n",
       "      <td>0</td>\n",
       "      <td>None</td>\n",
       "      <td>None</td>\n",
       "      <td>Batch Import 2024-10-11 153753\\liveuamap_2014_...</td>\n",
       "      <td>17.756051</td>\n",
       "      <td>6.210316</td>\n",
       "      <td>POLYGON Z ((45.55485 34.57228 100, 45.55485 34...</td>\n",
       "      <td>0</td>\n",
       "      <td>Iraq</td>\n",
       "    </tr>\n",
       "  </tbody>\n",
       "</table>\n",
       "</div>"
      ],
      "text/plain": [
       "   Name FolderPath  SymbolID  AltMode  Base  Clamped  Extruded Snippet  \\\n",
       "0  ISIS   Document         0        0   0.0       -1         0    None   \n",
       "1  ISIS   Document         0        0   0.0       -1         0    None   \n",
       "2   YPG   Document         1        0   0.0       -1         0    None   \n",
       "\n",
       "  PopupInfo                                          MERGE_SRC  Shape_Leng  \\\n",
       "0      None  Batch Import 2024-10-11 153753\\liveuamap_2014_...   38.982594   \n",
       "1      None  Batch Import 2024-10-11 153753\\liveuamap_2014_...   59.965425   \n",
       "2      None  Batch Import 2024-10-11 153753\\liveuamap_2014_...   17.756051   \n",
       "\n",
       "   Shape_Area                                           geometry  index_right  \\\n",
       "0    6.547192  POLYGON Z ((37.1283 35.003 100, 37.06787 34.96...            0   \n",
       "1   13.981443  POLYGON Z ((43.4132 33.36331 100, 43.4132 33.3...            0   \n",
       "2    6.210316  POLYGON Z ((45.55485 34.57228 100, 45.55485 34...            0   \n",
       "\n",
       "  ADM0_EN  \n",
       "0    Iraq  \n",
       "1    Iraq  \n",
       "2    Iraq  "
      ]
     },
     "execution_count": 4,
     "metadata": {},
     "output_type": "execute_result"
    }
   ],
   "source": [
    "iraq_shp_adm0_simp = iraq_shp_adm0.loc[:,('ADM0_EN','geometry')]\n",
    "\n",
    "liveuamap_polygons_4326 = liveuamap_polygons.to_crs('epsg:4326')\n",
    "print(liveuamap_polygons_4326.crs)\n",
    "liveuamap_iraq = liveuamap_polygons_4326.sjoin(iraq_shp_adm0_simp)\n",
    "print(liveuamap_polygons_4326.shape)\n",
    "print(liveuamap_iraq.shape)\n",
    "liveuamap_iraq.head(3)"
   ]
  },
  {
   "cell_type": "code",
   "execution_count": 133,
   "metadata": {},
   "outputs": [],
   "source": [
    "liveuamap_iraq_clean = liveuamap_iraq.drop(columns=['SymbolID','AltMode','Base','Clamped','Extruded',\n",
    "                                                    'Snippet','PopupInfo','ADM0_EN','index_right',\n",
    "                                                    'FolderPath'])\n",
    "# trim down the MERGE_SRC field to remove excess information\n",
    "liveuamap_iraq_clean.loc[:,'temp_str'] = liveuamap_iraq_clean['MERGE_SRC'].str.split(\"\\\\\",expand=True)[1].str.split(\" \",expand=True)[0]\n",
    "# parse the date from the name of the file in MERGE_SRC\n",
    "liveuamap_iraq_clean.loc[:,'date_str'] = liveuamap_iraq_clean['temp_str'].str.extract(r\"(20\\d\\d\\_\\d\\d\\_01)\",expand=False)\n",
    "\n",
    "\n",
    "liveuamap_iraq_clean.loc[:,'date_dt'] = pd.to_datetime(liveuamap_iraq_clean.loc[:,'date_str'],\n",
    "                                                       format='%Y_%m_%d')\n",
    "\n",
    "name_dict = {'ISIS':'isis','isis_syria':'isis','isis_iraq':'isis',\n",
    "             'kurds':'kurds','kurds_iraq':'kurds'}\n",
    "\n",
    "liveuamap_iraq_clean.loc[:,'control_agent'] = liveuamap_iraq_clean['Name'].map(name_dict)\n",
    "liveuamap_iraq_clean.loc[:,'control_agent'] = np.where(liveuamap_iraq_clean['control_agent'].isna(),\n",
    "                                                       liveuamap_iraq_clean['Name'],\n",
    "                                                       liveuamap_iraq_clean['control_agent'])\n",
    "\n",
    "liveuamap_iraq_clean.loc[:,'geometry'] = liveuamap_iraq_clean.force_2d()\n",
    "\n",
    "liveuamap_iraq_clean = liveuamap_iraq_clean.drop(columns=['MERGE_SRC','date_str','temp_str',\n",
    "                                                          'Shape_Leng','Shape_Area','Name'])\n",
    "\n",
    "# drop duplicates in Liveuamap data - see below\n",
    "#liveuamap_iraq_clean = liveuamap_iraq_clean.drop_duplicates()"
   ]
  },
  {
   "cell_type": "code",
   "execution_count": 142,
   "metadata": {},
   "outputs": [],
   "source": [
    "# some invalid geometries, as denoted by failed dissolving\n",
    "invalid_geoms = liveuamap_iraq_clean[~liveuamap_iraq_clean.geometry.is_valid]\n",
    "invalid_geoms.loc[:,'geometry'] = invalid_geoms.make_valid()"
   ]
  },
  {
   "cell_type": "code",
   "execution_count": 143,
   "metadata": {},
   "outputs": [
    {
     "name": "stdout",
     "output_type": "stream",
     "text": [
      "(986, 3)\n",
      "(986, 3)\n"
     ]
    }
   ],
   "source": [
    "print(liveuamap_iraq_clean.shape)\n",
    "liveuamap_iraq_todissolve = pd.concat([liveuamap_iraq_clean[liveuamap_iraq_clean.geometry.is_valid],invalid_geoms])\n",
    "print(liveuamap_iraq_todissolve.shape)\n"
   ]
  },
  {
   "cell_type": "code",
   "execution_count": 145,
   "metadata": {},
   "outputs": [],
   "source": [
    "# there are a number of duplicates and overlapping areas in the Liveuamap data - complicated to try to drop manually,\n",
    "# so will dissolve the areas together by date and control_agent\n",
    "\n",
    "liveuamap_iraq_diss = liveuamap_iraq_todissolve.dissolve(by=['date_dt','control_agent'],\n",
    "                                                     as_index=False)"
   ]
  },
  {
   "cell_type": "code",
   "execution_count": 146,
   "metadata": {},
   "outputs": [
    {
     "name": "stdout",
     "output_type": "stream",
     "text": [
      "(379, 3)\n"
     ]
    },
    {
     "data": {
      "text/html": [
       "<div>\n",
       "<style scoped>\n",
       "    .dataframe tbody tr th:only-of-type {\n",
       "        vertical-align: middle;\n",
       "    }\n",
       "\n",
       "    .dataframe tbody tr th {\n",
       "        vertical-align: top;\n",
       "    }\n",
       "\n",
       "    .dataframe thead th {\n",
       "        text-align: right;\n",
       "    }\n",
       "</style>\n",
       "<table border=\"1\" class=\"dataframe\">\n",
       "  <thead>\n",
       "    <tr style=\"text-align: right;\">\n",
       "      <th></th>\n",
       "      <th>date_dt</th>\n",
       "      <th>control_agent</th>\n",
       "      <th>geometry</th>\n",
       "    </tr>\n",
       "  </thead>\n",
       "  <tbody>\n",
       "    <tr>\n",
       "      <th>0</th>\n",
       "      <td>2014-10-01</td>\n",
       "      <td>isis</td>\n",
       "      <td>POLYGON ((37.06787 34.967, 37.00195 35.0075, 3...</td>\n",
       "    </tr>\n",
       "    <tr>\n",
       "      <th>1</th>\n",
       "      <td>2014-11-01</td>\n",
       "      <td>YPG</td>\n",
       "      <td>POLYGON ((45.53603 34.52519, 45.47032 34.44563...</td>\n",
       "    </tr>\n",
       "    <tr>\n",
       "      <th>2</th>\n",
       "      <td>2014-11-01</td>\n",
       "      <td>isis</td>\n",
       "      <td>POLYGON ((43.48437 33.41244, 43.54205 33.38773...</td>\n",
       "    </tr>\n",
       "    <tr>\n",
       "      <th>3</th>\n",
       "      <td>2014-12-01</td>\n",
       "      <td>isis</td>\n",
       "      <td>POLYGON ((43.48437 33.41244, 43.54205 33.38773...</td>\n",
       "    </tr>\n",
       "    <tr>\n",
       "      <th>4</th>\n",
       "      <td>2015-01-01</td>\n",
       "      <td>isis</td>\n",
       "      <td>POLYGON ((40.20584 32.99317, 40.1825 32.99945,...</td>\n",
       "    </tr>\n",
       "  </tbody>\n",
       "</table>\n",
       "</div>"
      ],
      "text/plain": [
       "     date_dt control_agent                                           geometry\n",
       "0 2014-10-01          isis  POLYGON ((37.06787 34.967, 37.00195 35.0075, 3...\n",
       "1 2014-11-01           YPG  POLYGON ((45.53603 34.52519, 45.47032 34.44563...\n",
       "2 2014-11-01          isis  POLYGON ((43.48437 33.41244, 43.54205 33.38773...\n",
       "3 2014-12-01          isis  POLYGON ((43.48437 33.41244, 43.54205 33.38773...\n",
       "4 2015-01-01          isis  POLYGON ((40.20584 32.99317, 40.1825 32.99945,..."
      ]
     },
     "execution_count": 146,
     "metadata": {},
     "output_type": "execute_result"
    }
   ],
   "source": [
    "print(liveuamap_iraq_diss.shape)\n",
    "liveuamap_iraq_diss.head()"
   ]
  },
  {
   "cell_type": "code",
   "execution_count": 131,
   "metadata": {},
   "outputs": [
    {
     "data": {
      "text/html": [
       "<div>\n",
       "<style scoped>\n",
       "    .dataframe tbody tr th:only-of-type {\n",
       "        vertical-align: middle;\n",
       "    }\n",
       "\n",
       "    .dataframe tbody tr th {\n",
       "        vertical-align: top;\n",
       "    }\n",
       "\n",
       "    .dataframe thead th {\n",
       "        text-align: right;\n",
       "    }\n",
       "</style>\n",
       "<table border=\"1\" class=\"dataframe\">\n",
       "  <thead>\n",
       "    <tr style=\"text-align: right;\">\n",
       "      <th></th>\n",
       "      <th>Name</th>\n",
       "      <th>Shape_Leng</th>\n",
       "      <th>Shape_Area</th>\n",
       "      <th>geometry</th>\n",
       "      <th>date_dt</th>\n",
       "      <th>control_agent</th>\n",
       "    </tr>\n",
       "  </thead>\n",
       "  <tbody>\n",
       "    <tr>\n",
       "      <th>1044</th>\n",
       "      <td>isis_syria</td>\n",
       "      <td>47.062091</td>\n",
       "      <td>14.874140</td>\n",
       "      <td>POLYGON ((37.52059 32.71156, 37.52059 32.71156...</td>\n",
       "      <td>2016-10-01</td>\n",
       "      <td>isis</td>\n",
       "    </tr>\n",
       "    <tr>\n",
       "      <th>1045</th>\n",
       "      <td>isis_syria</td>\n",
       "      <td>0.404237</td>\n",
       "      <td>0.000916</td>\n",
       "      <td>POLYGON ((41.38404 36.48442, 41.38404 36.48442...</td>\n",
       "      <td>2016-10-01</td>\n",
       "      <td>isis</td>\n",
       "    </tr>\n",
       "    <tr>\n",
       "      <th>1053</th>\n",
       "      <td>isis_syria</td>\n",
       "      <td>0.291536</td>\n",
       "      <td>0.005260</td>\n",
       "      <td>POLYGON ((43.78052 34.20144, 43.78 34.19831, 4...</td>\n",
       "      <td>2016-10-01</td>\n",
       "      <td>isis</td>\n",
       "    </tr>\n",
       "    <tr>\n",
       "      <th>1056</th>\n",
       "      <td>isis_syria</td>\n",
       "      <td>0.279520</td>\n",
       "      <td>0.005447</td>\n",
       "      <td>POLYGON ((43.35342 33.52938, 43.3239 33.53567,...</td>\n",
       "      <td>2016-10-01</td>\n",
       "      <td>isis</td>\n",
       "    </tr>\n",
       "    <tr>\n",
       "      <th>1060</th>\n",
       "      <td>isis_syria</td>\n",
       "      <td>0.157881</td>\n",
       "      <td>0.001615</td>\n",
       "      <td>POLYGON ((44.8376 33.97924, 44.83949 33.96856,...</td>\n",
       "      <td>2016-10-01</td>\n",
       "      <td>isis</td>\n",
       "    </tr>\n",
       "    <tr>\n",
       "      <th>1064</th>\n",
       "      <td>isis_syria</td>\n",
       "      <td>4.900075</td>\n",
       "      <td>1.096529</td>\n",
       "      <td>POLYGON ((41.87877 36.27609, 41.88879 36.28277...</td>\n",
       "      <td>2016-10-01</td>\n",
       "      <td>isis</td>\n",
       "    </tr>\n",
       "    <tr>\n",
       "      <th>1067</th>\n",
       "      <td>isis_syria</td>\n",
       "      <td>1.591974</td>\n",
       "      <td>0.029896</td>\n",
       "      <td>POLYGON ((43.46865 33.49721, 43.48308 33.49526...</td>\n",
       "      <td>2016-10-01</td>\n",
       "      <td>isis</td>\n",
       "    </tr>\n",
       "    <tr>\n",
       "      <th>1075</th>\n",
       "      <td>isis_syria</td>\n",
       "      <td>0.352742</td>\n",
       "      <td>0.008100</td>\n",
       "      <td>POLYGON ((43.42003 34.72835, 43.45779 34.73484...</td>\n",
       "      <td>2016-10-01</td>\n",
       "      <td>isis</td>\n",
       "    </tr>\n",
       "  </tbody>\n",
       "</table>\n",
       "</div>"
      ],
      "text/plain": [
       "            Name  Shape_Leng  Shape_Area  \\\n",
       "1044  isis_syria   47.062091   14.874140   \n",
       "1045  isis_syria    0.404237    0.000916   \n",
       "1053  isis_syria    0.291536    0.005260   \n",
       "1056  isis_syria    0.279520    0.005447   \n",
       "1060  isis_syria    0.157881    0.001615   \n",
       "1064  isis_syria    4.900075    1.096529   \n",
       "1067  isis_syria    1.591974    0.029896   \n",
       "1075  isis_syria    0.352742    0.008100   \n",
       "\n",
       "                                               geometry    date_dt  \\\n",
       "1044  POLYGON ((37.52059 32.71156, 37.52059 32.71156... 2016-10-01   \n",
       "1045  POLYGON ((41.38404 36.48442, 41.38404 36.48442... 2016-10-01   \n",
       "1053  POLYGON ((43.78052 34.20144, 43.78 34.19831, 4... 2016-10-01   \n",
       "1056  POLYGON ((43.35342 33.52938, 43.3239 33.53567,... 2016-10-01   \n",
       "1060  POLYGON ((44.8376 33.97924, 44.83949 33.96856,... 2016-10-01   \n",
       "1064  POLYGON ((41.87877 36.27609, 41.88879 36.28277... 2016-10-01   \n",
       "1067  POLYGON ((43.46865 33.49721, 43.48308 33.49526... 2016-10-01   \n",
       "1075  POLYGON ((43.42003 34.72835, 43.45779 34.73484... 2016-10-01   \n",
       "\n",
       "     control_agent  \n",
       "1044          isis  \n",
       "1045          isis  \n",
       "1053          isis  \n",
       "1056          isis  \n",
       "1060          isis  \n",
       "1064          isis  \n",
       "1067          isis  \n",
       "1075          isis  "
      ]
     },
     "execution_count": 131,
     "metadata": {},
     "output_type": "execute_result"
    }
   ],
   "source": [
    "# example of area that overlaps and causes duplicates below\n",
    "liveuamap_iraq_clean[(liveuamap_iraq_clean['date_dt']=='2016-10-01')&(liveuamap_iraq_clean['Name']=='isis_syria')]"
   ]
  },
  {
   "cell_type": "code",
   "execution_count": 130,
   "metadata": {},
   "outputs": [
    {
     "data": {
      "text/plain": [
       "<Axes: >"
      ]
     },
     "execution_count": 130,
     "metadata": {},
     "output_type": "execute_result"
    },
    {
     "data": {
      "image/png": "[encoded data removed]",
      "text/plain": [
       "<Figure size 640x480 with 2 Axes>"
      ]
     },
     "metadata": {},
     "output_type": "display_data"
    }
   ],
   "source": [
    "liveuamap_iraq_clean[(liveuamap_iraq_clean['date_dt']=='2016-10-01')&(liveuamap_iraq_clean['Name']=='isis_syria')].plot(column='Shape_Area',legend=True)"
   ]
  },
  {
   "cell_type": "markdown",
   "metadata": {},
   "source": [
    "**Note**: there are duplicates in the Liveuamap data, down to the geometries. For example, see indices [406, 413, 399] in the original dataframe. We dissolve the Liveuamap geometries by date and agent in control."
   ]
  },
  {
   "cell_type": "code",
   "execution_count": 147,
   "metadata": {},
   "outputs": [
    {
     "data": {
      "text/html": [
       "<div>\n",
       "<style scoped>\n",
       "    .dataframe tbody tr th:only-of-type {\n",
       "        vertical-align: middle;\n",
       "    }\n",
       "\n",
       "    .dataframe tbody tr th {\n",
       "        vertical-align: top;\n",
       "    }\n",
       "\n",
       "    .dataframe thead th {\n",
       "        text-align: right;\n",
       "    }\n",
       "</style>\n",
       "<table border=\"1\" class=\"dataframe\">\n",
       "  <thead>\n",
       "    <tr style=\"text-align: right;\">\n",
       "      <th></th>\n",
       "      <th>date_dt</th>\n",
       "      <th>control_agent</th>\n",
       "      <th>geometry</th>\n",
       "    </tr>\n",
       "  </thead>\n",
       "  <tbody>\n",
       "  </tbody>\n",
       "</table>\n",
       "</div>"
      ],
      "text/plain": [
       "Empty GeoDataFrame\n",
       "Columns: [date_dt, control_agent, geometry]\n",
       "Index: []"
      ]
     },
     "execution_count": 147,
     "metadata": {},
     "output_type": "execute_result"
    }
   ],
   "source": [
    "# to see records that will be dropped as duplicates\n",
    "liveuamap_iraq_diss[liveuamap_iraq_diss.duplicated(keep=False)]"
   ]
  },
  {
   "cell_type": "markdown",
   "metadata": {},
   "source": [
    "### First, simple spatial join\n",
    "This will give a complete list of all territorial control recorded in liveuamap in all adm3 areas, leaving out any calculations of percentage of each adm3 area controlled by each controlling agent. "
   ]
  },
  {
   "cell_type": "code",
   "execution_count": 148,
   "metadata": {},
   "outputs": [
    {
     "name": "stdout",
     "output_type": "stream",
     "text": [
      "294\n",
      "(379, 3)\n",
      "(32727, 5)\n",
      "111\n",
      "294\n"
     ]
    }
   ],
   "source": [
    "iraq_shp_adm3_simp = iraq_shp_adm3.loc[:,['ADM3_EN','geometry']]\n",
    "print(len(iraq_shp_adm3_simp['ADM3_EN'].unique()))\n",
    "liveuamap_iraq_adm3 = iraq_shp_adm3_simp.sjoin(liveuamap_iraq_diss)\n",
    "print(liveuamap_iraq_diss.shape)\n",
    "print(liveuamap_iraq_adm3.shape)\n",
    "print(len(liveuamap_iraq_adm3['date_dt'].unique()))\n",
    "print(len(liveuamap_iraq_adm3['ADM3_EN'].unique()))\n"
   ]
  },
  {
   "cell_type": "code",
   "execution_count": null,
   "metadata": {},
   "outputs": [],
   "source": [
    "# if want to test visualizing some duplicates without dropping duplicates from liveuamap data first, \n",
    "# perform the join and then run this code\n",
    "#test_dups = liveuamap_iraq_adm3[liveuamap_iraq_adm3.duplicated(subset=['ADM3_EN','date_dt','Name'],keep=False)]\n",
    "#test_indices = test_dups[(test_dups['ADM3_EN']=='Abu Ghraib')&(test_dups['Name']=='isis_syria')]['index_right']\n",
    "#print(list(test_indices))\n",
    "#test_map = liveuamap_iraq_clean[liveuamap_iraq_clean.index.isin(list(test_indices))]\n",
    "#test_map.loc[:,'col_col'] = pd.Series([1,2,3],index=[399,406,413])\n",
    "#test_map.sort_values(['col_col'],ascending=False).plot(column='col_col',legend=True)\n",
    "#test_map.plot(column='col_col',legend=True)"
   ]
  },
  {
   "cell_type": "code",
   "execution_count": 149,
   "metadata": {},
   "outputs": [],
   "source": [
    "liveuamap_iraq_adm3_full = liveuamap_iraq_adm3.drop(columns=['geometry','index_right'])\n",
    "\n",
    "liveuamap_iraq_adm3_full_joins_loc = source_dir + '/data/liveuamap/adm3_liveuamap_control_areas_monthly.csv'\n",
    "liveuamap_iraq_adm3_full.to_csv(liveuamap_iraq_adm3_full_joins_loc,index=False)"
   ]
  },
  {
   "cell_type": "code",
   "execution_count": 151,
   "metadata": {},
   "outputs": [
    {
     "data": {
      "text/html": [
       "<div>\n",
       "<style scoped>\n",
       "    .dataframe tbody tr th:only-of-type {\n",
       "        vertical-align: middle;\n",
       "    }\n",
       "\n",
       "    .dataframe tbody tr th {\n",
       "        vertical-align: top;\n",
       "    }\n",
       "\n",
       "    .dataframe thead th {\n",
       "        text-align: right;\n",
       "    }\n",
       "</style>\n",
       "<table border=\"1\" class=\"dataframe\">\n",
       "  <thead>\n",
       "    <tr style=\"text-align: right;\">\n",
       "      <th></th>\n",
       "      <th>ADM3_EN</th>\n",
       "      <th>geometry</th>\n",
       "      <th>index_right</th>\n",
       "      <th>date_dt</th>\n",
       "      <th>control_agent</th>\n",
       "    </tr>\n",
       "  </thead>\n",
       "  <tbody>\n",
       "  </tbody>\n",
       "</table>\n",
       "</div>"
      ],
      "text/plain": [
       "Empty GeoDataFrame\n",
       "Columns: [ADM3_EN, geometry, index_right, date_dt, control_agent]\n",
       "Index: []"
      ]
     },
     "execution_count": 151,
     "metadata": {},
     "output_type": "execute_result"
    }
   ],
   "source": [
    "# confirm no more duplicated geometries in the liveuamap data\n",
    "liveuamap_iraq_adm3[liveuamap_iraq_adm3.duplicated(subset=['ADM3_EN','date_dt','control_agent'],keep=False)].sort_values(['ADM3_EN','date_dt'])"
   ]
  },
  {
   "cell_type": "markdown",
   "metadata": {},
   "source": [
    "### Next, calculate area of overlap for each controlling agent in each adm3 area"
   ]
  },
  {
   "cell_type": "code",
   "execution_count": 152,
   "metadata": {},
   "outputs": [
    {
     "name": "stdout",
     "output_type": "stream",
     "text": [
      "(379, 3)\n",
      "(294, 2)\n",
      "(33084, 4)\n"
     ]
    },
    {
     "name": "stderr",
     "output_type": "stream",
     "text": [
      "/home/npodpx/.virtualenvs/iraq_postconflict/lib/python3.9/site-packages/geopandas/geodataframe.py:2675: UserWarning: `keep_geom_type=True` in overlay resulted in 6090 dropped geometries of different geometry types than df1 has. Set `keep_geom_type=False` to retain all geometries\n",
      "  return geopandas.overlay(\n"
     ]
    }
   ],
   "source": [
    "print(liveuamap_iraq_diss.shape)\n",
    "liveuamap_iraq_adm3_overlay = iraq_shp_adm3_simp.to_crs(\"EPSG:3394\").overlay(liveuamap_iraq_diss.to_crs(\"EPSG:3394\"),how='union')\n",
    "print(iraq_shp_adm3_simp.shape)\n",
    "print(liveuamap_iraq_adm3_overlay.shape)"
   ]
  },
  {
   "cell_type": "code",
   "execution_count": null,
   "metadata": {},
   "outputs": [],
   "source": [
    "# some of the liveuamap areas aren't completely in Iraq; remove these\n",
    "liveuamap_iraq_adm3_overlay = liveuamap_iraq_adm3_overlay[~liveuamap_iraq_adm3_overlay['ADM3_EN'].isna()]\n",
    "# calculate area of overlap between each liveuamap control area and adm3 area\n",
    "liveuamap_iraq_adm3_overlay.loc[:,'control_area'] = liveuamap_iraq_adm3_overlay.area\n",
    "\n",
    "# calculate entire area of adm3 area to get proportions\n",
    "iraq_shp_adm3_area = iraq_shp_adm3_simp.to_crs(\"EPSG:3394\")\n",
    "iraq_shp_adm3_area.loc[:,'adm3_area'] = iraq_shp_adm3_area.area\n",
    "print(liveuamap_iraq_adm3_overlay.shape)\n",
    "\n",
    "# use inner join (default) to remove some of the control areas which surround Iraq but are just outside of the \n",
    "# boundaries of the adm3 areas\n",
    "iraq_adm3_control_areas = liveuamap_iraq_adm3_overlay.merge(iraq_shp_adm3_area.drop(columns=['geometry']),on='ADM3_EN')\n",
    "iraq_adm3_control_areas = iraq_adm3_control_areas[~iraq_adm3_control_areas['control_agent'].isna()]\n",
    "print(iraq_adm3_control_areas.shape)"
   ]
  },
  {
   "cell_type": "code",
   "execution_count": 157,
   "metadata": {},
   "outputs": [
    {
     "name": "stdout",
     "output_type": "stream",
     "text": [
      "0\n",
      "0\n"
     ]
    }
   ],
   "source": [
    "# the adm3 areas which don't join with any Liveuamap areas will assume were never under any control recorded by Liveuamap,\n",
    "# so were not under ISIS controll\n",
    "print(len(iraq_adm3_control_areas[iraq_adm3_control_areas['control_agent'].isna()]['ADM3_EN']))\n",
    "print(len(iraq_adm3_control_areas[iraq_adm3_control_areas['control_agent'].isna()]['ADM3_EN'].unique()))"
   ]
  },
  {
   "cell_type": "code",
   "execution_count": 158,
   "metadata": {},
   "outputs": [
    {
     "name": "stderr",
     "output_type": "stream",
     "text": [
      "/home/npodpx/.virtualenvs/iraq_postconflict/lib/python3.9/site-packages/geopandas/geodataframe.py:1819: SettingWithCopyWarning: \n",
      "A value is trying to be set on a copy of a slice from a DataFrame.\n",
      "Try using .loc[row_indexer,col_indexer] = value instead\n",
      "\n",
      "See the caveats in the documentation: https://pandas.pydata.org/pandas-docs/stable/user_guide/indexing.html#returning-a-view-versus-a-copy\n",
      "  super().__setitem__(key, value)\n"
     ]
    }
   ],
   "source": [
    "iraq_adm3_control_areas.loc[:,'prop_control'] = iraq_adm3_control_areas['control_area'] / iraq_adm3_control_areas['adm3_area']"
   ]
  },
  {
   "cell_type": "code",
   "execution_count": 159,
   "metadata": {},
   "outputs": [
    {
     "data": {
      "text/html": [
       "<div>\n",
       "<style scoped>\n",
       "    .dataframe tbody tr th:only-of-type {\n",
       "        vertical-align: middle;\n",
       "    }\n",
       "\n",
       "    .dataframe tbody tr th {\n",
       "        vertical-align: top;\n",
       "    }\n",
       "\n",
       "    .dataframe thead th {\n",
       "        text-align: right;\n",
       "    }\n",
       "</style>\n",
       "<table border=\"1\" class=\"dataframe\">\n",
       "  <thead>\n",
       "    <tr style=\"text-align: right;\">\n",
       "      <th></th>\n",
       "      <th>ADM3_EN</th>\n",
       "      <th>date_dt</th>\n",
       "      <th>control_agent</th>\n",
       "      <th>geometry</th>\n",
       "      <th>control_area</th>\n",
       "      <th>adm3_area</th>\n",
       "      <th>prop_control</th>\n",
       "    </tr>\n",
       "  </thead>\n",
       "  <tbody>\n",
       "  </tbody>\n",
       "</table>\n",
       "</div>"
      ],
      "text/plain": [
       "Empty GeoDataFrame\n",
       "Columns: [ADM3_EN, date_dt, control_agent, geometry, control_area, adm3_area, prop_control]\n",
       "Index: []"
      ]
     },
     "execution_count": 159,
     "metadata": {},
     "output_type": "execute_result"
    }
   ],
   "source": [
    "# confirm the dissolving solved the duplicates issue\n",
    "test_isis = iraq_adm3_control_areas[iraq_adm3_control_areas['control_agent']=='isis']\n",
    "test_isis[test_isis.duplicated(subset=['date_dt','ADM3_EN'],keep=False)]"
   ]
  },
  {
   "cell_type": "code",
   "execution_count": 160,
   "metadata": {},
   "outputs": [],
   "source": [
    "iraq_adm3_isis_areas = iraq_adm3_control_areas[iraq_adm3_control_areas['control_agent']=='isis']\n",
    "iraq_adm3_isis_areas = iraq_adm3_isis_areas.drop(columns=['geometry'])\n",
    "iraq_adm3_isis_areas = iraq_adm3_isis_areas.rename(columns={'prop_control':'perc_isis_control',\n",
    "                                                            'adm3_area':'full_adm3_area'})"
   ]
  },
  {
   "cell_type": "code",
   "execution_count": 161,
   "metadata": {},
   "outputs": [],
   "source": [
    "liveuamap_iraq_adm3_full_joins_loc = source_dir + '/data/liveuamap/adm3_liveuamap_isis_perc_control_monthly.csv'\n",
    "\n",
    "iraq_adm3_isis_areas.to_csv(liveuamap_iraq_adm3_full_joins_loc,index=False)"
   ]
  },
  {
   "cell_type": "code",
   "execution_count": null,
   "metadata": {},
   "outputs": [],
   "source": []
  },
  {
   "cell_type": "code",
   "execution_count": null,
   "metadata": {},
   "outputs": [],
   "source": []
  },
  {
   "cell_type": "code",
   "execution_count": 79,
   "metadata": {},
   "outputs": [
    {
     "name": "stdout",
     "output_type": "stream",
     "text": [
      "(33983, 3)\n",
      "(32727, 3)\n"
     ]
    }
   ],
   "source": [
    "#liveuamap_iraq_adm3_isis = liveuamap_iraq_adm3_full[liveuamap_iraq_adm3_full['control_agent']=='isis']\n",
    "liveuamap_iraq_adm3_isis = liveuamap_iraq_adm3_full.drop(columns=['Name','Shape_Leng','Shape_Area'])\n",
    "print(liveuamap_iraq_adm3_isis.shape)\n",
    "# remove cases where multiple names for ISIS (eg, ISIS-Iraq and isis) were in the same admin area\n",
    "liveuamap_iraq_adm3_isis = liveuamap_iraq_adm3_isis.drop_duplicates()\n",
    "print(liveuamap_iraq_adm3_isis.shape)\n",
    "\n",
    "liveuamap_iraq_adm3_isis_test = liveuamap_iraq_adm3_isis.groupby(['ADM3_EN','date_dt']).count()"
   ]
  },
  {
   "cell_type": "code",
   "execution_count": 80,
   "metadata": {},
   "outputs": [
    {
     "data": {
      "text/html": [
       "<div>\n",
       "<style scoped>\n",
       "    .dataframe tbody tr th:only-of-type {\n",
       "        vertical-align: middle;\n",
       "    }\n",
       "\n",
       "    .dataframe tbody tr th {\n",
       "        vertical-align: top;\n",
       "    }\n",
       "\n",
       "    .dataframe thead th {\n",
       "        text-align: right;\n",
       "    }\n",
       "</style>\n",
       "<table border=\"1\" class=\"dataframe\">\n",
       "  <thead>\n",
       "    <tr style=\"text-align: right;\">\n",
       "      <th></th>\n",
       "      <th></th>\n",
       "      <th>control_agent</th>\n",
       "    </tr>\n",
       "    <tr>\n",
       "      <th>ADM3_EN</th>\n",
       "      <th>date_dt</th>\n",
       "      <th></th>\n",
       "    </tr>\n",
       "  </thead>\n",
       "  <tbody>\n",
       "    <tr>\n",
       "      <th rowspan=\"5\" valign=\"top\">Al-Abbasi</th>\n",
       "      <th>2016-07-01</th>\n",
       "      <td>2</td>\n",
       "    </tr>\n",
       "    <tr>\n",
       "      <th>2016-08-01</th>\n",
       "      <td>2</td>\n",
       "    </tr>\n",
       "    <tr>\n",
       "      <th>2016-09-01</th>\n",
       "      <td>2</td>\n",
       "    </tr>\n",
       "    <tr>\n",
       "      <th>2016-10-01</th>\n",
       "      <td>2</td>\n",
       "    </tr>\n",
       "    <tr>\n",
       "      <th>2016-11-01</th>\n",
       "      <td>2</td>\n",
       "    </tr>\n",
       "    <tr>\n",
       "      <th>...</th>\n",
       "      <th>...</th>\n",
       "      <td>...</td>\n",
       "    </tr>\n",
       "    <tr>\n",
       "      <th rowspan=\"5\" valign=\"top\">Zummar</th>\n",
       "      <th>2023-08-01</th>\n",
       "      <td>2</td>\n",
       "    </tr>\n",
       "    <tr>\n",
       "      <th>2023-09-01</th>\n",
       "      <td>2</td>\n",
       "    </tr>\n",
       "    <tr>\n",
       "      <th>2023-10-01</th>\n",
       "      <td>2</td>\n",
       "    </tr>\n",
       "    <tr>\n",
       "      <th>2023-11-01</th>\n",
       "      <td>2</td>\n",
       "    </tr>\n",
       "    <tr>\n",
       "      <th>2023-12-01</th>\n",
       "      <td>2</td>\n",
       "    </tr>\n",
       "  </tbody>\n",
       "</table>\n",
       "<p>3999 rows × 1 columns</p>\n",
       "</div>"
      ],
      "text/plain": [
       "                      control_agent\n",
       "ADM3_EN   date_dt                  \n",
       "Al-Abbasi 2016-07-01              2\n",
       "          2016-08-01              2\n",
       "          2016-09-01              2\n",
       "          2016-10-01              2\n",
       "          2016-11-01              2\n",
       "...                             ...\n",
       "Zummar    2023-08-01              2\n",
       "          2023-09-01              2\n",
       "          2023-10-01              2\n",
       "          2023-11-01              2\n",
       "          2023-12-01              2\n",
       "\n",
       "[3999 rows x 1 columns]"
      ]
     },
     "execution_count": 80,
     "metadata": {},
     "output_type": "execute_result"
    }
   ],
   "source": [
    "liveuamap_iraq_adm3_isis_test[liveuamap_iraq_adm3_isis_test['control_agent']>1]\n",
    "#liveuamap_iraq_adm3_isis_test"
   ]
  },
  {
   "cell_type": "code",
   "execution_count": null,
   "metadata": {},
   "outputs": [],
   "source": []
  }
 ],
 "metadata": {
  "kernelspec": {
   "display_name": "iraq_postconflict",
   "language": "python",
   "name": "python3"
  },
  "language_info": {
   "codemirror_mode": {
    "name": "ipython",
    "version": 3
   },
   "file_extension": ".py",
   "mimetype": "text/x-python",
   "name": "python",
   "nbconvert_exporter": "python",
   "pygments_lexer": "ipython3",
   "version": "3.9.16"
  }
 },
 "nbformat": 4,
 "nbformat_minor": 2
}
