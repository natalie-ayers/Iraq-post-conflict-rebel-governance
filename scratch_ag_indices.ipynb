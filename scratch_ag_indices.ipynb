{
 "cells": [
  {
   "cell_type": "code",
   "execution_count": 40,
   "metadata": {},
   "outputs": [],
   "source": [
    "import pandas as pd\n",
    "import geopandas as gpd\n",
    "import ee\n",
    "import os\n",
    "import matplotlib.pyplot as plt"
   ]
  },
  {
   "cell_type": "code",
   "execution_count": 2,
   "metadata": {},
   "outputs": [],
   "source": [
    "source_dir = '/mnt/c/Users/natra/Documents/Research/Iraq-post-conflict-rebel-governance'"
   ]
  },
  {
   "cell_type": "code",
   "execution_count": 3,
   "metadata": {},
   "outputs": [],
   "source": [
    "iraq_shp_adm3_loc = source_dir + '/data/geo_boundaries/irq-administrative-divisions-shapefiles/irq_admbnda_adm3_cso_20190603.shp'\n",
    "iraq_shp_adm3 = gpd.read_file(iraq_shp_adm3_loc)"
   ]
  },
  {
   "cell_type": "code",
   "execution_count": null,
   "metadata": {},
   "outputs": [],
   "source": [
    "#iraq_shp_adm3.plot()"
   ]
  },
  {
   "cell_type": "code",
   "execution_count": 8,
   "metadata": {},
   "outputs": [
    {
     "data": {
      "text/html": [
       "<div>\n",
       "<style scoped>\n",
       "    .dataframe tbody tr th:only-of-type {\n",
       "        vertical-align: middle;\n",
       "    }\n",
       "\n",
       "    .dataframe tbody tr th {\n",
       "        vertical-align: top;\n",
       "    }\n",
       "\n",
       "    .dataframe thead th {\n",
       "        text-align: right;\n",
       "    }\n",
       "</style>\n",
       "<table border=\"1\" class=\"dataframe\">\n",
       "  <thead>\n",
       "    <tr style=\"text-align: right;\">\n",
       "      <th></th>\n",
       "      <th>Shape_Area</th>\n",
       "      <th>ADM3_EN</th>\n",
       "      <th>ADM3_PCODE</th>\n",
       "      <th>ADM2_EN</th>\n",
       "      <th>ADM2_PCODE</th>\n",
       "      <th>ADM1_EN</th>\n",
       "      <th>ADM1_PCODE</th>\n",
       "      <th>geometry</th>\n",
       "    </tr>\n",
       "  </thead>\n",
       "  <tbody>\n",
       "    <tr>\n",
       "      <th>0</th>\n",
       "      <td>0.015754</td>\n",
       "      <td>Abi Gharaq</td>\n",
       "      <td>IQG07Q02N02</td>\n",
       "      <td>Al-Hilla</td>\n",
       "      <td>IQG07Q02</td>\n",
       "      <td>Babil</td>\n",
       "      <td>IQG07</td>\n",
       "      <td>POLYGON ((44.36654 32.56190, 44.36466 32.55802...</td>\n",
       "    </tr>\n",
       "    <tr>\n",
       "      <th>1</th>\n",
       "      <td>0.145883</td>\n",
       "      <td>Abu Dalf</td>\n",
       "      <td>IQG16Q01N02</td>\n",
       "      <td>Al-Daur</td>\n",
       "      <td>IQG16Q01</td>\n",
       "      <td>Salah Al-Din</td>\n",
       "      <td>IQG16</td>\n",
       "      <td>POLYGON ((44.19124 34.77808, 44.21397 34.75600...</td>\n",
       "    </tr>\n",
       "  </tbody>\n",
       "</table>\n",
       "</div>"
      ],
      "text/plain": [
       "   Shape_Area     ADM3_EN   ADM3_PCODE   ADM2_EN ADM2_PCODE       ADM1_EN  \\\n",
       "0    0.015754  Abi Gharaq  IQG07Q02N02  Al-Hilla   IQG07Q02         Babil   \n",
       "1    0.145883    Abu Dalf  IQG16Q01N02   Al-Daur   IQG16Q01  Salah Al-Din   \n",
       "\n",
       "  ADM1_PCODE                                           geometry  \n",
       "0      IQG07  POLYGON ((44.36654 32.56190, 44.36466 32.55802...  \n",
       "1      IQG16  POLYGON ((44.19124 34.77808, 44.21397 34.75600...  "
      ]
     },
     "execution_count": 8,
     "metadata": {},
     "output_type": "execute_result"
    }
   ],
   "source": [
    "iraq_adm3_filt = iraq_shp_adm3.loc[:,(\"Shape_Area\",'ADM3_EN','ADM3_PCODE',\n",
    "                                    'ADM2_EN','ADM2_PCODE','ADM1_EN','ADM1_PCODE',\n",
    "                                    'geometry')]\n",
    "                                    \n",
    "iraq_adm3_filt.head(2)"
   ]
  },
  {
   "cell_type": "code",
   "execution_count": 30,
   "metadata": {},
   "outputs": [],
   "source": [
    "# read in all 8-month-chunk EVI values and combine into single dataframe\n",
    "evi_8month_dir = source_dir + '/data/satellite_indices/evi/evi_8month_batches/'\n",
    "#os.listdir(evi_8month_dir)"
   ]
  },
  {
   "cell_type": "code",
   "execution_count": 31,
   "metadata": {},
   "outputs": [],
   "source": [
    "dfs = []\n",
    "for file in os.listdir(evi_8month_dir):\n",
    "    file_path = evi_8month_dir + file\n",
    "    df = pd.read_csv(file_path, index_col=None)\n",
    "    dfs.append(df)\n",
    "\n",
    "full_df = pd.concat(dfs, axis=0, ignore_index=True)"
   ]
  },
  {
   "cell_type": "code",
   "execution_count": 35,
   "metadata": {},
   "outputs": [
    {
     "name": "stdout",
     "output_type": "stream",
     "text": [
      "(162288, 10)\n",
      "2000-02-18\n",
      "2024-02-02\n"
     ]
    },
    {
     "data": {
      "text/html": [
       "<div>\n",
       "<style scoped>\n",
       "    .dataframe tbody tr th:only-of-type {\n",
       "        vertical-align: middle;\n",
       "    }\n",
       "\n",
       "    .dataframe tbody tr th {\n",
       "        vertical-align: top;\n",
       "    }\n",
       "\n",
       "    .dataframe thead th {\n",
       "        text-align: right;\n",
       "    }\n",
       "</style>\n",
       "<table border=\"1\" class=\"dataframe\">\n",
       "  <thead>\n",
       "    <tr style=\"text-align: right;\">\n",
       "      <th></th>\n",
       "      <th>ADM1_EN</th>\n",
       "      <th>ADM1_PCODE</th>\n",
       "      <th>ADM2_EN</th>\n",
       "      <th>ADM2_PCODE</th>\n",
       "      <th>ADM3_EN</th>\n",
       "      <th>ADM3_PCODE</th>\n",
       "      <th>Shape_Area</th>\n",
       "      <th>max_evi</th>\n",
       "      <th>mean_evi</th>\n",
       "      <th>date</th>\n",
       "      <th>mean_evi_scaled</th>\n",
       "      <th>max_evi_scaled</th>\n",
       "    </tr>\n",
       "  </thead>\n",
       "  <tbody>\n",
       "    <tr>\n",
       "      <th>0</th>\n",
       "      <td>Babil</td>\n",
       "      <td>IQG07</td>\n",
       "      <td>Al-Hilla</td>\n",
       "      <td>IQG07Q02</td>\n",
       "      <td>Abi Gharaq</td>\n",
       "      <td>IQG07Q02N02</td>\n",
       "      <td>0.015754</td>\n",
       "      <td>4324</td>\n",
       "      <td>2078.441277</td>\n",
       "      <td>2000-02-18</td>\n",
       "      <td>0.207844</td>\n",
       "      <td>0.4324</td>\n",
       "    </tr>\n",
       "    <tr>\n",
       "      <th>1</th>\n",
       "      <td>Salah Al-Din</td>\n",
       "      <td>IQG16</td>\n",
       "      <td>Al-Daur</td>\n",
       "      <td>IQG16Q01</td>\n",
       "      <td>Abu Dalf</td>\n",
       "      <td>IQG16Q01N02</td>\n",
       "      <td>0.145883</td>\n",
       "      <td>6333</td>\n",
       "      <td>969.853334</td>\n",
       "      <td>2000-02-18</td>\n",
       "      <td>0.096985</td>\n",
       "      <td>0.6333</td>\n",
       "    </tr>\n",
       "    <tr>\n",
       "      <th>2</th>\n",
       "      <td>Baghdad</td>\n",
       "      <td>IQG08</td>\n",
       "      <td>Al-Kadhmiyah</td>\n",
       "      <td>IQG08Q02</td>\n",
       "      <td>Abu Ghraib</td>\n",
       "      <td>IQG08Q02N02</td>\n",
       "      <td>0.064395</td>\n",
       "      <td>5653</td>\n",
       "      <td>1822.186110</td>\n",
       "      <td>2000-02-18</td>\n",
       "      <td>0.182219</td>\n",
       "      <td>0.5653</td>\n",
       "    </tr>\n",
       "    <tr>\n",
       "      <th>3</th>\n",
       "      <td>Al-Sulaymaniyah</td>\n",
       "      <td>IQG06</td>\n",
       "      <td>Chamchamal</td>\n",
       "      <td>IQG06Q02</td>\n",
       "      <td>Agjalare</td>\n",
       "      <td>IQG06Q02N01</td>\n",
       "      <td>0.068020</td>\n",
       "      <td>3030</td>\n",
       "      <td>1220.107244</td>\n",
       "      <td>2000-02-18</td>\n",
       "      <td>0.122011</td>\n",
       "      <td>0.3030</td>\n",
       "    </tr>\n",
       "    <tr>\n",
       "      <th>4</th>\n",
       "      <td>Thi Qar</td>\n",
       "      <td>IQG17</td>\n",
       "      <td>Suq Al-Shoyokh</td>\n",
       "      <td>IQG17Q05</td>\n",
       "      <td>Akaika</td>\n",
       "      <td>IQG17Q05N04</td>\n",
       "      <td>0.025196</td>\n",
       "      <td>5471</td>\n",
       "      <td>1161.979665</td>\n",
       "      <td>2000-02-18</td>\n",
       "      <td>0.116198</td>\n",
       "      <td>0.5471</td>\n",
       "    </tr>\n",
       "  </tbody>\n",
       "</table>\n",
       "</div>"
      ],
      "text/plain": [
       "           ADM1_EN ADM1_PCODE         ADM2_EN ADM2_PCODE     ADM3_EN  \\\n",
       "0            Babil      IQG07        Al-Hilla   IQG07Q02  Abi Gharaq   \n",
       "1     Salah Al-Din      IQG16         Al-Daur   IQG16Q01    Abu Dalf   \n",
       "2          Baghdad      IQG08    Al-Kadhmiyah   IQG08Q02  Abu Ghraib   \n",
       "3  Al-Sulaymaniyah      IQG06      Chamchamal   IQG06Q02    Agjalare   \n",
       "4          Thi Qar      IQG17  Suq Al-Shoyokh   IQG17Q05      Akaika   \n",
       "\n",
       "    ADM3_PCODE  Shape_Area  max_evi     mean_evi        date  mean_evi_scaled  \\\n",
       "0  IQG07Q02N02    0.015754     4324  2078.441277  2000-02-18         0.207844   \n",
       "1  IQG16Q01N02    0.145883     6333   969.853334  2000-02-18         0.096985   \n",
       "2  IQG08Q02N02    0.064395     5653  1822.186110  2000-02-18         0.182219   \n",
       "3  IQG06Q02N01    0.068020     3030  1220.107244  2000-02-18         0.122011   \n",
       "4  IQG17Q05N04    0.025196     5471  1161.979665  2000-02-18         0.116198   \n",
       "\n",
       "   max_evi_scaled  \n",
       "0          0.4324  \n",
       "1          0.6333  \n",
       "2          0.5653  \n",
       "3          0.3030  \n",
       "4          0.5471  "
      ]
     },
     "execution_count": 35,
     "metadata": {},
     "output_type": "execute_result"
    }
   ],
   "source": [
    "scale_factor = 0.0001\n",
    "\n",
    "print(full_df.shape)\n",
    "print(full_df['date'].min())\n",
    "print(full_df['date'].max())\n",
    "full_df['mean_evi_scaled'] = full_df['mean_evi'] * scale_factor\n",
    "full_df['max_evi_scaled'] = full_df['max_evi'] * scale_factor\n",
    "full_df.head()"
   ]
  },
  {
   "cell_type": "code",
   "execution_count": 36,
   "metadata": {},
   "outputs": [],
   "source": [
    "csv_final_output = source_dir + '/data/satellite_indices/evi/evi_stats_Feb2000-Feb2024.csv'\n",
    "full_df.to_csv(csv_final_output, index=False)"
   ]
  },
  {
   "cell_type": "code",
   "execution_count": 37,
   "metadata": {},
   "outputs": [],
   "source": [
    "adm3_geoms = iraq_adm3_filt.loc[:,('ADM3_PCODE','geometry')]"
   ]
  },
  {
   "cell_type": "code",
   "execution_count": 38,
   "metadata": {},
   "outputs": [
    {
     "data": {
      "text/html": [
       "<div>\n",
       "<style scoped>\n",
       "    .dataframe tbody tr th:only-of-type {\n",
       "        vertical-align: middle;\n",
       "    }\n",
       "\n",
       "    .dataframe tbody tr th {\n",
       "        vertical-align: top;\n",
       "    }\n",
       "\n",
       "    .dataframe thead th {\n",
       "        text-align: right;\n",
       "    }\n",
       "</style>\n",
       "<table border=\"1\" class=\"dataframe\">\n",
       "  <thead>\n",
       "    <tr style=\"text-align: right;\">\n",
       "      <th></th>\n",
       "      <th>ADM1_EN</th>\n",
       "      <th>ADM1_PCODE</th>\n",
       "      <th>ADM2_EN</th>\n",
       "      <th>ADM2_PCODE</th>\n",
       "      <th>ADM3_EN</th>\n",
       "      <th>ADM3_PCODE</th>\n",
       "      <th>Shape_Area</th>\n",
       "      <th>max_evi</th>\n",
       "      <th>mean_evi</th>\n",
       "      <th>date</th>\n",
       "      <th>mean_evi_scaled</th>\n",
       "      <th>max_evi_scaled</th>\n",
       "      <th>geometry</th>\n",
       "    </tr>\n",
       "  </thead>\n",
       "  <tbody>\n",
       "    <tr>\n",
       "      <th>0</th>\n",
       "      <td>Babil</td>\n",
       "      <td>IQG07</td>\n",
       "      <td>Al-Hilla</td>\n",
       "      <td>IQG07Q02</td>\n",
       "      <td>Abi Gharaq</td>\n",
       "      <td>IQG07Q02N02</td>\n",
       "      <td>0.015754</td>\n",
       "      <td>4324</td>\n",
       "      <td>2078.441277</td>\n",
       "      <td>2000-02-18</td>\n",
       "      <td>0.207844</td>\n",
       "      <td>0.4324</td>\n",
       "      <td>POLYGON ((44.36654 32.56190, 44.36466 32.55802...</td>\n",
       "    </tr>\n",
       "    <tr>\n",
       "      <th>1</th>\n",
       "      <td>Salah Al-Din</td>\n",
       "      <td>IQG16</td>\n",
       "      <td>Al-Daur</td>\n",
       "      <td>IQG16Q01</td>\n",
       "      <td>Abu Dalf</td>\n",
       "      <td>IQG16Q01N02</td>\n",
       "      <td>0.145883</td>\n",
       "      <td>6333</td>\n",
       "      <td>969.853334</td>\n",
       "      <td>2000-02-18</td>\n",
       "      <td>0.096985</td>\n",
       "      <td>0.6333</td>\n",
       "      <td>POLYGON ((44.19124 34.77808, 44.21397 34.75600...</td>\n",
       "    </tr>\n",
       "    <tr>\n",
       "      <th>2</th>\n",
       "      <td>Baghdad</td>\n",
       "      <td>IQG08</td>\n",
       "      <td>Al-Kadhmiyah</td>\n",
       "      <td>IQG08Q02</td>\n",
       "      <td>Abu Ghraib</td>\n",
       "      <td>IQG08Q02N02</td>\n",
       "      <td>0.064395</td>\n",
       "      <td>5653</td>\n",
       "      <td>1822.186110</td>\n",
       "      <td>2000-02-18</td>\n",
       "      <td>0.182219</td>\n",
       "      <td>0.5653</td>\n",
       "      <td>POLYGON ((44.05011 33.42133, 44.05663 33.42086...</td>\n",
       "    </tr>\n",
       "    <tr>\n",
       "      <th>3</th>\n",
       "      <td>Al-Sulaymaniyah</td>\n",
       "      <td>IQG06</td>\n",
       "      <td>Chamchamal</td>\n",
       "      <td>IQG06Q02</td>\n",
       "      <td>Agjalare</td>\n",
       "      <td>IQG06Q02N01</td>\n",
       "      <td>0.068020</td>\n",
       "      <td>3030</td>\n",
       "      <td>1220.107244</td>\n",
       "      <td>2000-02-18</td>\n",
       "      <td>0.122011</td>\n",
       "      <td>0.3030</td>\n",
       "      <td>POLYGON ((45.01327 35.70380, 45.01112 35.69807...</td>\n",
       "    </tr>\n",
       "    <tr>\n",
       "      <th>4</th>\n",
       "      <td>Thi Qar</td>\n",
       "      <td>IQG17</td>\n",
       "      <td>Suq Al-Shoyokh</td>\n",
       "      <td>IQG17Q05</td>\n",
       "      <td>Akaika</td>\n",
       "      <td>IQG17Q05N04</td>\n",
       "      <td>0.025196</td>\n",
       "      <td>5471</td>\n",
       "      <td>1161.979665</td>\n",
       "      <td>2000-02-18</td>\n",
       "      <td>0.116198</td>\n",
       "      <td>0.5471</td>\n",
       "      <td>POLYGON ((46.62339 31.01474, 46.62339 31.01424...</td>\n",
       "    </tr>\n",
       "  </tbody>\n",
       "</table>\n",
       "</div>"
      ],
      "text/plain": [
       "           ADM1_EN ADM1_PCODE         ADM2_EN ADM2_PCODE     ADM3_EN  \\\n",
       "0            Babil      IQG07        Al-Hilla   IQG07Q02  Abi Gharaq   \n",
       "1     Salah Al-Din      IQG16         Al-Daur   IQG16Q01    Abu Dalf   \n",
       "2          Baghdad      IQG08    Al-Kadhmiyah   IQG08Q02  Abu Ghraib   \n",
       "3  Al-Sulaymaniyah      IQG06      Chamchamal   IQG06Q02    Agjalare   \n",
       "4          Thi Qar      IQG17  Suq Al-Shoyokh   IQG17Q05      Akaika   \n",
       "\n",
       "    ADM3_PCODE  Shape_Area  max_evi     mean_evi        date  mean_evi_scaled  \\\n",
       "0  IQG07Q02N02    0.015754     4324  2078.441277  2000-02-18         0.207844   \n",
       "1  IQG16Q01N02    0.145883     6333   969.853334  2000-02-18         0.096985   \n",
       "2  IQG08Q02N02    0.064395     5653  1822.186110  2000-02-18         0.182219   \n",
       "3  IQG06Q02N01    0.068020     3030  1220.107244  2000-02-18         0.122011   \n",
       "4  IQG17Q05N04    0.025196     5471  1161.979665  2000-02-18         0.116198   \n",
       "\n",
       "   max_evi_scaled                                           geometry  \n",
       "0          0.4324  POLYGON ((44.36654 32.56190, 44.36466 32.55802...  \n",
       "1          0.6333  POLYGON ((44.19124 34.77808, 44.21397 34.75600...  \n",
       "2          0.5653  POLYGON ((44.05011 33.42133, 44.05663 33.42086...  \n",
       "3          0.3030  POLYGON ((45.01327 35.70380, 45.01112 35.69807...  \n",
       "4          0.5471  POLYGON ((46.62339 31.01474, 46.62339 31.01424...  "
      ]
     },
     "execution_count": 38,
     "metadata": {},
     "output_type": "execute_result"
    }
   ],
   "source": [
    "full_df_geo = full_df.merge(adm3_geoms, how='left',on='ADM3_PCODE')\n",
    "full_gdf = gpd.GeoDataFrame(full_df_geo, geometry=full_df_geo['geometry'])\n",
    "full_gdf.head()"
   ]
  },
  {
   "cell_type": "code",
   "execution_count": 39,
   "metadata": {},
   "outputs": [],
   "source": [
    "gdf_final_output = source_dir + '/data/satellite_indices/evi/evi_stats_Feb2000-Feb2024.geojson'\n",
    "full_gdf.to_file(gdf_final_output,driver='GeoJSON')"
   ]
  },
  {
   "cell_type": "code",
   "execution_count": 43,
   "metadata": {},
   "outputs": [
    {
     "data": {
      "text/plain": [
       "array(['Al-Hilla', 'Al-Daur', 'Al-Kadhmiyah', 'Chamchamal',\n",
       "       'Suq Al-Shoyokh', 'Al-Hawiga', 'Al-Mejar Al-Kabir', 'Al-Namaniya',\n",
       "       'Tikrit', 'Al-Falluja', 'Al-Khalis', 'Telafar', 'Al-Suwaira',\n",
       "       'Heet', 'Al-Faw', 'Al-Hai', 'Al-Nasiriya', 'Afaq', 'Al-Diwaniya',\n",
       "       'Al-Qurna', 'Al-Shatra', 'Balad', 'Duhok', 'Al-Mahaweel',\n",
       "       'Al-Adhamiya', 'Al-Rifai', 'Al-Chibayish', 'Al-Ramadi', 'Haditha',\n",
       "       'Al-Basrah', 'Kerbela', 'Al-Najaf', 'Al-Manathera', 'Al-Rumaitha',\n",
       "       'Al-Midaina', 'Al-Kufa', 'Al-Mussyab', 'Al-Hindiya', \"Al-Mada'in\",\n",
       "       'Al-Kaim', 'Al-Risafa', 'Al-Mahmoudiya', 'Al-Hashimiya',\n",
       "       'Al-Karkh', 'Al-Shamiya', 'Al-Kahla', 'Al-Mosul', 'Kirkuk',\n",
       "       'Samarra', 'Shat Al-Arab', 'Al-Rutba', 'Al-Baaj', 'Sinjar',\n",
       "       'Tilkaef', 'Daquq', 'Khanaqin', 'Al-Hamza', 'Al-Maimouna',\n",
       "       'Abu Al-Khaseeb', 'Al-Samawa', 'Beygee', 'Al-Amara',\n",
       "       'Al-Muqdadiya', 'Ali Al-Gharbi', 'Dibis', 'Tooz Khurmato',\n",
       "       'Al-Shikhan', 'Rawanduz', 'Aqra', 'Al-Hamdaniya', 'Al-Amadiya',\n",
       "       'Al-Zibar', 'Sumail', 'Zakho', 'Al-Sulaymaniyah', 'Kalar',\n",
       "       'Baquba', 'Halabcha', 'Rania', 'Makhmour', 'Dokan', 'Shaqlawa',\n",
       "       'Pshdar', 'Kifri', 'Badra', 'Panjwin', 'Baladruz', 'Ain Al-Tamur',\n",
       "       'Al-Khidhir', 'Al-Kut', 'Al-Salman', 'Al-Shirqat', 'Al-Thawra',\n",
       "       'Al-Zubair', 'Ana', 'Derbendikhan', 'Erbil', 'Al-Hatra',\n",
       "       'Koysinjaq', 'Qalat Saleh', 'Sharbazher'], dtype=object)"
      ]
     },
     "execution_count": 43,
     "metadata": {},
     "output_type": "execute_result"
    }
   ],
   "source": [
    "full_df_geo['ADM2_EN'].unique()"
   ]
  },
  {
   "cell_type": "code",
   "execution_count": 45,
   "metadata": {},
   "outputs": [
    {
     "data": {
      "text/plain": [
       "array(['Al-Alam', 'Um Al-Qura'], dtype=object)"
      ]
     },
     "execution_count": 45,
     "metadata": {},
     "output_type": "execute_result"
    }
   ],
   "source": [
    "tikrit_df = full_df_geo[full_df_geo['ADM2_EN']=='Tikrit']\n",
    "tikrit_df['ADM3_EN'].unique()"
   ]
  },
  {
   "cell_type": "code",
   "execution_count": 48,
   "metadata": {},
   "outputs": [],
   "source": [
    "tikrit_df = full_df_geo[full_df_geo['ADM2_EN']=='Tikrit']\n",
    "\n",
    "tikrit_df = tikrit_df.set_index('date')"
   ]
  },
  {
   "cell_type": "code",
   "execution_count": 49,
   "metadata": {},
   "outputs": [
    {
     "data": {
      "image/png": "[encoded data removed]",
      "text/plain": [
       "<Figure size 640x480 with 1 Axes>"
      ]
     },
     "metadata": {},
     "output_type": "display_data"
    }
   ],
   "source": [
    "fig, ax = plt.subplots()\n",
    "for adm3, df in tikrit_df.groupby('ADM3_EN'):\n",
    "    tikrit_df.plot(y='max_evi_scaled', ax=ax, label=adm3)"
   ]
  },
  {
   "cell_type": "code",
   "execution_count": null,
   "metadata": {},
   "outputs": [],
   "source": []
  }
 ],
 "metadata": {
  "kernelspec": {
   "display_name": "iraq_postconflict",
   "language": "python",
   "name": "python3"
  },
  "language_info": {
   "codemirror_mode": {
    "name": "ipython",
    "version": 3
   },
   "file_extension": ".py",
   "mimetype": "text/x-python",
   "name": "python",
   "nbconvert_exporter": "python",
   "pygments_lexer": "ipython3",
   "version": "3.9.16"
  }
 },
 "nbformat": 4,
 "nbformat_minor": 2
}
