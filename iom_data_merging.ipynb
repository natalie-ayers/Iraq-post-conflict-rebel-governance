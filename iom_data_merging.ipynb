{
 "cells": [
  {
   "cell_type": "code",
   "execution_count": 8,
   "metadata": {},
   "outputs": [],
   "source": [
    "import pandas as pd\n",
    "import geopandas as gpd"
   ]
  },
  {
   "cell_type": "code",
   "execution_count": 2,
   "metadata": {},
   "outputs": [],
   "source": [
    "source_dir = '/mnt/c/Users/natra/Documents/Research/Iraq-post-conflict-rebel-governance'"
   ]
  },
  {
   "cell_type": "code",
   "execution_count": 4,
   "metadata": {},
   "outputs": [],
   "source": [
    "iom_2022_file = source_dir + '/data/iom/2022_collapsed.csv'\n",
    "iom_2022 = pd.read_csv(iom_2022_file)"
   ]
  },
  {
   "cell_type": "code",
   "execution_count": 7,
   "metadata": {},
   "outputs": [
    {
     "data": {
      "text/html": [
       "<div>\n",
       "<style scoped>\n",
       "    .dataframe tbody tr th:only-of-type {\n",
       "        vertical-align: middle;\n",
       "    }\n",
       "\n",
       "    .dataframe tbody tr th {\n",
       "        vertical-align: top;\n",
       "    }\n",
       "\n",
       "    .dataframe thead th {\n",
       "        text-align: right;\n",
       "    }\n",
       "</style>\n",
       "<table border=\"1\" class=\"dataframe\">\n",
       "  <thead>\n",
       "    <tr style=\"text-align: right;\">\n",
       "      <th></th>\n",
       "      <th>LocationID</th>\n",
       "      <th>Governorate</th>\n",
       "      <th>District</th>\n",
       "      <th>Subdistrict</th>\n",
       "      <th>LocationType</th>\n",
       "      <th>PlaceType</th>\n",
       "      <th>LocationEn</th>\n",
       "      <th>isgov</th>\n",
       "    </tr>\n",
       "  </thead>\n",
       "  <tbody>\n",
       "    <tr>\n",
       "      <th>0</th>\n",
       "      <td>2101002</td>\n",
       "      <td>Anbar</td>\n",
       "      <td>Al-Ka'im</td>\n",
       "      <td>Al-Obiadi</td>\n",
       "      <td>Peri-urban</td>\n",
       "      <td>Neighborhood</td>\n",
       "      <td>Al Aubaidi Al Qadima</td>\n",
       "      <td>1</td>\n",
       "    </tr>\n",
       "    <tr>\n",
       "      <th>1</th>\n",
       "      <td>2101033</td>\n",
       "      <td>Anbar</td>\n",
       "      <td>Al-Ka'im</td>\n",
       "      <td>Al-Obiadi</td>\n",
       "      <td>Peri-urban</td>\n",
       "      <td>Neighborhood</td>\n",
       "      <td>Tiwaan</td>\n",
       "      <td>1</td>\n",
       "    </tr>\n",
       "    <tr>\n",
       "      <th>2</th>\n",
       "      <td>2101032</td>\n",
       "      <td>Anbar</td>\n",
       "      <td>Al-Ka'im</td>\n",
       "      <td>Al-Obiadi</td>\n",
       "      <td>Rural</td>\n",
       "      <td>Village</td>\n",
       "      <td>Al Masharea</td>\n",
       "      <td>1</td>\n",
       "    </tr>\n",
       "    <tr>\n",
       "      <th>3</th>\n",
       "      <td>2101010</td>\n",
       "      <td>Anbar</td>\n",
       "      <td>Al-Ka'im</td>\n",
       "      <td>Al-Obiadi</td>\n",
       "      <td>Rural</td>\n",
       "      <td>Village</td>\n",
       "      <td>Al Zalla</td>\n",
       "      <td>1</td>\n",
       "    </tr>\n",
       "    <tr>\n",
       "      <th>4</th>\n",
       "      <td>2101034</td>\n",
       "      <td>Anbar</td>\n",
       "      <td>Al-Ka'im</td>\n",
       "      <td>Al-Obiadi</td>\n",
       "      <td>Rural</td>\n",
       "      <td>Village</td>\n",
       "      <td>Dghima village</td>\n",
       "      <td>1</td>\n",
       "    </tr>\n",
       "  </tbody>\n",
       "</table>\n",
       "</div>"
      ],
      "text/plain": [
       "   LocationID Governorate  District Subdistrict LocationType     PlaceType  \\\n",
       "0     2101002       Anbar  Al-Ka'im   Al-Obiadi   Peri-urban  Neighborhood   \n",
       "1     2101033       Anbar  Al-Ka'im   Al-Obiadi   Peri-urban  Neighborhood   \n",
       "2     2101032       Anbar  Al-Ka'im   Al-Obiadi        Rural       Village   \n",
       "3     2101010       Anbar  Al-Ka'im   Al-Obiadi        Rural       Village   \n",
       "4     2101034       Anbar  Al-Ka'im   Al-Obiadi        Rural       Village   \n",
       "\n",
       "             LocationEn  isgov  \n",
       "0  Al Aubaidi Al Qadima      1  \n",
       "1                Tiwaan      1  \n",
       "2           Al Masharea      1  \n",
       "3              Al Zalla      1  \n",
       "4        Dghima village      1  "
      ]
     },
     "execution_count": 7,
     "metadata": {},
     "output_type": "execute_result"
    }
   ],
   "source": [
    "iom_2022.head()"
   ]
  },
  {
   "cell_type": "code",
   "execution_count": 14,
   "metadata": {},
   "outputs": [
    {
     "name": "stdout",
     "output_type": "stream",
     "text": [
      "264\n",
      "94\n",
      "18\n"
     ]
    }
   ],
   "source": [
    "print(len(iom_2022.Subdistrict.unique()))\n",
    "print(len(iom_2022.District.unique()))\n",
    "print(len(iom_2022.Governorate.unique()))"
   ]
  },
  {
   "cell_type": "code",
   "execution_count": 10,
   "metadata": {},
   "outputs": [],
   "source": [
    "iraq_shp_adm3_loc = source_dir + '/data/geo_boundaries/irq-administrative-divisions-shapefiles/irq_admbnda_adm3_cso_20190603.shp'\n",
    "iraq_shp_adm3 = gpd.read_file(iraq_shp_adm3_loc)"
   ]
  },
  {
   "cell_type": "code",
   "execution_count": 13,
   "metadata": {},
   "outputs": [
    {
     "name": "stdout",
     "output_type": "stream",
     "text": [
      "294\n",
      "101\n",
      "18\n"
     ]
    }
   ],
   "source": [
    "print(len(iraq_shp_adm3.ADM3_EN.unique()))\n",
    "print(len(iraq_shp_adm3.ADM2_EN.unique()))\n",
    "print(len(iraq_shp_adm3.ADM1_EN.unique()))"
   ]
  },
  {
   "cell_type": "markdown",
   "metadata": {},
   "source": [
    "Governorates correspond to Adm 1 locations - 18 total\n",
    "\n",
    "Districts - there are 105 in the overall IOM DTM data, but only 101 in Admin 2.\n",
    "\n",
    "Subdistricts - correspond to Adm 3 locations.  \n",
    "\n",
    "Location - according to IOM's definition, corresponds to the 4th official administrative division (https://iraqdtm.iom.int/MasterList#Methodology). However, the shapefiles for these adm 4 locations do not seem to be available (as described in the Metadata page for the Iraq Populated Places database OCHA created: https://data.humdata.org/dataset/iraq-populated-places-2021, where they say \"If, in the future, administrative level 4 boundaries are obtained, these P-codes may need to be regenerated.\")"
   ]
  },
  {
   "cell_type": "code",
   "execution_count": 16,
   "metadata": {},
   "outputs": [],
   "source": [
    "# testing how easy it is to join IOM with Adm 3 names\n",
    "iom_subdistricts = pd.DataFrame({'iom_subd':iom_2022.Subdistrict.unique()})\n",
    "iraq_adm3_names = pd.DataFrame({'adm3':iraq_shp_adm3.ADM3_EN.unique()})"
   ]
  },
  {
   "cell_type": "code",
   "execution_count": 20,
   "metadata": {},
   "outputs": [
    {
     "name": "stdout",
     "output_type": "stream",
     "text": [
      "(449, 2)\n",
      "(185, 2)\n",
      "(155, 2)\n"
     ]
    }
   ],
   "source": [
    "join_names = pd.merge(iom_subdistricts, iraq_adm3_names, left_on='iom_subd', right_on='adm3',how='outer')\n",
    "print(join_names.shape)\n",
    "# Adm 3 names that don't immediately match to IOM Subdistrict names\n",
    "print(join_names[join_names['iom_subd'].isna()].shape)\n",
    "# IOM Subdistrict names that don't immediately match to Adm 3 names\n",
    "print(join_names[join_names['adm3'].isna()].shape)"
   ]
  },
  {
   "cell_type": "code",
   "execution_count": 22,
   "metadata": {},
   "outputs": [],
   "source": [
    "iom_subd_tocorrect = join_names[join_names['adm3'].isna()]['iom_subd']\n",
    "adm3_tocorrect = join_names[join_names['iom_subd'].isna()]['adm3']"
   ]
  },
  {
   "cell_type": "code",
   "execution_count": 33,
   "metadata": {},
   "outputs": [
    {
     "name": "stdout",
     "output_type": "stream",
     "text": [
      "(185, 2)\n"
     ]
    },
    {
     "data": {
      "text/html": [
       "<div>\n",
       "<style scoped>\n",
       "    .dataframe tbody tr th:only-of-type {\n",
       "        vertical-align: middle;\n",
       "    }\n",
       "\n",
       "    .dataframe tbody tr th {\n",
       "        vertical-align: top;\n",
       "    }\n",
       "\n",
       "    .dataframe thead th {\n",
       "        text-align: right;\n",
       "    }\n",
       "</style>\n",
       "<table border=\"1\" class=\"dataframe\">\n",
       "  <thead>\n",
       "    <tr style=\"text-align: right;\">\n",
       "      <th></th>\n",
       "      <th>iom_subdistict</th>\n",
       "      <th>adm3_en</th>\n",
       "    </tr>\n",
       "  </thead>\n",
       "  <tbody>\n",
       "    <tr>\n",
       "      <th>0</th>\n",
       "      <td>9 Nissan</td>\n",
       "      <td>Abi Gharaq</td>\n",
       "    </tr>\n",
       "    <tr>\n",
       "      <th>1</th>\n",
       "      <td>AL-Hurr</td>\n",
       "      <td>Abu Dalf</td>\n",
       "    </tr>\n",
       "    <tr>\n",
       "      <th>2</th>\n",
       "      <td>AL-Khayrat</td>\n",
       "      <td>Abu Ghraib</td>\n",
       "    </tr>\n",
       "    <tr>\n",
       "      <th>3</th>\n",
       "      <td>Abaiji</td>\n",
       "      <td>Agjalare</td>\n",
       "    </tr>\n",
       "    <tr>\n",
       "      <th>4</th>\n",
       "      <td>Abo Sayda</td>\n",
       "      <td>Al-Abbasi</td>\n",
       "    </tr>\n",
       "  </tbody>\n",
       "</table>\n",
       "</div>"
      ],
      "text/plain": [
       "  iom_subdistict     adm3_en\n",
       "0       9 Nissan  Abi Gharaq\n",
       "1        AL-Hurr    Abu Dalf\n",
       "2     AL-Khayrat  Abu Ghraib\n",
       "3         Abaiji    Agjalare\n",
       "4      Abo Sayda   Al-Abbasi"
      ]
     },
     "execution_count": 33,
     "metadata": {},
     "output_type": "execute_result"
    }
   ],
   "source": [
    "names_tomatch = pd.DataFrame({'iom_subdistict':list(sorted(iom_subd_tocorrect))})\n",
    "names_tomatch = names_tomatch.join(pd.DataFrame({'adm3_en':list(sorted(adm3_tocorrect))}),how='outer')\n",
    "print(names_tomatch.shape)\n",
    "names_tomatch.head()"
   ]
  },
  {
   "cell_type": "code",
   "execution_count": 35,
   "metadata": {},
   "outputs": [],
   "source": [
    "names_tomatch_file = source_dir + 'adm3_names_tomatch.csv'\n",
    "names_tomatch.to_csv(names_tomatch_file)"
   ]
  },
  {
   "cell_type": "code",
   "execution_count": null,
   "metadata": {},
   "outputs": [],
   "source": []
  }
 ],
 "metadata": {
  "kernelspec": {
   "display_name": "iraq_postconflict",
   "language": "python",
   "name": "python3"
  },
  "language_info": {
   "codemirror_mode": {
    "name": "ipython",
    "version": 3
   },
   "file_extension": ".py",
   "mimetype": "text/x-python",
   "name": "python",
   "nbconvert_exporter": "python",
   "pygments_lexer": "ipython3",
   "version": "3.9.16"
  }
 },
 "nbformat": 4,
 "nbformat_minor": 2
}
